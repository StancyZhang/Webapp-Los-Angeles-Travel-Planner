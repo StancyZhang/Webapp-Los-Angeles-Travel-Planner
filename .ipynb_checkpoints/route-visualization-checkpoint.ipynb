{
 "cells": [
  {
   "cell_type": "markdown",
   "id": "tested-alberta",
   "metadata": {},
   "source": [
    "### Route Visualization using Geopy, Polyline, Folium\n",
    "Using this code, we can create an interactive route visualization using Geopy, Polyline, and Folium. \n",
    "\n",
    "Originally in our project proposal we said we would use the Google Maps API, but through experimentation it proved to be difficult to work with. You can obtain an API key from Google, but a lot of features cannot be accessed unless you provide billing information to Google. If you provide billing information, there is a free version you can use, but you have a limited number of geocode requests you can make. Requests over that threshold will charge you using your billing information. That's not something that I think we want to deal with for a school project, so I tried to find some alternate methods."
   ]
  },
  {
   "cell_type": "markdown",
   "id": "romantic-scope",
   "metadata": {},
   "source": [
    "### Modules\n",
    "The modules we'll be using throughout the code are Pandas and Requests.\n",
    "- **Pandas**: We use Pandas to create the dataframe containing all of the addresses and their corresponding longitude and latitude coordinates. This dataframe will also be used later in selecting which specific locations we want to visualize.\n",
    "- **requests**: This module allows us to make http requests in Python. We use requests to query from OSRM and get coordinates for each of our addresses."
   ]
  },
  {
   "cell_type": "markdown",
   "id": "requested-trigger",
   "metadata": {},
   "source": [
    "### Web Scraping"
   ]
  },
  {
   "cell_type": "code",
   "execution_count": 69,
   "id": "featured-serbia",
   "metadata": {},
   "outputs": [
    {
     "name": "stdout",
     "output_type": "stream",
     "text": [
      "importing Jupyter notebook from webscraping_code_touristsite_top150.ipynb\n",
      "Which tourist sites do you want to go? (*please input the names of the tourist sites separated by a period)\n",
      "importing Jupyter notebook from webscraping_code_hotel_all.ipynb\n",
      "Which hotel do you want to live?\n"
     ]
    }
   ],
   "source": [
    "# main modules to use\n",
    "import pandas as pd # create the locations dataframe\n",
    "import requests # send http requests\n",
    "from bs4 import BeautifulSoup as soup\n",
    "import import_ipynb\n",
    "import webscraping_code_touristsite_top150 as scraper\n",
    "import webscraping_code_hotel_all as hotel_scraper"
   ]
  },
  {
   "cell_type": "code",
   "execution_count": 103,
   "id": "senior-thursday",
   "metadata": {},
   "outputs": [],
   "source": [
    "html_main = requests.get(\"https://www.tripadvisor.com/Attractions-g32655-Activities-a_allAttractions.true-Los_Angeles_California.html\")\n",
    "bsobj_main = soup(html_main.content, \"lxml\")"
   ]
  },
  {
   "cell_type": "code",
   "execution_count": 104,
   "id": "double-mouth",
   "metadata": {},
   "outputs": [],
   "source": [
    "rank = []\n",
    "tourist_site_name = []\n",
    "tourist_site_link = []\n",
    "for s in bsobj_main.find_all(\"section\", class_=\"_2TabEHya _3YhIe-Un\"):\n",
    "    rank.append(s.find(\"div\", class_=\"_1gpq3zsA _1zP41Z7X\").text.split(\". \")[0])\n",
    "    tourist_site_name.append(s.find(\"div\", class_=\"_1gpq3zsA _1zP41Z7X\").text.split(\". \")[1])\n",
    "    tourist_site_link.append(s.find(\"div\", class_=\"_3W_31Rvp _1nUIPWja _1l7Rsl_O _3ksqqIVm _2b3s5IMB\").a[\"href\"])"
   ]
  },
  {
   "cell_type": "code",
   "execution_count": 105,
   "id": "colonial-watson",
   "metadata": {},
   "outputs": [],
   "source": [
    "top_150 = list(range(30, 150, 30))"
   ]
  },
  {
   "cell_type": "code",
   "execution_count": 106,
   "id": "regional-removal",
   "metadata": {},
   "outputs": [],
   "source": [
    "for num in top_150:\n",
    "    html_main = requests.get(\"https://www.tripadvisor.com/Attractions-g32655-Activities-oa\" + str(num) + \"-Los_Angeles_California.html\")\n",
    "    bsobj_main = soup(html_main.content, \"lxml\")\n",
    "    \n",
    "    for s in bsobj_main.find_all(\"section\", class_=\"_2TabEHya _3YhIe-Un\"):\n",
    "        rank.append(s.find(\"div\", class_=\"_1gpq3zsA _1zP41Z7X\").text.split(\". \")[0])\n",
    "        tourist_site_name.append(s.find(\"div\", class_=\"_1gpq3zsA _1zP41Z7X\").text.split(\". \")[1])\n",
    "        tourist_site_link.append(s.find(\"div\", class_=\"_3W_31Rvp _1nUIPWja _1l7Rsl_O _3ksqqIVm _2b3s5IMB\").a[\"href\"])"
   ]
  },
  {
   "cell_type": "code",
   "execution_count": 107,
   "id": "missing-newark",
   "metadata": {},
   "outputs": [],
   "source": [
    "tourist_site_link_update = []\n",
    "for site in tourist_site_link:\n",
    "    tourist_site_link_update.append(\"https://www.tripadvisor.com/\" + site)"
   ]
  },
  {
   "cell_type": "code",
   "execution_count": 108,
   "id": "interracial-helen",
   "metadata": {},
   "outputs": [
    {
     "data": {
      "text/html": [
       "<div>\n",
       "<style scoped>\n",
       "    .dataframe tbody tr th:only-of-type {\n",
       "        vertical-align: middle;\n",
       "    }\n",
       "\n",
       "    .dataframe tbody tr th {\n",
       "        vertical-align: top;\n",
       "    }\n",
       "\n",
       "    .dataframe thead th {\n",
       "        text-align: right;\n",
       "    }\n",
       "</style>\n",
       "<table border=\"1\" class=\"dataframe\">\n",
       "  <thead>\n",
       "    <tr style=\"text-align: right;\">\n",
       "      <th></th>\n",
       "      <th>Rank</th>\n",
       "      <th>Tourist Site Name</th>\n",
       "      <th>Site Link</th>\n",
       "    </tr>\n",
       "  </thead>\n",
       "  <tbody>\n",
       "    <tr>\n",
       "      <th>0</th>\n",
       "      <td>1</td>\n",
       "      <td>The Getty Center</td>\n",
       "      <td>https://www.tripadvisor.com//Attraction_Review...</td>\n",
       "    </tr>\n",
       "    <tr>\n",
       "      <th>1</th>\n",
       "      <td>2</td>\n",
       "      <td>Griffith Observatory</td>\n",
       "      <td>https://www.tripadvisor.com//Attraction_Review...</td>\n",
       "    </tr>\n",
       "    <tr>\n",
       "      <th>2</th>\n",
       "      <td>3</td>\n",
       "      <td>Universal Studios Hollywood</td>\n",
       "      <td>https://www.tripadvisor.com//Attraction_Review...</td>\n",
       "    </tr>\n",
       "    <tr>\n",
       "      <th>3</th>\n",
       "      <td>4</td>\n",
       "      <td>Petersen Automotive Museum</td>\n",
       "      <td>https://www.tripadvisor.com//Attraction_Review...</td>\n",
       "    </tr>\n",
       "    <tr>\n",
       "      <th>4</th>\n",
       "      <td>5</td>\n",
       "      <td>The Wizarding World of Harry Potter</td>\n",
       "      <td>https://www.tripadvisor.com//Attraction_Review...</td>\n",
       "    </tr>\n",
       "    <tr>\n",
       "      <th>...</th>\n",
       "      <td>...</td>\n",
       "      <td>...</td>\n",
       "      <td>...</td>\n",
       "    </tr>\n",
       "    <tr>\n",
       "      <th>145</th>\n",
       "      <td>146</td>\n",
       "      <td>S.S</td>\n",
       "      <td>https://www.tripadvisor.com//Attraction_Review...</td>\n",
       "    </tr>\n",
       "    <tr>\n",
       "      <th>146</th>\n",
       "      <td>147</td>\n",
       "      <td>Kenneth Hahn State Recreation Area</td>\n",
       "      <td>https://www.tripadvisor.com//Attraction_Review...</td>\n",
       "    </tr>\n",
       "    <tr>\n",
       "      <th>147</th>\n",
       "      <td>148</td>\n",
       "      <td>Geffen Playhouse</td>\n",
       "      <td>https://www.tripadvisor.com//Attraction_Review...</td>\n",
       "    </tr>\n",
       "    <tr>\n",
       "      <th>148</th>\n",
       "      <td>149</td>\n",
       "      <td>Los Angeles Police Museum</td>\n",
       "      <td>https://www.tripadvisor.com//Attraction_Review...</td>\n",
       "    </tr>\n",
       "    <tr>\n",
       "      <th>149</th>\n",
       "      <td>150</td>\n",
       "      <td>Melrose Place</td>\n",
       "      <td>https://www.tripadvisor.com//Attraction_Review...</td>\n",
       "    </tr>\n",
       "  </tbody>\n",
       "</table>\n",
       "<p>150 rows × 3 columns</p>\n",
       "</div>"
      ],
      "text/plain": [
       "    Rank                    Tourist Site Name  \\\n",
       "0      1                     The Getty Center   \n",
       "1      2                 Griffith Observatory   \n",
       "2      3          Universal Studios Hollywood   \n",
       "3      4           Petersen Automotive Museum   \n",
       "4      5  The Wizarding World of Harry Potter   \n",
       "..   ...                                  ...   \n",
       "145  146                                  S.S   \n",
       "146  147   Kenneth Hahn State Recreation Area   \n",
       "147  148                     Geffen Playhouse   \n",
       "148  149            Los Angeles Police Museum   \n",
       "149  150                        Melrose Place   \n",
       "\n",
       "                                             Site Link  \n",
       "0    https://www.tripadvisor.com//Attraction_Review...  \n",
       "1    https://www.tripadvisor.com//Attraction_Review...  \n",
       "2    https://www.tripadvisor.com//Attraction_Review...  \n",
       "3    https://www.tripadvisor.com//Attraction_Review...  \n",
       "4    https://www.tripadvisor.com//Attraction_Review...  \n",
       "..                                                 ...  \n",
       "145  https://www.tripadvisor.com//Attraction_Review...  \n",
       "146  https://www.tripadvisor.com//Attraction_Review...  \n",
       "147  https://www.tripadvisor.com//Attraction_Review...  \n",
       "148  https://www.tripadvisor.com//Attraction_Review...  \n",
       "149  https://www.tripadvisor.com//Attraction_Review...  \n",
       "\n",
       "[150 rows x 3 columns]"
      ]
     },
     "execution_count": 108,
     "metadata": {},
     "output_type": "execute_result"
    }
   ],
   "source": [
    "data = {\"Rank\": rank, \"Tourist Site Name\": tourist_site_name, \"Site Link\": tourist_site_link_update}\n",
    "df = pd.DataFrame.from_dict(data)\n",
    "df"
   ]
  },
  {
   "cell_type": "code",
   "execution_count": 109,
   "id": "certain-cincinnati",
   "metadata": {},
   "outputs": [
    {
     "data": {
      "text/plain": [
       "['The Getty Center',\n",
       " 'Griffith Observatory',\n",
       " 'Universal Studios Hollywood',\n",
       " 'Petersen Automotive Museum',\n",
       " 'The Wizarding World of Harry Potter',\n",
       " 'Battleship USS Iowa Museum',\n",
       " 'The Broad',\n",
       " 'Staples Center',\n",
       " 'Griffith Park',\n",
       " 'The Grove',\n",
       " 'La Brea Tar Pits and Museum',\n",
       " 'Walt Disney Concert Hall',\n",
       " 'Natural History Museum of Los Angeles County',\n",
       " 'Runyon Canyon Park',\n",
       " 'Venice Canals Walkway',\n",
       " 'The Nethercutt Collection',\n",
       " 'Dodger Stadium',\n",
       " 'Union Station',\n",
       " 'Hollywood Sign',\n",
       " 'Bradbury Building',\n",
       " 'Lake Hollywood Park',\n",
       " 'Universal CityWalk Hollywood',\n",
       " 'Los Angeles County Museum of Art',\n",
       " 'Madame Tussauds Hollywood',\n",
       " 'Abbot Kinney Boulevard',\n",
       " 'Angels Flight Railway',\n",
       " 'University of California, Los Angeles (UCLA)',\n",
       " 'Hollywood Forever Cemetery',\n",
       " 'Citadel Outlets',\n",
       " 'Pantages Theatre',\n",
       " 'The Hollywood Museum',\n",
       " 'OUE Skyspace LA',\n",
       " 'Los Angeles Central Library',\n",
       " 'Olvera Street',\n",
       " 'Pierce Brothers Westwood Village Memorial Park',\n",
       " 'Dolby Theatre',\n",
       " 'The Greek Theatre',\n",
       " 'City Hall',\n",
       " 'Echo Park',\n",
       " 'Urban Light',\n",
       " 'Little Tokyo',\n",
       " 'Skirball Cultural Center',\n",
       " 'Hollywood Bowl Museum',\n",
       " 'Autry Museum of the American West',\n",
       " 'San Antonio Winery',\n",
       " 'Korean Bell of Friendship',\n",
       " 'Cathedral of Our Lady of the Angels',\n",
       " 'Topanga State Park',\n",
       " 'Diorama-museum of Bhagavad-gita',\n",
       " 'Holocaust Museum LA',\n",
       " 'Venice Beach',\n",
       " 'Hollywood Walk of Fame',\n",
       " 'Will Rogers State Historic Park',\n",
       " 'Venice Skatepark',\n",
       " 'Sunset Boulevard',\n",
       " 'Stahl House',\n",
       " 'Los Angeles Zoo & Botanical Gardens',\n",
       " 'Hollywood Hills',\n",
       " 'Hollyhock House',\n",
       " 'El Pueblo de Los Angeles',\n",
       " 'University of Southern California',\n",
       " 'Museum of Illusions',\n",
       " 'The Japanese Garden',\n",
       " 'Museum of Tolerance',\n",
       " 'Annenberg Space for Photography',\n",
       " 'Studio Tour',\n",
       " 'Hollywood Farmers Market',\n",
       " 'Mission San Fernando',\n",
       " 'Melrose Avenue',\n",
       " 'Japanese American National Museum',\n",
       " 'Bronson Caves',\n",
       " 'Eames House',\n",
       " 'Hollywood Bowl Overlook',\n",
       " 'Forest Lawn Memorial Park - Hollywood Hills',\n",
       " 'Museum of Selfies',\n",
       " 'Candy Cane Lane',\n",
       " 'L.A',\n",
       " 'GRAMMY Museum',\n",
       " 'Hollywood Boulevard',\n",
       " 'Angeles Crest Highway',\n",
       " 'Jurassic Park The Ride',\n",
       " 'Koreatown',\n",
       " 'Metro Rail',\n",
       " 'Venice Beach Boardwalk',\n",
       " 'Exposition Park',\n",
       " 'Microsoft Theater',\n",
       " 'Flight Path Learning Center & Museum',\n",
       " 'Watts Towers',\n",
       " 'Chinatown',\n",
       " 'Hollywood',\n",
       " 'Revenge of the Mummy - The Ride',\n",
       " 'Hollywood Bowl',\n",
       " 'Travel Town',\n",
       " 'Orpheum Theater',\n",
       " 'Lost Spirits Distillery',\n",
       " 'Ahmanson Theatre',\n",
       " 'Beverly Center',\n",
       " 'Avila Adobe',\n",
       " 'Transformers: The Ride - 3D',\n",
       " 'Flower Market',\n",
       " 'Lake Balboa Park',\n",
       " 'Marciano Art Foundation',\n",
       " 'Samuel Oschin Air & Space Center',\n",
       " 'Hollywood Wax Museum',\n",
       " 'Museum of Death',\n",
       " 'Harry Potter and the Forbidden Journey',\n",
       " 'Wiltern Theatre',\n",
       " 'Los Angeles Convention Center',\n",
       " 'LA Fashion District',\n",
       " 'The Museum of Contemporary Art',\n",
       " 'Westfield Topanga',\n",
       " \"Ripley's Believe It or Not!\",\n",
       " 'Mosaic Tile House',\n",
       " 'Playa Del Rey Beach',\n",
       " 'Temescal Gateway Park',\n",
       " 'Grand Park',\n",
       " 'Art District',\n",
       " 'Capitol Records Building',\n",
       " 'Los Angeles Memorial Coliseum',\n",
       " 'Mrs',\n",
       " 'Heritage Square Museum',\n",
       " 'Hollywood Reservoir',\n",
       " 'California African American Museum',\n",
       " 'Park La Brea',\n",
       " 'Dorothy Chandler Pavilion',\n",
       " 'Cabrillo Marine Aquarium',\n",
       " 'Wells Fargo Museum',\n",
       " 'Point Fermin Park',\n",
       " 'Hammer Museum',\n",
       " 'Dockweiler State Beach',\n",
       " 'Los Feliz',\n",
       " 'Banc of California Stadium',\n",
       " 'Will Rogers State Beach',\n",
       " 'Lake Shrine Temple and Retreat',\n",
       " 'The Santee Alley',\n",
       " 'Angelino Heights Historic Area',\n",
       " 'FIDM Museum and Galleries',\n",
       " 'Point Fermin Lighthouse',\n",
       " 'The Walking Dead Attraction',\n",
       " 'Cabrillo Beach',\n",
       " 'Bob Baker Marionette Theater',\n",
       " 'Hauser & Wirth',\n",
       " 'Downtown Historic District',\n",
       " 'Guinness World Records Museum',\n",
       " 'Wildlife Learning Center',\n",
       " 'S.S',\n",
       " 'Kenneth Hahn State Recreation Area',\n",
       " 'Geffen Playhouse',\n",
       " 'Los Angeles Police Museum',\n",
       " 'Melrose Place']"
      ]
     },
     "execution_count": 109,
     "metadata": {},
     "output_type": "execute_result"
    }
   ],
   "source": [
    "tourist_site_name"
   ]
  },
  {
   "cell_type": "code",
   "execution_count": 110,
   "id": "inside-sussex",
   "metadata": {},
   "outputs": [
    {
     "name": "stdout",
     "output_type": "stream",
     "text": [
      "Which tourist sites do you want to go? (*please input the names of the tourist sites separated by a period)The Broad.Staples Center.Griffith Park.The Grove\n"
     ]
    }
   ],
   "source": [
    "want_to_go_name = str(input(\"Which tourist sites do you want to go? (*please input the names of the tourist sites separated by a period)\"))"
   ]
  },
  {
   "cell_type": "code",
   "execution_count": 111,
   "id": "handy-sierra",
   "metadata": {},
   "outputs": [],
   "source": [
    "visit_html = scraper.visit_tourist(df, want_to_go_name)"
   ]
  },
  {
   "cell_type": "code",
   "execution_count": 112,
   "id": "speaking-cooking",
   "metadata": {},
   "outputs": [
    {
     "data": {
      "text/plain": [
       "['221 S Grand Ave, Los Angeles, CA 90012-3020',\n",
       " '1111 S Figueroa St , Los Angeles, CA 90015-1300\"',\n",
       " '4730 Crystal Springs Dr, Los Angeles, CA 90027-1401',\n",
       " '189 The Grove Drive, Los Angeles, CA 90036-6222']"
      ]
     },
     "execution_count": 112,
     "metadata": {},
     "output_type": "execute_result"
    }
   ],
   "source": [
    "locations = scraper.find_location(visit_html)\n",
    "locations"
   ]
  },
  {
   "cell_type": "code",
   "execution_count": 70,
   "id": "embedded-portland",
   "metadata": {},
   "outputs": [],
   "source": [
    "html_main = requests.get(\"https://www.tripadvisor.com/Hotels-g32655-Los_Angeles_California-Hotels.html\")\n",
    "bsobj_main = soup(html_main.content, \"lxml\")"
   ]
  },
  {
   "cell_type": "code",
   "execution_count": 71,
   "id": "hungarian-wheat",
   "metadata": {},
   "outputs": [],
   "source": [
    "rank = []\n",
    "hotel_name = []\n",
    "rate_score = []\n",
    "hotel_link = []\n",
    "for s1 in bsobj_main.find_all(\"div\", class_ = \"ui_column is-8 main_col allowEllipsis\"):\n",
    "    if s1.find(\"span\", class_ = \"ui_merchandising_pill sponsored_v2\") == None:\n",
    "        for s2 in s1.find_all(\"div\", class_ = \"listing_title\"):\n",
    "            hotel_name.append(s1.a.text[6:])\n",
    "            hotel_link.append(s1.a[\"href\"])\n",
    "        for s3 in s1.find_all(\"div\", class_ = \"info-col\"):\n",
    "            if s3.a.text == \"0 reviews\":\n",
    "                rate_score.append(\"0 of 5 bubbles\")\n",
    "            else:\n",
    "                rate_score.append(s3.a[\"alt\"])\n",
    "\n",
    "for s4 in bsobj_main.find_all(\"div\", class_ = \"popindex\"):    \n",
    "    rank.append(s4.text.split(\" \")[0][1:])"
   ]
  },
  {
   "cell_type": "code",
   "execution_count": 72,
   "id": "civil-organic",
   "metadata": {},
   "outputs": [],
   "source": [
    "top_600 = list(range(30, 600, 30))"
   ]
  },
  {
   "cell_type": "code",
   "execution_count": 73,
   "id": "french-bermuda",
   "metadata": {},
   "outputs": [],
   "source": [
    "for num in top_600:\n",
    "    html_main = requests.get(\"https://www.tripadvisor.com/Hotels-g32655-oa\" + str(num) + \"-Los_Angeles_California-Hotels.html\")\n",
    "    bsobj_main = soup(html_main.content, \"lxml\")\n",
    "    \n",
    "    for s1 in bsobj_main.find_all(\"div\", class_ = \"ui_column is-8 main_col allowEllipsis\"):\n",
    "        if s1.find(\"span\", class_ = \"ui_merchandising_pill sponsored_v2\") == None:\n",
    "            for s2 in s1.find_all(\"div\", class_ = \"listing_title\"):\n",
    "                hotel_name.append(s1.a.text[6:])\n",
    "                hotel_link.append(s1.a[\"href\"])\n",
    "            for s3 in s1.find_all(\"div\", class_ = \"info-col\"):\n",
    "                if s3.a.text == \"0 reviews\":\n",
    "                    rate_score.append(\"0 of 5 bubbles\")\n",
    "                else:\n",
    "                    rate_score.append(s3.a[\"alt\"])\n",
    "\n",
    "    for s4 in bsobj_main.find_all(\"div\", class_ = \"popindex\"):    \n",
    "        rank.append(s4.text.split(\" \")[0][1:])"
   ]
  },
  {
   "cell_type": "code",
   "execution_count": 74,
   "id": "checked-sleeping",
   "metadata": {},
   "outputs": [],
   "source": [
    "hotel_link_update = []\n",
    "for site in hotel_link:\n",
    "    hotel_link_update.append(\"https://www.tripadvisor.com/\" + site)"
   ]
  },
  {
   "cell_type": "code",
   "execution_count": 75,
   "id": "private-southwest",
   "metadata": {},
   "outputs": [
    {
     "data": {
      "text/html": [
       "<div>\n",
       "<style scoped>\n",
       "    .dataframe tbody tr th:only-of-type {\n",
       "        vertical-align: middle;\n",
       "    }\n",
       "\n",
       "    .dataframe tbody tr th {\n",
       "        vertical-align: top;\n",
       "    }\n",
       "\n",
       "    .dataframe thead th {\n",
       "        text-align: right;\n",
       "    }\n",
       "</style>\n",
       "<table border=\"1\" class=\"dataframe\">\n",
       "  <thead>\n",
       "    <tr style=\"text-align: right;\">\n",
       "      <th></th>\n",
       "      <th>Rank</th>\n",
       "      <th>Hotel Name</th>\n",
       "      <th>Rate</th>\n",
       "      <th>Site Link</th>\n",
       "    </tr>\n",
       "  </thead>\n",
       "  <tbody>\n",
       "    <tr>\n",
       "      <th>0</th>\n",
       "      <td>1</td>\n",
       "      <td>The Hollywood Roosevelt</td>\n",
       "      <td>4.5 of 5 bubbles</td>\n",
       "      <td>https://www.tripadvisor.com//Hotel_Review-g326...</td>\n",
       "    </tr>\n",
       "    <tr>\n",
       "      <th>1</th>\n",
       "      <td>2</td>\n",
       "      <td>Hilton Los Angeles/Universal City</td>\n",
       "      <td>4 of 5 bubbles</td>\n",
       "      <td>https://www.tripadvisor.com//Hotel_Review-g326...</td>\n",
       "    </tr>\n",
       "    <tr>\n",
       "      <th>2</th>\n",
       "      <td>3</td>\n",
       "      <td>Hotel Erwin</td>\n",
       "      <td>4.5 of 5 bubbles</td>\n",
       "      <td>https://www.tripadvisor.com//Hotel_Review-g326...</td>\n",
       "    </tr>\n",
       "    <tr>\n",
       "      <th>3</th>\n",
       "      <td>4</td>\n",
       "      <td>Hotel Figueroa</td>\n",
       "      <td>4.5 of 5 bubbles</td>\n",
       "      <td>https://www.tripadvisor.com//Hotel_Review-g326...</td>\n",
       "    </tr>\n",
       "    <tr>\n",
       "      <th>4</th>\n",
       "      <td>5</td>\n",
       "      <td>Hollywood Hotel</td>\n",
       "      <td>4 of 5 bubbles</td>\n",
       "      <td>https://www.tripadvisor.com//Hotel_Review-g326...</td>\n",
       "    </tr>\n",
       "    <tr>\n",
       "      <th>...</th>\n",
       "      <td>...</td>\n",
       "      <td>...</td>\n",
       "      <td>...</td>\n",
       "      <td>...</td>\n",
       "    </tr>\n",
       "    <tr>\n",
       "      <th>445</th>\n",
       "      <td>305</td>\n",
       "      <td>Studio Inn Van Nuys</td>\n",
       "      <td>3 of 5 bubbles</td>\n",
       "      <td>https://www.tripadvisor.com//Hotel_Review-g326...</td>\n",
       "    </tr>\n",
       "    <tr>\n",
       "      <th>446</th>\n",
       "      <td>313</td>\n",
       "      <td>Stars Inn</td>\n",
       "      <td>2.5 of 5 bubbles</td>\n",
       "      <td>https://www.tripadvisor.com//Hotel_Review-g326...</td>\n",
       "    </tr>\n",
       "    <tr>\n",
       "      <th>447</th>\n",
       "      <td>317</td>\n",
       "      <td>Lincoln Inn</td>\n",
       "      <td>2.5 of 5 bubbles</td>\n",
       "      <td>https://www.tripadvisor.com//Hotel_Review-g326...</td>\n",
       "    </tr>\n",
       "    <tr>\n",
       "      <th>448</th>\n",
       "      <td>321</td>\n",
       "      <td>Vista Motel</td>\n",
       "      <td>1.5 of 5 bubbles</td>\n",
       "      <td>https://www.tripadvisor.com//Hotel_Review-g326...</td>\n",
       "    </tr>\n",
       "    <tr>\n",
       "      <th>449</th>\n",
       "      <td>327</td>\n",
       "      <td>Bronco Motel</td>\n",
       "      <td>3.5 of 5 bubbles</td>\n",
       "      <td>https://www.tripadvisor.com//Hotel_Review-g326...</td>\n",
       "    </tr>\n",
       "  </tbody>\n",
       "</table>\n",
       "<p>450 rows × 4 columns</p>\n",
       "</div>"
      ],
      "text/plain": [
       "    Rank                         Hotel Name              Rate  \\\n",
       "0      1            The Hollywood Roosevelt  4.5 of 5 bubbles   \n",
       "1      2  Hilton Los Angeles/Universal City    4 of 5 bubbles   \n",
       "2      3                        Hotel Erwin  4.5 of 5 bubbles   \n",
       "3      4                     Hotel Figueroa  4.5 of 5 bubbles   \n",
       "4      5                    Hollywood Hotel    4 of 5 bubbles   \n",
       "..   ...                                ...               ...   \n",
       "445  305                Studio Inn Van Nuys    3 of 5 bubbles   \n",
       "446  313                          Stars Inn  2.5 of 5 bubbles   \n",
       "447  317                        Lincoln Inn  2.5 of 5 bubbles   \n",
       "448  321                        Vista Motel  1.5 of 5 bubbles   \n",
       "449  327                       Bronco Motel  3.5 of 5 bubbles   \n",
       "\n",
       "                                             Site Link  \n",
       "0    https://www.tripadvisor.com//Hotel_Review-g326...  \n",
       "1    https://www.tripadvisor.com//Hotel_Review-g326...  \n",
       "2    https://www.tripadvisor.com//Hotel_Review-g326...  \n",
       "3    https://www.tripadvisor.com//Hotel_Review-g326...  \n",
       "4    https://www.tripadvisor.com//Hotel_Review-g326...  \n",
       "..                                                 ...  \n",
       "445  https://www.tripadvisor.com//Hotel_Review-g326...  \n",
       "446  https://www.tripadvisor.com//Hotel_Review-g326...  \n",
       "447  https://www.tripadvisor.com//Hotel_Review-g326...  \n",
       "448  https://www.tripadvisor.com//Hotel_Review-g326...  \n",
       "449  https://www.tripadvisor.com//Hotel_Review-g326...  \n",
       "\n",
       "[450 rows x 4 columns]"
      ]
     },
     "execution_count": 75,
     "metadata": {},
     "output_type": "execute_result"
    }
   ],
   "source": [
    "data = {\"Rank\": rank[:450], \"Hotel Name\": hotel_name[:450], \"Rate\": rate_score[:450], \"Site Link\": hotel_link_update[:450]}\n",
    "hotels = pd.DataFrame.from_dict(data)\n",
    "hotels"
   ]
  },
  {
   "cell_type": "code",
   "execution_count": 133,
   "id": "recreational-illness",
   "metadata": {},
   "outputs": [
    {
     "name": "stdout",
     "output_type": "stream",
     "text": [
      "Which hotel do you want to live?Hollywood Hotel\n"
     ]
    }
   ],
   "source": [
    "hotel_want_to_go_name = str(input(\"Which hotel do you want to live?\"))\n",
    "hotel_visit_html = hotel_scraper.visit_hotel(hotels, hotel_want_to_go_name)"
   ]
  },
  {
   "cell_type": "code",
   "execution_count": 134,
   "id": "sonic-vermont",
   "metadata": {},
   "outputs": [
    {
     "data": {
      "text/plain": [
       "['1160 North Vermont Avenue District of Hollywood, Los Angeles, CA 90029-1729']"
      ]
     },
     "execution_count": 134,
     "metadata": {},
     "output_type": "execute_result"
    }
   ],
   "source": [
    "hotel_location = hotel_scraper.find_location(hotel_visit_html)\n",
    "hotel_location"
   ]
  },
  {
   "cell_type": "markdown",
   "id": "rental-moses",
   "metadata": {},
   "source": [
    "### Geocoding\n",
    "Another module we will be using is **Geopy**, which is a Python client for geocoding. What is geocoding?\n",
    "\n",
    "**Geocoding** is the process of taking some text-based description of a location (usually the address) and transforming it into coordinates, using the longitude/latitude pair. We will use geocoding to transform the addresses of our hotel/attraction locations (obtained from webscraping) into longitude/latitude coordinates (as far as I know, TripAdvisor doesn't provide coordinates).\n",
    "\n",
    "From the Geopy module, we will use **Nominatim**, which is a geocoder for **OpenStreetMap (OSM)** data. OSM is a map of the world that is open data, licensed under the Open Database License. As such, we will credit OSM at the end of the notebook. You can check out OSM here:\n",
    "\n",
    "https://www.openstreetmap.org/"
   ]
  },
  {
   "cell_type": "code",
   "execution_count": 12,
   "id": "lesser-petite",
   "metadata": {},
   "outputs": [],
   "source": [
    "from geopy.geocoders import Nominatim # Geopy is a Python client for geocoding. We use the Nominatim geocoder for OpenStreetMap (OSM) data."
   ]
  },
  {
   "cell_type": "markdown",
   "id": "empty-riverside",
   "metadata": {},
   "source": [
    "We create a sample locations dataframe using Nominatim geocoding. I will update this code later once we have a working web scraper. For now, I am using the top 3 attractions in Los Angeles from TripAdvisor: the Getty Center, the Griffith Observatory, and Universal Studios Hollywood. \n",
    "\n",
    "Something I noticed about OSM is that not all addresses work. For example, the address for the Getty Center provided by TripAdvisor is *1200 Getty Center Dr N Sepulveda Blvd & Getty Center Dr, Los Angeles, CA*. However, if you take this address and plug it into OSM's website, you will get no results. This causes problems for the geocoder, and you will not get the location. For this example, I simplified the address for the Getty Center as *1200 Getty Center, Los Angeles*, but for the long term we will have to find some workaround that can apply to all addresses. I think the solution might be some combination of regex and try/except blocks."
   ]
  },
  {
   "cell_type": "code",
   "execution_count": 13,
   "id": "minor-handling",
   "metadata": {},
   "outputs": [],
   "source": [
    "import re"
   ]
  },
  {
   "cell_type": "code",
   "execution_count": 17,
   "id": "hindu-ideal",
   "metadata": {},
   "outputs": [
    {
     "name": "stdout",
     "output_type": "stream",
     "text": [
      "Getty Research Institute, 1200, Getty Center Drive, Brentwood, Los Angeles, Los Angeles County, California, 90049, United States\n",
      "Griffith Observatory, 2800, East Observatory Road, Griffith Park, Los Angeles, Los Angeles County, California, 90027, United States\n",
      "Universal City Plaza, Lankershim Boulevard, Los Angeles, Los Angeles County, California, 91608, United States\n",
      "Petersen Automotive Museum‎, 6060, Wilshire Boulevard, Mid-Wilshire, Los Angeles, Los Angeles County, California, 90036, United States\n"
     ]
    },
    {
     "data": {
      "text/html": [
       "<div>\n",
       "<style scoped>\n",
       "    .dataframe tbody tr th:only-of-type {\n",
       "        vertical-align: middle;\n",
       "    }\n",
       "\n",
       "    .dataframe tbody tr th {\n",
       "        vertical-align: top;\n",
       "    }\n",
       "\n",
       "    .dataframe thead th {\n",
       "        text-align: right;\n",
       "    }\n",
       "</style>\n",
       "<table border=\"1\" class=\"dataframe\">\n",
       "  <thead>\n",
       "    <tr style=\"text-align: right;\">\n",
       "      <th></th>\n",
       "      <th>Address</th>\n",
       "      <th>Longitude</th>\n",
       "      <th>Latitude</th>\n",
       "    </tr>\n",
       "  </thead>\n",
       "  <tbody>\n",
       "    <tr>\n",
       "      <th>0</th>\n",
       "      <td>(Getty Research Institute, 1200, Getty Center ...</td>\n",
       "      <td>-118.475712</td>\n",
       "      <td>34.076951</td>\n",
       "    </tr>\n",
       "    <tr>\n",
       "      <th>1</th>\n",
       "      <td>(Griffith Observatory, 2800, East Observatory ...</td>\n",
       "      <td>-118.300293</td>\n",
       "      <td>34.118219</td>\n",
       "    </tr>\n",
       "    <tr>\n",
       "      <th>2</th>\n",
       "      <td>(Universal City Plaza, Lankershim Boulevard, L...</td>\n",
       "      <td>-118.361879</td>\n",
       "      <td>34.138321</td>\n",
       "    </tr>\n",
       "    <tr>\n",
       "      <th>3</th>\n",
       "      <td>(Petersen Automotive Museum‎, 6060, Wilshire B...</td>\n",
       "      <td>-118.361191</td>\n",
       "      <td>34.062315</td>\n",
       "    </tr>\n",
       "  </tbody>\n",
       "</table>\n",
       "</div>"
      ],
      "text/plain": [
       "                                             Address   Longitude   Latitude\n",
       "0  (Getty Research Institute, 1200, Getty Center ... -118.475712  34.076951\n",
       "1  (Griffith Observatory, 2800, East Observatory ... -118.300293  34.118219\n",
       "2  (Universal City Plaza, Lankershim Boulevard, L... -118.361879  34.138321\n",
       "3  (Petersen Automotive Museum‎, 6060, Wilshire B... -118.361191  34.062315"
      ]
     },
     "execution_count": 17,
     "metadata": {},
     "output_type": "execute_result"
    }
   ],
   "source": [
    "# Nominatim geocoding and creating the Pandas dataframe\n",
    "\n",
    "geolocator = Nominatim(user_agent = \"m\") # use custom user_agent to avoid violating Nominatim's usage policy\n",
    "df = pd.DataFrame(columns = [\"Address\", \"Longitude\", \"Latitude\"]) # creating the Pandas dataframe\n",
    "\n",
    "for location in locations:\n",
    "    location = re.sub(r'\\s\\d{5}-\\d{4}', \"\", location)\n",
    "    if location == \"1200 Getty Center Dr N Sepulveda Blvd & Getty Center Dr, Los Angeles, CA\":\n",
    "        location = \"1200 Getty Center\"\n",
    "    loc = geolocator.geocode(location) # geocoding the location\n",
    "    print(loc)\n",
    "    df.loc[len(df.index)] = [loc, loc.longitude, loc.latitude] # adding the location, longitude, and latitude to the dataframe\n",
    "    \n",
    "df"
   ]
  },
  {
   "cell_type": "code",
   "execution_count": 18,
   "id": "textile-tablet",
   "metadata": {},
   "outputs": [],
   "source": [
    "# Cleans the addresses by removing the code at the end and then removing the last word of the address with each iteration of\n",
    "# the loop. OSM sometimes has trouble recognizing addresses that have extra details in the middle of their addresses. \n",
    "def location_cleaner(locations):\n",
    "    locations_copy = []\n",
    "    for location in locations:\n",
    "        location = re.sub(r'\\s\\d{5}-\\d{4}', \"\", location)\n",
    "        words = location.split()\n",
    "        location_length = len(words)\n",
    "        for i in range(location_length, 0, -1):\n",
    "            if geolocator.geocode(location) != None:\n",
    "                locations_copy.append(location)\n",
    "                break\n",
    "            location = location.rsplit(' ', 1)[0]\n",
    "    return locations_copy"
   ]
  },
  {
   "cell_type": "code",
   "execution_count": 92,
   "id": "advised-framework",
   "metadata": {},
   "outputs": [],
   "source": [
    "geolocator = Nominatim(user_agent = \"pic16b\")"
   ]
  },
  {
   "cell_type": "code",
   "execution_count": 113,
   "id": "wireless-highland",
   "metadata": {},
   "outputs": [
    {
     "data": {
      "text/html": [
       "<div>\n",
       "<style scoped>\n",
       "    .dataframe tbody tr th:only-of-type {\n",
       "        vertical-align: middle;\n",
       "    }\n",
       "\n",
       "    .dataframe tbody tr th {\n",
       "        vertical-align: top;\n",
       "    }\n",
       "\n",
       "    .dataframe thead th {\n",
       "        text-align: right;\n",
       "    }\n",
       "</style>\n",
       "<table border=\"1\" class=\"dataframe\">\n",
       "  <thead>\n",
       "    <tr style=\"text-align: right;\">\n",
       "      <th></th>\n",
       "      <th>Address</th>\n",
       "      <th>Longitude</th>\n",
       "      <th>Latitude</th>\n",
       "    </tr>\n",
       "  </thead>\n",
       "  <tbody>\n",
       "    <tr>\n",
       "      <th>0</th>\n",
       "      <td>(The Broad Museum, 221, South Grand Avenue, Bu...</td>\n",
       "      <td>-118.250557</td>\n",
       "      <td>34.054441</td>\n",
       "    </tr>\n",
       "    <tr>\n",
       "      <th>1</th>\n",
       "      <td>(Figueroa Street, Financial District, Downtown...</td>\n",
       "      <td>-118.254802</td>\n",
       "      <td>34.054796</td>\n",
       "    </tr>\n",
       "    <tr>\n",
       "      <th>2</th>\n",
       "      <td>(Griffith Park Boys Camp, 4730, Crystal Spring...</td>\n",
       "      <td>-118.296511</td>\n",
       "      <td>34.140604</td>\n",
       "    </tr>\n",
       "    <tr>\n",
       "      <th>3</th>\n",
       "      <td>(American Girl Place, 189, The Grove Drive, Th...</td>\n",
       "      <td>-118.359047</td>\n",
       "      <td>34.072400</td>\n",
       "    </tr>\n",
       "  </tbody>\n",
       "</table>\n",
       "</div>"
      ],
      "text/plain": [
       "                                             Address   Longitude   Latitude\n",
       "0  (The Broad Museum, 221, South Grand Avenue, Bu... -118.250557  34.054441\n",
       "1  (Figueroa Street, Financial District, Downtown... -118.254802  34.054796\n",
       "2  (Griffith Park Boys Camp, 4730, Crystal Spring... -118.296511  34.140604\n",
       "3  (American Girl Place, 189, The Grove Drive, Th... -118.359047  34.072400"
      ]
     },
     "execution_count": 113,
     "metadata": {},
     "output_type": "execute_result"
    }
   ],
   "source": [
    "df = pd.DataFrame(columns = [\"Address\", \"Longitude\", \"Latitude\"]) # creating the Pandas dataframe\n",
    "\n",
    "locations = location_cleaner(locations)\n",
    "for location in locations:\n",
    "    loc = geolocator.geocode(location) # geocoding the location\n",
    "    df.loc[len(df.index)] = [loc, loc.longitude, loc.latitude] # adding the location, longitude, and latitude to the dataframe\n",
    "    \n",
    "df"
   ]
  },
  {
   "cell_type": "markdown",
   "id": "scenic-wisdom",
   "metadata": {},
   "source": [
    "We can see that we have obtained the longitude and latitude for each address and we have successfully added the data to a Pandas dataframe. A quick Google search tells us that our coordinates are pretty accurate, up to about 3 decimal places."
   ]
  },
  {
   "cell_type": "code",
   "execution_count": 135,
   "id": "exciting-apparel",
   "metadata": {},
   "outputs": [
    {
     "name": "stdout",
     "output_type": "stream",
     "text": [
      "['1160 North Vermont Avenue District of Hollywood, Los Angeles, CA']\n"
     ]
    },
    {
     "data": {
      "text/html": [
       "<div>\n",
       "<style scoped>\n",
       "    .dataframe tbody tr th:only-of-type {\n",
       "        vertical-align: middle;\n",
       "    }\n",
       "\n",
       "    .dataframe tbody tr th {\n",
       "        vertical-align: top;\n",
       "    }\n",
       "\n",
       "    .dataframe thead th {\n",
       "        text-align: right;\n",
       "    }\n",
       "</style>\n",
       "<table border=\"1\" class=\"dataframe\">\n",
       "  <thead>\n",
       "    <tr style=\"text-align: right;\">\n",
       "      <th></th>\n",
       "      <th>Address</th>\n",
       "      <th>Longitude</th>\n",
       "      <th>Latitude</th>\n",
       "    </tr>\n",
       "  </thead>\n",
       "  <tbody>\n",
       "    <tr>\n",
       "      <th>4</th>\n",
       "      <td>(North Vermont Avenue, Bicycle District, East ...</td>\n",
       "      <td>-118.291714</td>\n",
       "      <td>34.079147</td>\n",
       "    </tr>\n",
       "  </tbody>\n",
       "</table>\n",
       "</div>"
      ],
      "text/plain": [
       "                                             Address   Longitude   Latitude\n",
       "4  (North Vermont Avenue, Bicycle District, East ... -118.291714  34.079147"
      ]
     },
     "execution_count": 135,
     "metadata": {},
     "output_type": "execute_result"
    }
   ],
   "source": [
    "# may or may not need a dataframe depending on if we allow a user to stay at multiple hotels\n",
    "hotel = pd.DataFrame(columns = [\"Address\", \"Longitude\", \"Latitude\"]) # creating the Pandas dataframe\n",
    "\n",
    "hotel_locations = location_cleaner(hotel_location)\n",
    "print(hotel_locations)\n",
    "for location in hotel_locations:\n",
    "    loc = geolocator.geocode(location) # geocoding the location\n",
    "    hotel.loc[len(df.index)] = [loc, loc.longitude, loc.latitude] # adding the location, longitude, and latitude to the dataframe\n",
    "    \n",
    "hotel"
   ]
  },
  {
   "cell_type": "markdown",
   "id": "progressive-contrast",
   "metadata": {},
   "source": [
    "### Creating the Route Visualization\n",
    "Now that we have our addresses and coordinates within a Pandas dataframe, we can begin to construct the route visualization. For this section, I mainly referenced this article: https://www.thinkdatascience.com/post/2020-03-03-osrm/osrm/\n",
    "\n",
    "In the article, Mr. Yan makes use of **Open Source Routing Machine (OSRM)**, which is a C++ routing engine for the shortest paths in road networks. Essentially, you use the requests module to perform an http request, obtaining route data for the routes between your specified locations. You can learn more about OSRM and how to construct requests here: http://project-osrm.org/docs/v5.7.0/api/?language=Python#general-options\n",
    "\n",
    "For the route visualization, we also import the **Folium** and **Polyline** modules. \n",
    "- **Folium**: The folium module takes location and route data and plots it on an interactive map. \n",
    "- **Polyline**: The polyline module is the Python implementation of Google's Encoded Polyline Algorithm Format, which allows you to store a series of coordinates as an encoded string. You can read about it here: https://developers.google.com/maps/documentation/utilities/polylinealgorithm"
   ]
  },
  {
   "cell_type": "code",
   "execution_count": 20,
   "id": "greatest-strap",
   "metadata": {},
   "outputs": [],
   "source": [
    "import folium # visualizes data on map; wondering if I can replace this with plotly express\n",
    "import polyline # Python implementation of Google’s Encoded Polyline Algorithm Format"
   ]
  },
  {
   "cell_type": "markdown",
   "id": "thorough-perfume",
   "metadata": {},
   "source": [
    "Let's attempt to get the route between the Griffith Observatory and Universal Studios Hollywood. We specify our request url to be the default OSRM url, followed by the mode of transportation (car) and the coordinates for our locations. The first pair of coordinates corresponds to the Griffith Observatory, and the second pair corresponds to Universal Studios Hollywood."
   ]
  },
  {
   "cell_type": "code",
   "execution_count": 21,
   "id": "manual-harmony",
   "metadata": {},
   "outputs": [
    {
     "data": {
      "text/plain": [
       "{'code': 'Ok',\n",
       " 'waypoints': [{'hint': 'mcqtiMbKrYgcAAAAAAAAAMUAAAAAAAAAWzWZQQAAAAAjAQpDAAAAABwAAAAAAAAAxQAAAAAAAAAYQwAAsTHw-GXzBwJANPD4F_kHAgwA3wL9RD_Z',\n",
       "   'distance': 172.65425,\n",
       "   'location': [-118.476367, 34.075493],\n",
       "   'name': 'Firth Avenue'},\n",
       "  {'hint': 'QB2wiP___38FAAAABQAAAJgAAAADAAAASbJlQAAAAACSqNJC1c3gPwUAAAAFAAAAmAAAAAMAAAAYQwAAKeHy-AeeCAJ74fL4S5oIAg4Azwb9RD_Z',\n",
       "   'distance': 106.310396,\n",
       "   'location': [-118.300375, 34.119175],\n",
       "   'name': 'West Observatory Road'},\n",
       "  {'hint': 'MzKhiP___38AAAAAHQAAAEgAAAArAAAARO68Pa9_oEELyklCJcPxQQAAAAAdAAAASAAAACsAAAAYQwAAivHx-KLqCALp8PH40egIAgIArwb9RD_Z',\n",
       "   'distance': 53.674346,\n",
       "   'location': [-118.361718, 34.138786],\n",
       "   'name': 'Universal Hollywood Drive'}],\n",
       " 'routes': [{'legs': [{'steps': [],\n",
       "     'weight': 2209,\n",
       "     'distance': 27094.1,\n",
       "     'summary': '',\n",
       "     'duration': 2209},\n",
       "    {'steps': [],\n",
       "     'weight': 924.9,\n",
       "     'distance': 11467.6,\n",
       "     'summary': '',\n",
       "     'duration': 924.9}],\n",
       "   'weight_name': 'routability',\n",
       "   'geometry': 'yj~nEh|brUzG~AeAhH~IwBjL}Tx_@eXag@wIkDoGpFyHzkBo{Ahk@yT{@iGmTyhAuwD{iGu_AcjBy@whHacAJU}kBkd@a@aT_kBqZyI{Xf`@{\\\\hJlGdJZ|VnG_L|MkAqW}AeGyOz\\\\iJ`Y{^jZlHpSjkBbNXSxgBc_@~s@cz@rWshAfgAsVj{@qNpQcC}D',\n",
       "   'weight': 3133.9,\n",
       "   'distance': 38561.7,\n",
       "   'duration': 3133.9}]}"
      ]
     },
     "execution_count": 21,
     "metadata": {},
     "output_type": "execute_result"
    }
   ],
   "source": [
    "# The following code will be based on the code in the above article. I don't fully understand what it's doing yet, but I'm \n",
    "# hoping to get some more practice with it so I can understand it better.\n",
    "\n",
    "url = \"http://router.project-osrm.org/route/v1/car/-118.475712,34.076951;-118.300293,34.118219;-118.361879,34.138321\" # we specify the long/lat coordinates of our starting point and our ending point, as well as mode of transportation; hopefully we can add more waypoints and get the route between multiple locations\n",
    "r = requests.get(url) # getting the request\n",
    "res = r.json()\n",
    "res"
   ]
  },
  {
   "cell_type": "code",
   "execution_count": 22,
   "id": "coupled-jimmy",
   "metadata": {},
   "outputs": [
    {
     "name": "stdout",
     "output_type": "stream",
     "text": [
      "[{'hint': 'mcqtiMbKrYgcAAAAAAAAAMUAAAAAAAAAWzWZQQAAAAAjAQpDAAAAABwAAAAAAAAAxQAAAAAAAAAYQwAAsTHw-GXzBwJANPD4F_kHAgwA3wL9RD_Z', 'distance': 172.65425, 'location': [-118.476367, 34.075493], 'name': 'Firth Avenue'}, {'hint': 'QB2wiP___38FAAAABQAAAJgAAAADAAAASbJlQAAAAACSqNJC1c3gPwUAAAAFAAAAmAAAAAMAAAAYQwAAKeHy-AeeCAJ74fL4S5oIAg4Azwb9RD_Z', 'distance': 106.310396, 'location': [-118.300375, 34.119175], 'name': 'West Observatory Road'}, {'hint': 'MzKhiP___38AAAAAHQAAAEgAAAArAAAARO68Pa9_oEELyklCJcPxQQAAAAAdAAAASAAAACsAAAAYQwAAivHx-KLqCALp8PH40egIAgIArwb9RD_Z', 'distance': 53.674346, 'location': [-118.361718, 34.138786], 'name': 'Universal Hollywood Drive'}]\n"
     ]
    }
   ],
   "source": [
    "print(res['waypoints'])"
   ]
  },
  {
   "cell_type": "code",
   "execution_count": 115,
   "id": "marked-minority",
   "metadata": {},
   "outputs": [
    {
     "data": {
      "text/plain": [
       "[34.075493, -118.476367]"
      ]
     },
     "execution_count": 115,
     "metadata": {},
     "output_type": "execute_result"
    }
   ],
   "source": [
    "start_point = [res['waypoints'][0]['location'][1], res['waypoints'][0]['location'][0]]\n",
    "start_point"
   ]
  },
  {
   "cell_type": "code",
   "execution_count": 122,
   "id": "indonesian-guatemala",
   "metadata": {},
   "outputs": [
    {
     "data": {
      "text/plain": [
       "[(34.119175, -118.300375)]"
      ]
     },
     "execution_count": 122,
     "metadata": {},
     "output_type": "execute_result"
    }
   ],
   "source": [
    "waypoints = []\n",
    "for i in range(1, len(res['waypoints']) - 1):\n",
    "    waypoints.append((res['waypoints'][i]['location'][1], res['waypoints'][i]['location'][0]))\n",
    "waypoints"
   ]
  },
  {
   "cell_type": "markdown",
   "id": "adjacent-equivalent",
   "metadata": {},
   "source": [
    "We have successfully run the request! From the above results, we get what seems to be some interesting data but also a lot of gibberish. I believe those are the routes and locations that are encoded using Google's Polyline Algorithm. Now, let's attempt to break down the more interesting parts of the data (bear with me, this is new to me as well):\n",
    "- **Waypoints**: A waypoint is an intermediate point or place on a route. In our case, we get a list of all the locations we travel to in our route. For this example, we only have two locations, our starting point and ending point, so only two locations show up in the waypoints list. This leads me to believe that it is highly possible to construct a route between multiple sightseeing locations and a hotel location, which is one of the goals of our project.\n",
    "- **Routes**: The routes list contains the routes used to travel between the different locations. In our example, we only have two locations, our starting point and ending point, so there is only one route. I believe that if we add more locations, we will get more routes. \n",
    "    - **Geometry**: This encoding gives us the line representing the route. \n",
    "    - **Distance**: The distance specified per entry in the routes list gives the distance in meters that the route covers.\n",
    "    - **Duration**: The duration specified per entry in the routes list gives the duration of the trip in seconds."
   ]
  },
  {
   "cell_type": "code",
   "execution_count": 71,
   "id": "recognized-copyright",
   "metadata": {},
   "outputs": [
    {
     "data": {
      "text/plain": [
       "[(34.07549, -118.47637),\n",
       " (34.07407, -118.47685),\n",
       " (34.07442, -118.47834),\n",
       " (34.07266, -118.47774),\n",
       " (34.07052, -118.47423),\n",
       " (34.06527, -118.4702),\n",
       " (34.07168, -118.46848),\n",
       " (34.07254, -118.46712),\n",
       " (34.07133, -118.46555),\n",
       " (34.05391, -118.45075),\n",
       " (34.04682, -118.44726),\n",
       " (34.04712, -118.44593),\n",
       " (34.05055, -118.43412),\n",
       " (34.0801, -118.39142),\n",
       " (34.09045, -118.37428),\n",
       " (34.09074, -118.32664),\n",
       " (34.10163, -118.3267),\n",
       " (34.10174, -118.30927),\n",
       " (34.10772, -118.3091),\n",
       " (34.11109, -118.29182),\n",
       " (34.1155, -118.29009),\n",
       " (34.11964, -118.29541),\n",
       " (34.12442, -118.29722),\n",
       " (34.12307, -118.29901),\n",
       " (34.12293, -118.30284),\n",
       " (34.12157, -118.30076),\n",
       " (34.11918, -118.30038),\n",
       " (34.12311, -118.29991),\n",
       " (34.12442, -118.29722),\n",
       " (34.11964, -118.29541),\n",
       " (34.11547, -118.29031),\n",
       " (34.11109, -118.29182),\n",
       " (34.1078, -118.30916),\n",
       " (34.10538, -118.30929),\n",
       " (34.10548, -118.32606),\n",
       " (34.11062, -118.33454),\n",
       " (34.12008, -118.33848),\n",
       " (34.13186, -118.35004),\n",
       " (34.13564, -118.3597),\n",
       " (34.13813, -118.36267),\n",
       " (34.13879, -118.36172)]"
      ]
     },
     "execution_count": 71,
     "metadata": {},
     "output_type": "execute_result"
    }
   ],
   "source": [
    "# We use the polyline module to decode the encoding into coordinates. Not entirely sure what all of the coordinates mean but \n",
    "# I'm guessing they represent locations of different streets when you're changing streets? I don't really know; this requires\n",
    "# further investigation.\n",
    "\n",
    "polyline.decode('yj~nEh|brUzG~AeAhH~IwBjL}Tx_@eXag@wIkDoGpFyHzkBo{Ahk@yT{@iGmTyhAuwD{iGu_AcjBy@whHacAJU}kBkd@a@aT_kBqZyI{Xf`@{\\\\hJlGdJZ|VnG_L|MkAqW}AeGyOz\\\\iJ`Y{^jZlHpSjkBbNXSxgBc_@~s@cz@rWshAfgAsVj{@qNpQcC}D')"
   ]
  },
  {
   "cell_type": "code",
   "execution_count": 150,
   "id": "editorial-audit",
   "metadata": {},
   "outputs": [
    {
     "data": {
      "text/html": [
       "<div>\n",
       "<style scoped>\n",
       "    .dataframe tbody tr th:only-of-type {\n",
       "        vertical-align: middle;\n",
       "    }\n",
       "\n",
       "    .dataframe tbody tr th {\n",
       "        vertical-align: top;\n",
       "    }\n",
       "\n",
       "    .dataframe thead th {\n",
       "        text-align: right;\n",
       "    }\n",
       "</style>\n",
       "<table border=\"1\" class=\"dataframe\">\n",
       "  <thead>\n",
       "    <tr style=\"text-align: right;\">\n",
       "      <th></th>\n",
       "      <th>Address</th>\n",
       "      <th>Longitude</th>\n",
       "      <th>Latitude</th>\n",
       "    </tr>\n",
       "  </thead>\n",
       "  <tbody>\n",
       "    <tr>\n",
       "      <th>2</th>\n",
       "      <td>(Universal City Plaza, Lankershim Boulevard, L...</td>\n",
       "      <td>-118.361879</td>\n",
       "      <td>34.138321</td>\n",
       "    </tr>\n",
       "  </tbody>\n",
       "</table>\n",
       "</div>"
      ],
      "text/plain": [
       "                                             Address   Longitude   Latitude\n",
       "2  (Universal City Plaza, Lankershim Boulevard, L... -118.361879  34.138321"
      ]
     },
     "execution_count": 150,
     "metadata": {},
     "output_type": "execute_result"
    }
   ],
   "source": [
    "row = df.sample()\n",
    "row"
   ]
  },
  {
   "cell_type": "code",
   "execution_count": 151,
   "id": "impressive-basis",
   "metadata": {},
   "outputs": [
    {
     "data": {
      "text/plain": [
       "(-118.36187858396794, 34.13832135)"
      ]
     },
     "execution_count": 151,
     "metadata": {},
     "output_type": "execute_result"
    }
   ],
   "source": [
    "long_lat = (row.iloc[0][\"Longitude\"], row.iloc[0][\"Latitude\"])\n",
    "long_lat"
   ]
  },
  {
   "cell_type": "code",
   "execution_count": 169,
   "id": "global-routine",
   "metadata": {},
   "outputs": [
    {
     "data": {
      "text/html": [
       "<div>\n",
       "<style scoped>\n",
       "    .dataframe tbody tr th:only-of-type {\n",
       "        vertical-align: middle;\n",
       "    }\n",
       "\n",
       "    .dataframe tbody tr th {\n",
       "        vertical-align: top;\n",
       "    }\n",
       "\n",
       "    .dataframe thead th {\n",
       "        text-align: right;\n",
       "    }\n",
       "</style>\n",
       "<table border=\"1\" class=\"dataframe\">\n",
       "  <thead>\n",
       "    <tr style=\"text-align: right;\">\n",
       "      <th></th>\n",
       "      <th>Address</th>\n",
       "      <th>Longitude</th>\n",
       "      <th>Latitude</th>\n",
       "    </tr>\n",
       "  </thead>\n",
       "  <tbody>\n",
       "    <tr>\n",
       "      <th>0</th>\n",
       "      <td>(Getty Research Institute, 1200, Getty Center ...</td>\n",
       "      <td>-118.475712</td>\n",
       "      <td>34.076951</td>\n",
       "    </tr>\n",
       "    <tr>\n",
       "      <th>1</th>\n",
       "      <td>(Griffith Observatory, 2800, East Observatory ...</td>\n",
       "      <td>-118.300293</td>\n",
       "      <td>34.118219</td>\n",
       "    </tr>\n",
       "    <tr>\n",
       "      <th>2</th>\n",
       "      <td>(Universal City Plaza, Lankershim Boulevard, L...</td>\n",
       "      <td>-118.361879</td>\n",
       "      <td>34.138321</td>\n",
       "    </tr>\n",
       "    <tr>\n",
       "      <th>3</th>\n",
       "      <td>(Petersen Automotive Museum‎, 6060, Wilshire B...</td>\n",
       "      <td>-118.361191</td>\n",
       "      <td>34.062315</td>\n",
       "    </tr>\n",
       "  </tbody>\n",
       "</table>\n",
       "</div>"
      ],
      "text/plain": [
       "                                             Address   Longitude   Latitude\n",
       "0  (Getty Research Institute, 1200, Getty Center ... -118.475712  34.076951\n",
       "1  (Griffith Observatory, 2800, East Observatory ... -118.300293  34.118219\n",
       "2  (Universal City Plaza, Lankershim Boulevard, L... -118.361879  34.138321\n",
       "3  (Petersen Automotive Museum‎, 6060, Wilshire B... -118.361191  34.062315"
      ]
     },
     "execution_count": 169,
     "metadata": {},
     "output_type": "execute_result"
    }
   ],
   "source": [
    "df"
   ]
  },
  {
   "cell_type": "code",
   "execution_count": 114,
   "id": "known-johns",
   "metadata": {},
   "outputs": [
    {
     "name": "stdout",
     "output_type": "stream",
     "text": [
      "How many days will your travel be? 3\n"
     ]
    },
    {
     "data": {
      "text/plain": [
       "[[(-118.2548018, 34.054796)],\n",
       " [(-118.25055660000001, 34.0544412)],\n",
       " [(-118.359047, 34.0724002), (-118.29651118079025, 34.140603999999996)]]"
      ]
     },
     "execution_count": 114,
     "metadata": {},
     "output_type": "execute_result"
    }
   ],
   "source": [
    "travel_length = input(\"How many days will your travel be? \")\n",
    "coordinates = locations_per_day(df, travel_length)\n",
    "coordinates"
   ]
  },
  {
   "cell_type": "code",
   "execution_count": 31,
   "id": "aware-attribute",
   "metadata": {},
   "outputs": [],
   "source": [
    "import random"
   ]
  },
  {
   "cell_type": "code",
   "execution_count": 86,
   "id": "manual-blocking",
   "metadata": {},
   "outputs": [],
   "source": [
    "def locations_per_day(df, travel_length):\n",
    "    travel_length = int(travel_length)\n",
    "    loc_per_day = []\n",
    "    number_of_locs = df.shape[0]\n",
    "    while travel_length != 0:\n",
    "        loc_per_day.append(number_of_locs // travel_length)\n",
    "        number_of_locs -= (number_of_locs // travel_length)\n",
    "        travel_length -= 1\n",
    "    random.shuffle(loc_per_day) # obtain a random ordering of locations per day\n",
    "    \n",
    "    coordinates = [0] * len(loc_per_day)\n",
    "    used_coordinates = []\n",
    "    \n",
    "    # creates nested lists of tuples within a list that indicate the coordinates of the places you visit per day\n",
    "    for i in range(len(coordinates)):\n",
    "        coordinates[i] = []\n",
    "        for j in range(0, loc_per_day[i]):\n",
    "            row = df.sample()\n",
    "            long_lat = (row.iloc[0][\"Longitude\"], row.iloc[0][\"Latitude\"])\n",
    "            while long_lat in used_coordinates:\n",
    "                row = df.sample()\n",
    "                long_lat = (row.iloc[0][\"Longitude\"], row.iloc[0][\"Latitude\"])\n",
    "            coordinates[i].append(long_lat)\n",
    "            used_coordinates.append(long_lat)\n",
    "            \n",
    "    \n",
    "    return coordinates"
   ]
  },
  {
   "cell_type": "code",
   "execution_count": null,
   "id": "statistical-professor",
   "metadata": {},
   "outputs": [],
   "source": [
    " "
   ]
  },
  {
   "cell_type": "code",
   "execution_count": 90,
   "id": "organizational-virginia",
   "metadata": {},
   "outputs": [],
   "source": [
    "# Putting what we did before into a function. We get the route between the two locations provided we have the coordinates\n",
    "# for the locations. Ideally, I will get the coordinates from the Pandas dataframe, though I'm still figuring that out.\n",
    "def get_route(lon_0, lat_0, lon_1, lat_1, lon_2, lat_2):\n",
    "    \n",
    "    loc = \"{},{};{},{};{},{}\".format(lon_0, lat_0, lon_1, lat_1, lon_2, lat_2)\n",
    "    url = \"http://router.project-osrm.org/route/v1/car/\"\n",
    "    r = requests.get(url + loc) # same thing as what we did before, getting the request\n",
    "    print(r.status_code)\n",
    "    if r.status_code!= 200: # I don't know what this means\n",
    "        return {}\n",
    "  \n",
    "    res = r.json()   \n",
    "    routes = polyline.decode(res['routes'][0]['geometry']) # the geometry specifies the polyline encoding; I'm also guessing that if we have more routes we would do this for each of the routes, with the index changing for each route\n",
    "    start_point = [res['waypoints'][0]['location'][1], res['waypoints'][0]['location'][0]] # 0th waypoint corresponds to the starting location\n",
    "    end_point = [res['waypoints'][1]['location'][1], res['waypoints'][1]['location'][0]] # 1st waypoint corresponds to the ending location\n",
    "    distance = res['routes'][0]['distance']\n",
    "    \n",
    "    out = {'route':routes,\n",
    "           'start_point':start_point,\n",
    "           'end_point':end_point,\n",
    "           'distance':distance\n",
    "          } # returning a dictionary with the routes, starting point, ending point, and distance\n",
    "\n",
    "    return out"
   ]
  },
  {
   "cell_type": "markdown",
   "id": "mediterranean-donna",
   "metadata": {},
   "source": [
    "##### New get_route Function\n",
    "Run this function to add waypoints for a single trip."
   ]
  },
  {
   "cell_type": "code",
   "execution_count": 162,
   "id": "oriented-diploma",
   "metadata": {},
   "outputs": [],
   "source": [
    "def get_route(coordinates, hotel):\n",
    "    loc = str(hotel.iloc[0][\"Longitude\"]) + \",\" + str(hotel.iloc[0][\"Latitude\"]) + \";\"\n",
    "    for i in range(len(coordinates)):\n",
    "        if i == len(coordinates) - 1:\n",
    "            loc += str(coordinates[i][0]) + \",\" + str(coordinates[i][1])\n",
    "        else:\n",
    "            loc += str(coordinates[i][0]) + \",\" + str(coordinates[i][1]) + \";\"\n",
    "    url = \"http://router.project-osrm.org/route/v1/car/\"\n",
    "    r = requests.get(url + loc) # same thing as what we did before, getting the request\n",
    "    if r.status_code!= 200: # I don't know what this means\n",
    "        return {}\n",
    "  \n",
    "    res = r.json()   \n",
    "    routes = polyline.decode(res['routes'][0]['geometry']) # the geometry specifies the polyline encoding; I'm also guessing that if we have more routes we would do this for each of the routes, with the index changing for each route\n",
    "    start_point = [res['waypoints'][0]['location'][1], res['waypoints'][0]['location'][0]] # 0th waypoint corresponds to the starting location\n",
    "    end_point = [res['waypoints'][len(res['waypoints']) - 1]['location'][1], res['waypoints'][len(res['waypoints']) - 1]['location'][0]] # 1st waypoint corresponds to the ending location\n",
    "    waypoints = []\n",
    "    for i in range(1, len(res['waypoints']) - 1):\n",
    "        waypoints.append((res['waypoints'][i]['location'][1], res['waypoints'][i]['location'][0]))\n",
    "    distance = res['routes'][0]['distance']\n",
    "\n",
    "    out = {'route':routes,\n",
    "           'start_point':start_point,\n",
    "           'waypoints': waypoints,\n",
    "           'end_point':end_point,\n",
    "           'distance':distance\n",
    "          } # returning a dictionary with the routes, starting point, ending point, and distance\n",
    "\n",
    "    return out"
   ]
  },
  {
   "cell_type": "code",
   "execution_count": 128,
   "id": "prescription-bennett",
   "metadata": {},
   "outputs": [
    {
     "data": {
      "text/plain": [
       "[[(-118.2548018, 34.054796)],\n",
       " [(-118.25055660000001, 34.0544412)],\n",
       " [(-118.359047, 34.0724002), (-118.29651118079025, 34.140603999999996)]]"
      ]
     },
     "execution_count": 128,
     "metadata": {},
     "output_type": "execute_result"
    }
   ],
   "source": [
    "coordinates"
   ]
  },
  {
   "cell_type": "code",
   "execution_count": 132,
   "id": "activated-jurisdiction",
   "metadata": {},
   "outputs": [
    {
     "data": {
      "text/plain": [
       "34.054796"
      ]
     },
     "execution_count": 132,
     "metadata": {},
     "output_type": "execute_result"
    }
   ],
   "source": [
    "hotel.iloc[0][\"Latitude\"]"
   ]
  },
  {
   "cell_type": "code",
   "execution_count": null,
   "id": "numerical-brush",
   "metadata": {},
   "outputs": [],
   "source": [
    "url = \"http://router.project-osrm.org/route/v1/car/\"\n",
    "    r = requests.get(url + loc) # same thing as what we did before, getting the request\n",
    "    if r.status_code!= 200: # I don't know what this means\n",
    "        return {}\n",
    "  \n",
    "    res = r.json()   "
   ]
  },
  {
   "cell_type": "code",
   "execution_count": 120,
   "id": "consecutive-reader",
   "metadata": {},
   "outputs": [
    {
     "name": "stdout",
     "output_type": "stream",
     "text": [
      "-118.47571198123117,34.07695125;\n",
      "-118.47571198123117,34.07695125;-118.30029332196601,34.11821875;\n",
      "-118.47571198123117,34.07695125;-118.30029332196601,34.11821875;-118.36187858396794,34.13832135;\n",
      "-118.47571198123117,34.07695125;-118.30029332196601,34.11821875;-118.36187858396794,34.13832135;-118.36119135387796,34.062315\n",
      "[(34.119175, -118.300375), (34.138786, -118.361718)]\n"
     ]
    },
    {
     "data": {
      "text/plain": [
       "{'route': [(34.07549, -118.47637),\n",
       "  (34.07407, -118.47685),\n",
       "  (34.07442, -118.47834),\n",
       "  (34.07266, -118.47774),\n",
       "  (34.07052, -118.47423),\n",
       "  (34.06527, -118.4702),\n",
       "  (34.07168, -118.46848),\n",
       "  (34.07254, -118.46712),\n",
       "  (34.07133, -118.46555),\n",
       "  (34.05391, -118.45075),\n",
       "  (34.04682, -118.44726),\n",
       "  (34.04712, -118.44593),\n",
       "  (34.05055, -118.43412),\n",
       "  (34.0801, -118.39142),\n",
       "  (34.09045, -118.37428),\n",
       "  (34.09074, -118.32664),\n",
       "  (34.10163, -118.3267),\n",
       "  (34.10174, -118.30927),\n",
       "  (34.10772, -118.3091),\n",
       "  (34.11109, -118.29182),\n",
       "  (34.1155, -118.29009),\n",
       "  (34.11964, -118.29541),\n",
       "  (34.12442, -118.29722),\n",
       "  (34.12307, -118.29901),\n",
       "  (34.12293, -118.30284),\n",
       "  (34.12157, -118.30076),\n",
       "  (34.11918, -118.30038),\n",
       "  (34.12311, -118.29991),\n",
       "  (34.12442, -118.29722),\n",
       "  (34.11964, -118.29541),\n",
       "  (34.11547, -118.29031),\n",
       "  (34.11109, -118.29182),\n",
       "  (34.1078, -118.30916),\n",
       "  (34.10538, -118.30929),\n",
       "  (34.10548, -118.32606),\n",
       "  (34.11062, -118.33454),\n",
       "  (34.12008, -118.33848),\n",
       "  (34.13186, -118.35004),\n",
       "  (34.13564, -118.3597),\n",
       "  (34.13813, -118.36267),\n",
       "  (34.13879, -118.36172),\n",
       "  (34.13716, -118.36327),\n",
       "  (34.13512, -118.36133),\n",
       "  (34.13161, -118.35199),\n",
       "  (34.1267, -118.34542),\n",
       "  (34.11847, -118.33845),\n",
       "  (34.11198, -118.33617),\n",
       "  (34.10338, -118.33874),\n",
       "  (34.06211, -118.33852),\n",
       "  (34.06226, -118.36072)],\n",
       " 'start_point': [34.075493, -118.476367],\n",
       " 'waypoints': [(34.119175, -118.300375), (34.138786, -118.361718)],\n",
       " 'end_point': [34.062264, -118.360718],\n",
       " 'distance': 50659.3}"
      ]
     },
     "execution_count": 120,
     "metadata": {},
     "output_type": "execute_result"
    }
   ],
   "source": [
    "# We specify our starting and ending coordinates using the rows from the Pandas dataframe. The first pair corresponds to the \n",
    "# Griffith Observatory and the second pair corresponds to Universal Studios Hollywood.\n",
    "\n",
    "#pickup_lon, pickup_lat, dropoff_lon, dropoff_lat = -118.300293,34.118219,-118.361879,34.138321\n",
    "coordinates = []\n",
    "for i in range(df.shape[0]):\n",
    "    lon = df.iloc[i][\"Longitude\"]\n",
    "    lat = df.iloc[i][\"Latitude\"]\n",
    "    coordinates.append((lon, lat))\n",
    "#pickup_lon, pickup_lat, dropoff_lon, dropoff_lat = df.iloc[1][\"Longitude\"], df.iloc[1][\"Latitude\"], df.iloc[2][\"Longitude\"], df.iloc[2][\"Latitude\"]\n",
    "#test_route = get_route(df.iloc[0][\"Longitude\"], df.iloc[0][\"Latitude\"], df.iloc[1][\"Longitude\"], df.iloc[1][\"Latitude\"], df.iloc[2][\"Longitude\"], df.iloc[2][\"Latitude\"])\n",
    "test_route = get_route(coordinates)\n",
    "test_route"
   ]
  },
  {
   "cell_type": "code",
   "execution_count": 163,
   "id": "previous-suspension",
   "metadata": {},
   "outputs": [
    {
     "data": {
      "text/plain": [
       "[{'route': [(34.07915, -118.29171),\n",
       "   (34.07634, -118.2917),\n",
       "   (34.07628, -118.28778),\n",
       "   (34.07402, -118.28632),\n",
       "   (34.07279, -118.28439),\n",
       "   (34.05992, -118.2553),\n",
       "   (34.05917, -118.25417),\n",
       "   (34.05557, -118.2576),\n",
       "   (34.05434, -118.25692),\n",
       "   (34.05354, -118.25598),\n",
       "   (34.0548, -118.2548)],\n",
       "  'start_point': [34.079147, -118.291714],\n",
       "  'waypoints': [],\n",
       "  'end_point': [34.054796, -118.254802],\n",
       "  'distance': 5323.8},\n",
       " {'route': [(34.07915, -118.29171),\n",
       "   (34.07634, -118.2917),\n",
       "   (34.07628, -118.28778),\n",
       "   (34.07402, -118.28632),\n",
       "   (34.07279, -118.28439),\n",
       "   (34.06105, -118.25782),\n",
       "   (34.06047, -118.25823),\n",
       "   (34.05888, -118.25668),\n",
       "   (34.05472, -118.2503)],\n",
       "  'start_point': [34.079147, -118.291714],\n",
       "  'waypoints': [],\n",
       "  'end_point': [34.054717, -118.250303],\n",
       "  'distance': 5014.4},\n",
       " {'route': [(34.07915, -118.29171),\n",
       "   (34.07634, -118.2917),\n",
       "   (34.07623, -118.32645),\n",
       "   (34.07571, -118.3285),\n",
       "   (34.0762, -118.33472),\n",
       "   (34.07612, -118.36145),\n",
       "   (34.073, -118.36142),\n",
       "   (34.07297, -118.35904),\n",
       "   (34.07245, -118.35922),\n",
       "   (34.07128, -118.35947),\n",
       "   (34.07153, -118.36142),\n",
       "   (34.07612, -118.36145),\n",
       "   (34.0762, -118.33472),\n",
       "   (34.07571, -118.3285),\n",
       "   (34.07623, -118.32645),\n",
       "   (34.07625, -118.30917),\n",
       "   (34.10768, -118.30916),\n",
       "   (34.11351, -118.27781),\n",
       "   (34.11658, -118.2719),\n",
       "   (34.12167, -118.27412),\n",
       "   (34.12985, -118.27485),\n",
       "   (34.13149, -118.27709),\n",
       "   (34.13251, -118.2807),\n",
       "   (34.13539, -118.28206),\n",
       "   (34.136, -118.28727),\n",
       "   (34.14086, -118.28817),\n",
       "   (34.14199, -118.29024),\n",
       "   (34.14352, -118.28962),\n",
       "   (34.14485, -118.29356)],\n",
       "  'start_point': [34.079147, -118.291714],\n",
       "  'waypoints': [(34.072447, -118.35922)],\n",
       "  'end_point': [34.14485, -118.293564],\n",
       "  'distance': 24575}]"
      ]
     },
     "execution_count": 163,
     "metadata": {},
     "output_type": "execute_result"
    }
   ],
   "source": [
    "route_list = []\n",
    "for i in range(len(coordinates)):\n",
    "    test_route = get_route(coordinates[i], hotel)\n",
    "    route_list.append(test_route)\n",
    "route_list"
   ]
  },
  {
   "cell_type": "code",
   "execution_count": 181,
   "id": "sustainable-credits",
   "metadata": {},
   "outputs": [
    {
     "data": {
      "text/plain": [
       "[5323.8, 5014.4, 24575]"
      ]
     },
     "execution_count": 181,
     "metadata": {},
     "output_type": "execute_result"
    }
   ],
   "source": [
    "distances = [route['distance'] for route in route_list]\n",
    "distances"
   ]
  },
  {
   "cell_type": "code",
   "execution_count": 187,
   "id": "respective-demographic",
   "metadata": {},
   "outputs": [],
   "source": [
    "list_colors = [\n",
    "    \"red\",\n",
    "    \"orange\",\n",
    "    \"yellow\",\n",
    "    \"green\",\n",
    "    \"blue\",\n",
    "    \"purple\"\n",
    "]"
   ]
  },
  {
   "cell_type": "code",
   "execution_count": null,
   "id": "possible-london",
   "metadata": {},
   "outputs": [],
   "source": [
    "color_dict"
   ]
  },
  {
   "cell_type": "code",
   "execution_count": 200,
   "id": "close-employment",
   "metadata": {},
   "outputs": [],
   "source": [
    "# Using folium to draw the route on an interactive map. Since none of us are really familiar with folium, it would be worth\n",
    "# seeing if we can accomplish the same results but using plotly express instead.\n",
    "def get_map(route, route_color):\n",
    "    \n",
    "    m = folium.Map(location=[(route['start_point'][0] + route['end_point'][0])/2, \n",
    "                             (route['start_point'][1] + route['end_point'][1])/2], \n",
    "                   zoom_start=13)\n",
    "\n",
    "    folium.PolyLine(\n",
    "        route['route'],\n",
    "        weight=8,\n",
    "        color=route_color,\n",
    "        opacity=0.6\n",
    "    ).add_to(m)\n",
    "\n",
    "    folium.Marker(\n",
    "        location=route['start_point'],\n",
    "        icon=folium.Icon(icon='play', color='green')\n",
    "    ).add_to(m)\n",
    "\n",
    "    folium.Marker(\n",
    "        location=route['end_point'],\n",
    "        icon=folium.Icon(icon='stop', color='red')\n",
    "    ).add_to(m)\n",
    "    \n",
    "    for i in range(len(route['waypoints'])):\n",
    "        folium.Marker(\n",
    "            location=route['waypoints'][i],\n",
    "            icon=folium.Icon(icon='circle', color='blue')\n",
    "        ).add_to(m)\n",
    "\n",
    "    return m"
   ]
  },
  {
   "cell_type": "code",
   "execution_count": 204,
   "id": "victorian-legislature",
   "metadata": {
    "scrolled": true
   },
   "outputs": [],
   "source": [
    "# Getting the map for our test route\n",
    "maps = []\n",
    "for i in range(len(route_list)):\n",
    "    maps.append(get_map(route_list[i], list_colors[i]))"
   ]
  },
  {
   "cell_type": "code",
   "execution_count": 206,
   "id": "opposed-attack",
   "metadata": {},
   "outputs": [
    {
     "data": {
      "text/html": [
       "<div style=\"width:100%;\"><div style=\"position:relative;width:100%;height:0;padding-bottom:60%;\"><span style=\"color:#565656\">Make this Notebook Trusted to load map: File -> Trust Notebook</span><iframe src=\"about:blank\" style=\"position:absolute;width:100%;height:100%;left:0;top:0;border:none !important;\" data-html=%3C%21DOCTYPE%20html%3E%0A%3Chead%3E%20%20%20%20%0A%20%20%20%20%3Cmeta%20http-equiv%3D%22content-type%22%20content%3D%22text/html%3B%20charset%3DUTF-8%22%20/%3E%0A%20%20%20%20%0A%20%20%20%20%20%20%20%20%3Cscript%3E%0A%20%20%20%20%20%20%20%20%20%20%20%20L_NO_TOUCH%20%3D%20false%3B%0A%20%20%20%20%20%20%20%20%20%20%20%20L_DISABLE_3D%20%3D%20false%3B%0A%20%20%20%20%20%20%20%20%3C/script%3E%0A%20%20%20%20%0A%20%20%20%20%3Cstyle%3Ehtml%2C%20body%20%7Bwidth%3A%20100%25%3Bheight%3A%20100%25%3Bmargin%3A%200%3Bpadding%3A%200%3B%7D%3C/style%3E%0A%20%20%20%20%3Cstyle%3E%23map%20%7Bposition%3Aabsolute%3Btop%3A0%3Bbottom%3A0%3Bright%3A0%3Bleft%3A0%3B%7D%3C/style%3E%0A%20%20%20%20%3Cscript%20src%3D%22https%3A//cdn.jsdelivr.net/npm/leaflet%401.6.0/dist/leaflet.js%22%3E%3C/script%3E%0A%20%20%20%20%3Cscript%20src%3D%22https%3A//code.jquery.com/jquery-1.12.4.min.js%22%3E%3C/script%3E%0A%20%20%20%20%3Cscript%20src%3D%22https%3A//maxcdn.bootstrapcdn.com/bootstrap/3.2.0/js/bootstrap.min.js%22%3E%3C/script%3E%0A%20%20%20%20%3Cscript%20src%3D%22https%3A//cdnjs.cloudflare.com/ajax/libs/Leaflet.awesome-markers/2.0.2/leaflet.awesome-markers.js%22%3E%3C/script%3E%0A%20%20%20%20%3Clink%20rel%3D%22stylesheet%22%20href%3D%22https%3A//cdn.jsdelivr.net/npm/leaflet%401.6.0/dist/leaflet.css%22/%3E%0A%20%20%20%20%3Clink%20rel%3D%22stylesheet%22%20href%3D%22https%3A//maxcdn.bootstrapcdn.com/bootstrap/3.2.0/css/bootstrap.min.css%22/%3E%0A%20%20%20%20%3Clink%20rel%3D%22stylesheet%22%20href%3D%22https%3A//maxcdn.bootstrapcdn.com/bootstrap/3.2.0/css/bootstrap-theme.min.css%22/%3E%0A%20%20%20%20%3Clink%20rel%3D%22stylesheet%22%20href%3D%22https%3A//maxcdn.bootstrapcdn.com/font-awesome/4.6.3/css/font-awesome.min.css%22/%3E%0A%20%20%20%20%3Clink%20rel%3D%22stylesheet%22%20href%3D%22https%3A//cdnjs.cloudflare.com/ajax/libs/Leaflet.awesome-markers/2.0.2/leaflet.awesome-markers.css%22/%3E%0A%20%20%20%20%3Clink%20rel%3D%22stylesheet%22%20href%3D%22https%3A//cdn.jsdelivr.net/gh/python-visualization/folium/folium/templates/leaflet.awesome.rotate.min.css%22/%3E%0A%20%20%20%20%0A%20%20%20%20%20%20%20%20%20%20%20%20%3Cmeta%20name%3D%22viewport%22%20content%3D%22width%3Ddevice-width%2C%0A%20%20%20%20%20%20%20%20%20%20%20%20%20%20%20%20initial-scale%3D1.0%2C%20maximum-scale%3D1.0%2C%20user-scalable%3Dno%22%20/%3E%0A%20%20%20%20%20%20%20%20%20%20%20%20%3Cstyle%3E%0A%20%20%20%20%20%20%20%20%20%20%20%20%20%20%20%20%23map_8dee7e658e3e49179e369cea6623a711%20%7B%0A%20%20%20%20%20%20%20%20%20%20%20%20%20%20%20%20%20%20%20%20position%3A%20relative%3B%0A%20%20%20%20%20%20%20%20%20%20%20%20%20%20%20%20%20%20%20%20width%3A%20100.0%25%3B%0A%20%20%20%20%20%20%20%20%20%20%20%20%20%20%20%20%20%20%20%20height%3A%20100.0%25%3B%0A%20%20%20%20%20%20%20%20%20%20%20%20%20%20%20%20%20%20%20%20left%3A%200.0%25%3B%0A%20%20%20%20%20%20%20%20%20%20%20%20%20%20%20%20%20%20%20%20top%3A%200.0%25%3B%0A%20%20%20%20%20%20%20%20%20%20%20%20%20%20%20%20%7D%0A%20%20%20%20%20%20%20%20%20%20%20%20%3C/style%3E%0A%20%20%20%20%20%20%20%20%0A%3C/head%3E%0A%3Cbody%3E%20%20%20%20%0A%20%20%20%20%0A%20%20%20%20%20%20%20%20%20%20%20%20%3Cdiv%20class%3D%22folium-map%22%20id%3D%22map_8dee7e658e3e49179e369cea6623a711%22%20%3E%3C/div%3E%0A%20%20%20%20%20%20%20%20%0A%3C/body%3E%0A%3Cscript%3E%20%20%20%20%0A%20%20%20%20%0A%20%20%20%20%20%20%20%20%20%20%20%20var%20map_8dee7e658e3e49179e369cea6623a711%20%3D%20L.map%28%0A%20%20%20%20%20%20%20%20%20%20%20%20%20%20%20%20%22map_8dee7e658e3e49179e369cea6623a711%22%2C%0A%20%20%20%20%20%20%20%20%20%20%20%20%20%20%20%20%7B%0A%20%20%20%20%20%20%20%20%20%20%20%20%20%20%20%20%20%20%20%20center%3A%20%5B34.0669715%2C%20-118.273258%5D%2C%0A%20%20%20%20%20%20%20%20%20%20%20%20%20%20%20%20%20%20%20%20crs%3A%20L.CRS.EPSG3857%2C%0A%20%20%20%20%20%20%20%20%20%20%20%20%20%20%20%20%20%20%20%20zoom%3A%2013%2C%0A%20%20%20%20%20%20%20%20%20%20%20%20%20%20%20%20%20%20%20%20zoomControl%3A%20true%2C%0A%20%20%20%20%20%20%20%20%20%20%20%20%20%20%20%20%20%20%20%20preferCanvas%3A%20false%2C%0A%20%20%20%20%20%20%20%20%20%20%20%20%20%20%20%20%7D%0A%20%20%20%20%20%20%20%20%20%20%20%20%29%3B%0A%0A%20%20%20%20%20%20%20%20%20%20%20%20%0A%0A%20%20%20%20%20%20%20%20%0A%20%20%20%20%0A%20%20%20%20%20%20%20%20%20%20%20%20var%20tile_layer_56b44f38ad0e442d9777829bcbc6ee65%20%3D%20L.tileLayer%28%0A%20%20%20%20%20%20%20%20%20%20%20%20%20%20%20%20%22https%3A//%7Bs%7D.tile.openstreetmap.org/%7Bz%7D/%7Bx%7D/%7By%7D.png%22%2C%0A%20%20%20%20%20%20%20%20%20%20%20%20%20%20%20%20%7B%22attribution%22%3A%20%22Data%20by%20%5Cu0026copy%3B%20%5Cu003ca%20href%3D%5C%22http%3A//openstreetmap.org%5C%22%5Cu003eOpenStreetMap%5Cu003c/a%5Cu003e%2C%20under%20%5Cu003ca%20href%3D%5C%22http%3A//www.openstreetmap.org/copyright%5C%22%5Cu003eODbL%5Cu003c/a%5Cu003e.%22%2C%20%22detectRetina%22%3A%20false%2C%20%22maxNativeZoom%22%3A%2018%2C%20%22maxZoom%22%3A%2018%2C%20%22minZoom%22%3A%200%2C%20%22noWrap%22%3A%20false%2C%20%22opacity%22%3A%201%2C%20%22subdomains%22%3A%20%22abc%22%2C%20%22tms%22%3A%20false%7D%0A%20%20%20%20%20%20%20%20%20%20%20%20%29.addTo%28map_8dee7e658e3e49179e369cea6623a711%29%3B%0A%20%20%20%20%20%20%20%20%0A%20%20%20%20%0A%20%20%20%20%20%20%20%20%20%20%20%20var%20poly_line_308dfdda707c41ddacab7eb6fe369282%20%3D%20L.polyline%28%0A%20%20%20%20%20%20%20%20%20%20%20%20%20%20%20%20%5B%5B34.07915%2C%20-118.29171%5D%2C%20%5B34.07634%2C%20-118.2917%5D%2C%20%5B34.07628%2C%20-118.28778%5D%2C%20%5B34.07402%2C%20-118.28632%5D%2C%20%5B34.07279%2C%20-118.28439%5D%2C%20%5B34.05992%2C%20-118.2553%5D%2C%20%5B34.05917%2C%20-118.25417%5D%2C%20%5B34.05557%2C%20-118.2576%5D%2C%20%5B34.05434%2C%20-118.25692%5D%2C%20%5B34.05354%2C%20-118.25598%5D%2C%20%5B34.0548%2C%20-118.2548%5D%5D%2C%0A%20%20%20%20%20%20%20%20%20%20%20%20%20%20%20%20%7B%22bubblingMouseEvents%22%3A%20true%2C%20%22color%22%3A%20%22%2300FF00%22%2C%20%22dashArray%22%3A%20null%2C%20%22dashOffset%22%3A%20null%2C%20%22fill%22%3A%20false%2C%20%22fillColor%22%3A%20%22%2300FF00%22%2C%20%22fillOpacity%22%3A%200.2%2C%20%22fillRule%22%3A%20%22evenodd%22%2C%20%22lineCap%22%3A%20%22round%22%2C%20%22lineJoin%22%3A%20%22round%22%2C%20%22noClip%22%3A%20false%2C%20%22opacity%22%3A%200.6%2C%20%22smoothFactor%22%3A%201.0%2C%20%22stroke%22%3A%20true%2C%20%22weight%22%3A%208%7D%0A%20%20%20%20%20%20%20%20%20%20%20%20%29.addTo%28map_8dee7e658e3e49179e369cea6623a711%29%3B%0A%20%20%20%20%20%20%20%20%0A%20%20%20%20%0A%20%20%20%20%20%20%20%20%20%20%20%20var%20marker_fcf1a022bd314d289f503e38c9101c56%20%3D%20L.marker%28%0A%20%20%20%20%20%20%20%20%20%20%20%20%20%20%20%20%5B34.079147%2C%20-118.291714%5D%2C%0A%20%20%20%20%20%20%20%20%20%20%20%20%20%20%20%20%7B%7D%0A%20%20%20%20%20%20%20%20%20%20%20%20%29.addTo%28map_8dee7e658e3e49179e369cea6623a711%29%3B%0A%20%20%20%20%20%20%20%20%0A%20%20%20%20%0A%20%20%20%20%20%20%20%20%20%20%20%20var%20icon_1b748f99d4ea4a38991791f9d215b865%20%3D%20L.AwesomeMarkers.icon%28%0A%20%20%20%20%20%20%20%20%20%20%20%20%20%20%20%20%7B%22extraClasses%22%3A%20%22fa-rotate-0%22%2C%20%22icon%22%3A%20%22play%22%2C%20%22iconColor%22%3A%20%22white%22%2C%20%22markerColor%22%3A%20%22green%22%2C%20%22prefix%22%3A%20%22glyphicon%22%7D%0A%20%20%20%20%20%20%20%20%20%20%20%20%29%3B%0A%20%20%20%20%20%20%20%20%20%20%20%20marker_fcf1a022bd314d289f503e38c9101c56.setIcon%28icon_1b748f99d4ea4a38991791f9d215b865%29%3B%0A%20%20%20%20%20%20%20%20%0A%20%20%20%20%0A%20%20%20%20%20%20%20%20%20%20%20%20var%20marker_793667ea41d44bfba7b8471eb2d1d659%20%3D%20L.marker%28%0A%20%20%20%20%20%20%20%20%20%20%20%20%20%20%20%20%5B34.054796%2C%20-118.254802%5D%2C%0A%20%20%20%20%20%20%20%20%20%20%20%20%20%20%20%20%7B%7D%0A%20%20%20%20%20%20%20%20%20%20%20%20%29.addTo%28map_8dee7e658e3e49179e369cea6623a711%29%3B%0A%20%20%20%20%20%20%20%20%0A%20%20%20%20%0A%20%20%20%20%20%20%20%20%20%20%20%20var%20icon_b87d4f1682314b5e9c63e2e12be79306%20%3D%20L.AwesomeMarkers.icon%28%0A%20%20%20%20%20%20%20%20%20%20%20%20%20%20%20%20%7B%22extraClasses%22%3A%20%22fa-rotate-0%22%2C%20%22icon%22%3A%20%22stop%22%2C%20%22iconColor%22%3A%20%22white%22%2C%20%22markerColor%22%3A%20%22red%22%2C%20%22prefix%22%3A%20%22glyphicon%22%7D%0A%20%20%20%20%20%20%20%20%20%20%20%20%29%3B%0A%20%20%20%20%20%20%20%20%20%20%20%20marker_793667ea41d44bfba7b8471eb2d1d659.setIcon%28icon_b87d4f1682314b5e9c63e2e12be79306%29%3B%0A%20%20%20%20%20%20%20%20%0A%3C/script%3E onload=\"this.contentDocument.open();this.contentDocument.write(    decodeURIComponent(this.getAttribute('data-html')));this.contentDocument.close();\" allowfullscreen webkitallowfullscreen mozallowfullscreen></iframe></div></div>"
      ],
      "text/plain": [
       "<folium.folium.Map at 0x1be646ab108>"
      ]
     },
     "execution_count": 206,
     "metadata": {},
     "output_type": "execute_result"
    }
   ],
   "source": [
    "maps[0]"
   ]
  },
  {
   "cell_type": "code",
   "execution_count": 207,
   "id": "toxic-operator",
   "metadata": {},
   "outputs": [
    {
     "data": {
      "text/html": [
       "<div style=\"width:100%;\"><div style=\"position:relative;width:100%;height:0;padding-bottom:60%;\"><span style=\"color:#565656\">Make this Notebook Trusted to load map: File -> Trust Notebook</span><iframe src=\"about:blank\" style=\"position:absolute;width:100%;height:100%;left:0;top:0;border:none !important;\" data-html=%3C%21DOCTYPE%20html%3E%0A%3Chead%3E%20%20%20%20%0A%20%20%20%20%3Cmeta%20http-equiv%3D%22content-type%22%20content%3D%22text/html%3B%20charset%3DUTF-8%22%20/%3E%0A%20%20%20%20%0A%20%20%20%20%20%20%20%20%3Cscript%3E%0A%20%20%20%20%20%20%20%20%20%20%20%20L_NO_TOUCH%20%3D%20false%3B%0A%20%20%20%20%20%20%20%20%20%20%20%20L_DISABLE_3D%20%3D%20false%3B%0A%20%20%20%20%20%20%20%20%3C/script%3E%0A%20%20%20%20%0A%20%20%20%20%3Cstyle%3Ehtml%2C%20body%20%7Bwidth%3A%20100%25%3Bheight%3A%20100%25%3Bmargin%3A%200%3Bpadding%3A%200%3B%7D%3C/style%3E%0A%20%20%20%20%3Cstyle%3E%23map%20%7Bposition%3Aabsolute%3Btop%3A0%3Bbottom%3A0%3Bright%3A0%3Bleft%3A0%3B%7D%3C/style%3E%0A%20%20%20%20%3Cscript%20src%3D%22https%3A//cdn.jsdelivr.net/npm/leaflet%401.6.0/dist/leaflet.js%22%3E%3C/script%3E%0A%20%20%20%20%3Cscript%20src%3D%22https%3A//code.jquery.com/jquery-1.12.4.min.js%22%3E%3C/script%3E%0A%20%20%20%20%3Cscript%20src%3D%22https%3A//maxcdn.bootstrapcdn.com/bootstrap/3.2.0/js/bootstrap.min.js%22%3E%3C/script%3E%0A%20%20%20%20%3Cscript%20src%3D%22https%3A//cdnjs.cloudflare.com/ajax/libs/Leaflet.awesome-markers/2.0.2/leaflet.awesome-markers.js%22%3E%3C/script%3E%0A%20%20%20%20%3Clink%20rel%3D%22stylesheet%22%20href%3D%22https%3A//cdn.jsdelivr.net/npm/leaflet%401.6.0/dist/leaflet.css%22/%3E%0A%20%20%20%20%3Clink%20rel%3D%22stylesheet%22%20href%3D%22https%3A//maxcdn.bootstrapcdn.com/bootstrap/3.2.0/css/bootstrap.min.css%22/%3E%0A%20%20%20%20%3Clink%20rel%3D%22stylesheet%22%20href%3D%22https%3A//maxcdn.bootstrapcdn.com/bootstrap/3.2.0/css/bootstrap-theme.min.css%22/%3E%0A%20%20%20%20%3Clink%20rel%3D%22stylesheet%22%20href%3D%22https%3A//maxcdn.bootstrapcdn.com/font-awesome/4.6.3/css/font-awesome.min.css%22/%3E%0A%20%20%20%20%3Clink%20rel%3D%22stylesheet%22%20href%3D%22https%3A//cdnjs.cloudflare.com/ajax/libs/Leaflet.awesome-markers/2.0.2/leaflet.awesome-markers.css%22/%3E%0A%20%20%20%20%3Clink%20rel%3D%22stylesheet%22%20href%3D%22https%3A//cdn.jsdelivr.net/gh/python-visualization/folium/folium/templates/leaflet.awesome.rotate.min.css%22/%3E%0A%20%20%20%20%0A%20%20%20%20%20%20%20%20%20%20%20%20%3Cmeta%20name%3D%22viewport%22%20content%3D%22width%3Ddevice-width%2C%0A%20%20%20%20%20%20%20%20%20%20%20%20%20%20%20%20initial-scale%3D1.0%2C%20maximum-scale%3D1.0%2C%20user-scalable%3Dno%22%20/%3E%0A%20%20%20%20%20%20%20%20%20%20%20%20%3Cstyle%3E%0A%20%20%20%20%20%20%20%20%20%20%20%20%20%20%20%20%23map_1a5fd6615e3444d1a3354b862e681523%20%7B%0A%20%20%20%20%20%20%20%20%20%20%20%20%20%20%20%20%20%20%20%20position%3A%20relative%3B%0A%20%20%20%20%20%20%20%20%20%20%20%20%20%20%20%20%20%20%20%20width%3A%20100.0%25%3B%0A%20%20%20%20%20%20%20%20%20%20%20%20%20%20%20%20%20%20%20%20height%3A%20100.0%25%3B%0A%20%20%20%20%20%20%20%20%20%20%20%20%20%20%20%20%20%20%20%20left%3A%200.0%25%3B%0A%20%20%20%20%20%20%20%20%20%20%20%20%20%20%20%20%20%20%20%20top%3A%200.0%25%3B%0A%20%20%20%20%20%20%20%20%20%20%20%20%20%20%20%20%7D%0A%20%20%20%20%20%20%20%20%20%20%20%20%3C/style%3E%0A%20%20%20%20%20%20%20%20%0A%3C/head%3E%0A%3Cbody%3E%20%20%20%20%0A%20%20%20%20%0A%20%20%20%20%20%20%20%20%20%20%20%20%3Cdiv%20class%3D%22folium-map%22%20id%3D%22map_1a5fd6615e3444d1a3354b862e681523%22%20%3E%3C/div%3E%0A%20%20%20%20%20%20%20%20%0A%3C/body%3E%0A%3Cscript%3E%20%20%20%20%0A%20%20%20%20%0A%20%20%20%20%20%20%20%20%20%20%20%20var%20map_1a5fd6615e3444d1a3354b862e681523%20%3D%20L.map%28%0A%20%20%20%20%20%20%20%20%20%20%20%20%20%20%20%20%22map_1a5fd6615e3444d1a3354b862e681523%22%2C%0A%20%20%20%20%20%20%20%20%20%20%20%20%20%20%20%20%7B%0A%20%20%20%20%20%20%20%20%20%20%20%20%20%20%20%20%20%20%20%20center%3A%20%5B34.066931999999994%2C%20-118.2710085%5D%2C%0A%20%20%20%20%20%20%20%20%20%20%20%20%20%20%20%20%20%20%20%20crs%3A%20L.CRS.EPSG3857%2C%0A%20%20%20%20%20%20%20%20%20%20%20%20%20%20%20%20%20%20%20%20zoom%3A%2013%2C%0A%20%20%20%20%20%20%20%20%20%20%20%20%20%20%20%20%20%20%20%20zoomControl%3A%20true%2C%0A%20%20%20%20%20%20%20%20%20%20%20%20%20%20%20%20%20%20%20%20preferCanvas%3A%20false%2C%0A%20%20%20%20%20%20%20%20%20%20%20%20%20%20%20%20%7D%0A%20%20%20%20%20%20%20%20%20%20%20%20%29%3B%0A%0A%20%20%20%20%20%20%20%20%20%20%20%20%0A%0A%20%20%20%20%20%20%20%20%0A%20%20%20%20%0A%20%20%20%20%20%20%20%20%20%20%20%20var%20tile_layer_a3ff6bae2c764cd9a387e5871fbd9251%20%3D%20L.tileLayer%28%0A%20%20%20%20%20%20%20%20%20%20%20%20%20%20%20%20%22https%3A//%7Bs%7D.tile.openstreetmap.org/%7Bz%7D/%7Bx%7D/%7By%7D.png%22%2C%0A%20%20%20%20%20%20%20%20%20%20%20%20%20%20%20%20%7B%22attribution%22%3A%20%22Data%20by%20%5Cu0026copy%3B%20%5Cu003ca%20href%3D%5C%22http%3A//openstreetmap.org%5C%22%5Cu003eOpenStreetMap%5Cu003c/a%5Cu003e%2C%20under%20%5Cu003ca%20href%3D%5C%22http%3A//www.openstreetmap.org/copyright%5C%22%5Cu003eODbL%5Cu003c/a%5Cu003e.%22%2C%20%22detectRetina%22%3A%20false%2C%20%22maxNativeZoom%22%3A%2018%2C%20%22maxZoom%22%3A%2018%2C%20%22minZoom%22%3A%200%2C%20%22noWrap%22%3A%20false%2C%20%22opacity%22%3A%201%2C%20%22subdomains%22%3A%20%22abc%22%2C%20%22tms%22%3A%20false%7D%0A%20%20%20%20%20%20%20%20%20%20%20%20%29.addTo%28map_1a5fd6615e3444d1a3354b862e681523%29%3B%0A%20%20%20%20%20%20%20%20%0A%20%20%20%20%0A%20%20%20%20%20%20%20%20%20%20%20%20var%20poly_line_044c201c204c4696a127440e3bb03495%20%3D%20L.polyline%28%0A%20%20%20%20%20%20%20%20%20%20%20%20%20%20%20%20%5B%5B34.07915%2C%20-118.29171%5D%2C%20%5B34.07634%2C%20-118.2917%5D%2C%20%5B34.07628%2C%20-118.28778%5D%2C%20%5B34.07402%2C%20-118.28632%5D%2C%20%5B34.07279%2C%20-118.28439%5D%2C%20%5B34.06105%2C%20-118.25782%5D%2C%20%5B34.06047%2C%20-118.25823%5D%2C%20%5B34.05888%2C%20-118.25668%5D%2C%20%5B34.05472%2C%20-118.2503%5D%5D%2C%0A%20%20%20%20%20%20%20%20%20%20%20%20%20%20%20%20%7B%22bubblingMouseEvents%22%3A%20true%2C%20%22color%22%3A%20%22%2312FF00%22%2C%20%22dashArray%22%3A%20null%2C%20%22dashOffset%22%3A%20null%2C%20%22fill%22%3A%20false%2C%20%22fillColor%22%3A%20%22%2312FF00%22%2C%20%22fillOpacity%22%3A%200.2%2C%20%22fillRule%22%3A%20%22evenodd%22%2C%20%22lineCap%22%3A%20%22round%22%2C%20%22lineJoin%22%3A%20%22round%22%2C%20%22noClip%22%3A%20false%2C%20%22opacity%22%3A%200.6%2C%20%22smoothFactor%22%3A%201.0%2C%20%22stroke%22%3A%20true%2C%20%22weight%22%3A%208%7D%0A%20%20%20%20%20%20%20%20%20%20%20%20%29.addTo%28map_1a5fd6615e3444d1a3354b862e681523%29%3B%0A%20%20%20%20%20%20%20%20%0A%20%20%20%20%0A%20%20%20%20%20%20%20%20%20%20%20%20var%20marker_9e70ddcbb0704906b5c082fbbbf404f1%20%3D%20L.marker%28%0A%20%20%20%20%20%20%20%20%20%20%20%20%20%20%20%20%5B34.079147%2C%20-118.291714%5D%2C%0A%20%20%20%20%20%20%20%20%20%20%20%20%20%20%20%20%7B%7D%0A%20%20%20%20%20%20%20%20%20%20%20%20%29.addTo%28map_1a5fd6615e3444d1a3354b862e681523%29%3B%0A%20%20%20%20%20%20%20%20%0A%20%20%20%20%0A%20%20%20%20%20%20%20%20%20%20%20%20var%20icon_b551d32329a9456796a74912d3e78ac6%20%3D%20L.AwesomeMarkers.icon%28%0A%20%20%20%20%20%20%20%20%20%20%20%20%20%20%20%20%7B%22extraClasses%22%3A%20%22fa-rotate-0%22%2C%20%22icon%22%3A%20%22play%22%2C%20%22iconColor%22%3A%20%22white%22%2C%20%22markerColor%22%3A%20%22green%22%2C%20%22prefix%22%3A%20%22glyphicon%22%7D%0A%20%20%20%20%20%20%20%20%20%20%20%20%29%3B%0A%20%20%20%20%20%20%20%20%20%20%20%20marker_9e70ddcbb0704906b5c082fbbbf404f1.setIcon%28icon_b551d32329a9456796a74912d3e78ac6%29%3B%0A%20%20%20%20%20%20%20%20%0A%20%20%20%20%0A%20%20%20%20%20%20%20%20%20%20%20%20var%20marker_3ece321360df47958683ec8bbc285d1f%20%3D%20L.marker%28%0A%20%20%20%20%20%20%20%20%20%20%20%20%20%20%20%20%5B34.054717%2C%20-118.250303%5D%2C%0A%20%20%20%20%20%20%20%20%20%20%20%20%20%20%20%20%7B%7D%0A%20%20%20%20%20%20%20%20%20%20%20%20%29.addTo%28map_1a5fd6615e3444d1a3354b862e681523%29%3B%0A%20%20%20%20%20%20%20%20%0A%20%20%20%20%0A%20%20%20%20%20%20%20%20%20%20%20%20var%20icon_59a812ed2383456ead23287dfdbbb126%20%3D%20L.AwesomeMarkers.icon%28%0A%20%20%20%20%20%20%20%20%20%20%20%20%20%20%20%20%7B%22extraClasses%22%3A%20%22fa-rotate-0%22%2C%20%22icon%22%3A%20%22stop%22%2C%20%22iconColor%22%3A%20%22white%22%2C%20%22markerColor%22%3A%20%22red%22%2C%20%22prefix%22%3A%20%22glyphicon%22%7D%0A%20%20%20%20%20%20%20%20%20%20%20%20%29%3B%0A%20%20%20%20%20%20%20%20%20%20%20%20marker_3ece321360df47958683ec8bbc285d1f.setIcon%28icon_59a812ed2383456ead23287dfdbbb126%29%3B%0A%20%20%20%20%20%20%20%20%0A%3C/script%3E onload=\"this.contentDocument.open();this.contentDocument.write(    decodeURIComponent(this.getAttribute('data-html')));this.contentDocument.close();\" allowfullscreen webkitallowfullscreen mozallowfullscreen></iframe></div></div>"
      ],
      "text/plain": [
       "<folium.folium.Map at 0x1be646abe88>"
      ]
     },
     "execution_count": 207,
     "metadata": {},
     "output_type": "execute_result"
    }
   ],
   "source": [
    "maps[1]"
   ]
  },
  {
   "cell_type": "markdown",
   "id": "breathing-grain",
   "metadata": {},
   "source": [
    "This code was made possible by OSM (© OpenStreetMap contributors), as well as Michael Yan at Think.Data.Science.\n",
    "\n",
    "Copyright info for OSM: https://www.openstreetmap.org/copyright"
   ]
  },
  {
   "cell_type": "code",
   "execution_count": null,
   "id": "saved-treasurer",
   "metadata": {},
   "outputs": [],
   "source": []
  }
 ],
 "metadata": {
  "kernelspec": {
   "display_name": "Python [conda env:PIC16B] *",
   "language": "python",
   "name": "conda-env-PIC16B-py"
  },
  "language_info": {
   "codemirror_mode": {
    "name": "ipython",
    "version": 3
   },
   "file_extension": ".py",
   "mimetype": "text/x-python",
   "name": "python",
   "nbconvert_exporter": "python",
   "pygments_lexer": "ipython3",
   "version": "3.7.10"
  }
 },
 "nbformat": 4,
 "nbformat_minor": 5
}
