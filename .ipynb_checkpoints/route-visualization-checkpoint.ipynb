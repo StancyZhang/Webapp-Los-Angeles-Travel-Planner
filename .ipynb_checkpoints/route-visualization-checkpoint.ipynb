{
 "cells": [
  {
   "cell_type": "markdown",
   "id": "tested-alberta",
   "metadata": {},
   "source": [
    "### Route Visualization using Geopy, Polyline, Folium\n",
    "Using this code, we can create an interactive route visualization using Geopy, Polyline, and Folium. \n",
    "\n",
    "Originally in our project proposal we said we would use the Google Maps API, but through experimentation it proved to be difficult to work with. You can obtain an API key from Google, but a lot of features cannot be accessed unless you provide billing information to Google. If you provide billing information, there is a free version you can use, but you have a limited number of geocode requests you can make. Requests over that threshold will charge you using your billing information. That's not something that I think we want to deal with for a school project, so I tried to find some alternate methods."
   ]
  },
  {
   "cell_type": "markdown",
   "id": "romantic-scope",
   "metadata": {},
   "source": [
    "### Modules\n",
    "The modules we'll be using throughout the code are Pandas and Requests.\n",
    "- **Pandas**: We use Pandas to create the dataframe containing all of the addresses and their corresponding longitude and latitude coordinates. This dataframe will also be used later in selecting which specific locations we want to visualize.\n",
    "- **requests**: This module allows us to make http requests in Python. We use requests to query from OSRM and get coordinates for each of our addresses."
   ]
  },
  {
   "cell_type": "markdown",
   "id": "worldwide-norfolk",
   "metadata": {},
   "source": [
    "### Web Scraping"
   ]
  },
  {
   "cell_type": "code",
   "execution_count": 6,
   "id": "featured-serbia",
   "metadata": {},
   "outputs": [],
   "source": [
    "# main modules to use\n",
    "import pandas as pd # create the locations dataframe\n",
    "import requests # send http requests\n",
    "from bs4 import BeautifulSoup as soup\n",
    "import ipynb.fs.full.webscraping_code_touristsite_top150 as scraper"
   ]
  },
  {
   "cell_type": "code",
   "execution_count": 7,
   "id": "cloudy-confirmation",
   "metadata": {},
   "outputs": [],
   "source": [
    "html_main = requests.get(\"https://www.tripadvisor.com/Attractions-g32655-Activities-a_allAttractions.true-Los_Angeles_California.html\")\n",
    "bsobj_main = soup(html_main.content, \"lxml\")"
   ]
  },
  {
   "cell_type": "code",
   "execution_count": 8,
   "id": "maritime-interim",
   "metadata": {},
   "outputs": [],
   "source": [
    "rank = []\n",
    "tourist_site_name = []\n",
    "tourist_site_link = []\n",
    "for s in bsobj_main.find_all(\"section\", class_=\"_2TabEHya _3YhIe-Un\"):\n",
    "    rank.append(s.find(\"div\", class_=\"_1gpq3zsA _1zP41Z7X\").text.split(\". \")[0])\n",
    "    tourist_site_name.append(s.find(\"div\", class_=\"_1gpq3zsA _1zP41Z7X\").text.split(\". \")[1])\n",
    "    tourist_site_link.append(s.find(\"div\", class_=\"_3W_31Rvp _1nUIPWja _1l7Rsl_O _3ksqqIVm _2b3s5IMB\").a[\"href\"])"
   ]
  },
  {
   "cell_type": "code",
   "execution_count": 9,
   "id": "serial-organization",
   "metadata": {},
   "outputs": [],
   "source": [
    "top_150 = list(range(30, 150, 30))"
   ]
  },
  {
   "cell_type": "code",
   "execution_count": 10,
   "id": "simplified-queensland",
   "metadata": {},
   "outputs": [],
   "source": [
    "for num in top_150:\n",
    "    html_main = requests.get(\"https://www.tripadvisor.com/Attractions-g32655-Activities-oa\" + str(num) + \"-Los_Angeles_California.html\")\n",
    "    bsobj_main = soup(html_main.content, \"lxml\")\n",
    "    \n",
    "    for s in bsobj_main.find_all(\"section\", class_=\"_2TabEHya _3YhIe-Un\"):\n",
    "        rank.append(s.find(\"div\", class_=\"_1gpq3zsA _1zP41Z7X\").text.split(\". \")[0])\n",
    "        tourist_site_name.append(s.find(\"div\", class_=\"_1gpq3zsA _1zP41Z7X\").text.split(\". \")[1])\n",
    "        tourist_site_link.append(s.find(\"div\", class_=\"_3W_31Rvp _1nUIPWja _1l7Rsl_O _3ksqqIVm _2b3s5IMB\").a[\"href\"])"
   ]
  },
  {
   "cell_type": "code",
   "execution_count": 11,
   "id": "traditional-slave",
   "metadata": {},
   "outputs": [],
   "source": [
    "tourist_site_link_update = []\n",
    "for site in tourist_site_link:\n",
    "    tourist_site_link_update.append(\"https://www.tripadvisor.com/\" + site)"
   ]
  },
  {
   "cell_type": "code",
   "execution_count": 12,
   "id": "ideal-premium",
   "metadata": {},
   "outputs": [
    {
     "data": {
      "text/html": [
       "<div>\n",
       "<style scoped>\n",
       "    .dataframe tbody tr th:only-of-type {\n",
       "        vertical-align: middle;\n",
       "    }\n",
       "\n",
       "    .dataframe tbody tr th {\n",
       "        vertical-align: top;\n",
       "    }\n",
       "\n",
       "    .dataframe thead th {\n",
       "        text-align: right;\n",
       "    }\n",
       "</style>\n",
       "<table border=\"1\" class=\"dataframe\">\n",
       "  <thead>\n",
       "    <tr style=\"text-align: right;\">\n",
       "      <th></th>\n",
       "      <th>Rank</th>\n",
       "      <th>Tourist Site Name</th>\n",
       "      <th>Site Link</th>\n",
       "    </tr>\n",
       "  </thead>\n",
       "  <tbody>\n",
       "    <tr>\n",
       "      <th>0</th>\n",
       "      <td>1</td>\n",
       "      <td>The Getty Center</td>\n",
       "      <td>https://www.tripadvisor.com//Attraction_Review...</td>\n",
       "    </tr>\n",
       "    <tr>\n",
       "      <th>1</th>\n",
       "      <td>2</td>\n",
       "      <td>Griffith Observatory</td>\n",
       "      <td>https://www.tripadvisor.com//Attraction_Review...</td>\n",
       "    </tr>\n",
       "    <tr>\n",
       "      <th>2</th>\n",
       "      <td>3</td>\n",
       "      <td>Universal Studios Hollywood</td>\n",
       "      <td>https://www.tripadvisor.com//Attraction_Review...</td>\n",
       "    </tr>\n",
       "    <tr>\n",
       "      <th>3</th>\n",
       "      <td>4</td>\n",
       "      <td>Petersen Automotive Museum</td>\n",
       "      <td>https://www.tripadvisor.com//Attraction_Review...</td>\n",
       "    </tr>\n",
       "    <tr>\n",
       "      <th>4</th>\n",
       "      <td>5</td>\n",
       "      <td>The Wizarding World of Harry Potter</td>\n",
       "      <td>https://www.tripadvisor.com//Attraction_Review...</td>\n",
       "    </tr>\n",
       "    <tr>\n",
       "      <th>...</th>\n",
       "      <td>...</td>\n",
       "      <td>...</td>\n",
       "      <td>...</td>\n",
       "    </tr>\n",
       "    <tr>\n",
       "      <th>145</th>\n",
       "      <td>146</td>\n",
       "      <td>S.S</td>\n",
       "      <td>https://www.tripadvisor.com//Attraction_Review...</td>\n",
       "    </tr>\n",
       "    <tr>\n",
       "      <th>146</th>\n",
       "      <td>147</td>\n",
       "      <td>Kenneth Hahn State Recreation Area</td>\n",
       "      <td>https://www.tripadvisor.com//Attraction_Review...</td>\n",
       "    </tr>\n",
       "    <tr>\n",
       "      <th>147</th>\n",
       "      <td>148</td>\n",
       "      <td>Geffen Playhouse</td>\n",
       "      <td>https://www.tripadvisor.com//Attraction_Review...</td>\n",
       "    </tr>\n",
       "    <tr>\n",
       "      <th>148</th>\n",
       "      <td>149</td>\n",
       "      <td>Los Angeles Police Museum</td>\n",
       "      <td>https://www.tripadvisor.com//Attraction_Review...</td>\n",
       "    </tr>\n",
       "    <tr>\n",
       "      <th>149</th>\n",
       "      <td>150</td>\n",
       "      <td>Melrose Place</td>\n",
       "      <td>https://www.tripadvisor.com//Attraction_Review...</td>\n",
       "    </tr>\n",
       "  </tbody>\n",
       "</table>\n",
       "<p>150 rows × 3 columns</p>\n",
       "</div>"
      ],
      "text/plain": [
       "    Rank                    Tourist Site Name  \\\n",
       "0      1                     The Getty Center   \n",
       "1      2                 Griffith Observatory   \n",
       "2      3          Universal Studios Hollywood   \n",
       "3      4           Petersen Automotive Museum   \n",
       "4      5  The Wizarding World of Harry Potter   \n",
       "..   ...                                  ...   \n",
       "145  146                                  S.S   \n",
       "146  147   Kenneth Hahn State Recreation Area   \n",
       "147  148                     Geffen Playhouse   \n",
       "148  149            Los Angeles Police Museum   \n",
       "149  150                        Melrose Place   \n",
       "\n",
       "                                             Site Link  \n",
       "0    https://www.tripadvisor.com//Attraction_Review...  \n",
       "1    https://www.tripadvisor.com//Attraction_Review...  \n",
       "2    https://www.tripadvisor.com//Attraction_Review...  \n",
       "3    https://www.tripadvisor.com//Attraction_Review...  \n",
       "4    https://www.tripadvisor.com//Attraction_Review...  \n",
       "..                                                 ...  \n",
       "145  https://www.tripadvisor.com//Attraction_Review...  \n",
       "146  https://www.tripadvisor.com//Attraction_Review...  \n",
       "147  https://www.tripadvisor.com//Attraction_Review...  \n",
       "148  https://www.tripadvisor.com//Attraction_Review...  \n",
       "149  https://www.tripadvisor.com//Attraction_Review...  \n",
       "\n",
       "[150 rows x 3 columns]"
      ]
     },
     "execution_count": 12,
     "metadata": {},
     "output_type": "execute_result"
    }
   ],
   "source": [
    "data = {\"Rank\": rank, \"Tourist Site Name\": tourist_site_name, \"Site Link\": tourist_site_link_update}\n",
    "df = pd.DataFrame.from_dict(data)\n",
    "df"
   ]
  },
  {
   "cell_type": "code",
   "execution_count": 13,
   "id": "sacred-interest",
   "metadata": {},
   "outputs": [
    {
     "data": {
      "text/plain": [
       "['The Getty Center',\n",
       " 'Griffith Observatory',\n",
       " 'Universal Studios Hollywood',\n",
       " 'Petersen Automotive Museum',\n",
       " 'The Wizarding World of Harry Potter',\n",
       " 'Battleship USS Iowa Museum',\n",
       " 'The Broad',\n",
       " 'Staples Center',\n",
       " 'Griffith Park',\n",
       " 'The Grove',\n",
       " 'La Brea Tar Pits and Museum',\n",
       " 'Walt Disney Concert Hall',\n",
       " 'Natural History Museum of Los Angeles County',\n",
       " 'Runyon Canyon Park',\n",
       " 'Venice Canals Walkway',\n",
       " 'The Nethercutt Collection',\n",
       " 'Dodger Stadium',\n",
       " 'Union Station',\n",
       " 'Hollywood Sign',\n",
       " 'Bradbury Building',\n",
       " 'Lake Hollywood Park',\n",
       " 'Universal CityWalk Hollywood',\n",
       " 'Los Angeles County Museum of Art',\n",
       " 'Madame Tussauds Hollywood',\n",
       " 'Abbot Kinney Boulevard',\n",
       " 'Angels Flight Railway',\n",
       " 'University of California, Los Angeles (UCLA)',\n",
       " 'Hollywood Forever Cemetery',\n",
       " 'Citadel Outlets',\n",
       " 'Pantages Theatre',\n",
       " 'The Hollywood Museum',\n",
       " 'OUE Skyspace LA',\n",
       " 'Los Angeles Central Library',\n",
       " 'Olvera Street',\n",
       " 'Pierce Brothers Westwood Village Memorial Park',\n",
       " 'Dolby Theatre',\n",
       " 'The Greek Theatre',\n",
       " 'City Hall',\n",
       " 'Echo Park',\n",
       " 'Urban Light',\n",
       " 'Little Tokyo',\n",
       " 'Skirball Cultural Center',\n",
       " 'Hollywood Bowl Museum',\n",
       " 'Autry Museum of the American West',\n",
       " 'San Antonio Winery',\n",
       " 'Korean Bell of Friendship',\n",
       " 'Cathedral of Our Lady of the Angels',\n",
       " 'Topanga State Park',\n",
       " 'Diorama-museum of Bhagavad-gita',\n",
       " 'Holocaust Museum LA',\n",
       " 'Venice Beach',\n",
       " 'Hollywood Walk of Fame',\n",
       " 'Will Rogers State Historic Park',\n",
       " 'Venice Skatepark',\n",
       " 'Sunset Boulevard',\n",
       " 'Stahl House',\n",
       " 'Los Angeles Zoo & Botanical Gardens',\n",
       " 'Hollywood Hills',\n",
       " 'Hollyhock House',\n",
       " 'El Pueblo de Los Angeles',\n",
       " 'University of Southern California',\n",
       " 'Museum of Illusions',\n",
       " 'The Japanese Garden',\n",
       " 'Museum of Tolerance',\n",
       " 'Annenberg Space for Photography',\n",
       " 'Studio Tour',\n",
       " 'Hollywood Farmers Market',\n",
       " 'Mission San Fernando',\n",
       " 'Melrose Avenue',\n",
       " 'Japanese American National Museum',\n",
       " 'Bronson Caves',\n",
       " 'Eames House',\n",
       " 'Hollywood Bowl Overlook',\n",
       " 'Forest Lawn Memorial Park - Hollywood Hills',\n",
       " 'Museum of Selfies',\n",
       " 'Candy Cane Lane',\n",
       " 'L.A',\n",
       " 'GRAMMY Museum',\n",
       " 'Hollywood Boulevard',\n",
       " 'Angeles Crest Highway',\n",
       " 'Jurassic Park The Ride',\n",
       " 'Koreatown',\n",
       " 'Metro Rail',\n",
       " 'Venice Beach Boardwalk',\n",
       " 'Exposition Park',\n",
       " 'Microsoft Theater',\n",
       " 'Flight Path Learning Center & Museum',\n",
       " 'Watts Towers',\n",
       " 'Chinatown',\n",
       " 'Hollywood',\n",
       " 'Revenge of the Mummy - The Ride',\n",
       " 'Hollywood Bowl',\n",
       " 'Travel Town',\n",
       " 'Orpheum Theater',\n",
       " 'Lost Spirits Distillery',\n",
       " 'Ahmanson Theatre',\n",
       " 'Beverly Center',\n",
       " 'Avila Adobe',\n",
       " 'Transformers: The Ride - 3D',\n",
       " 'Flower Market',\n",
       " 'Lake Balboa Park',\n",
       " 'Marciano Art Foundation',\n",
       " 'Samuel Oschin Air & Space Center',\n",
       " 'Hollywood Wax Museum',\n",
       " 'Museum of Death',\n",
       " 'Harry Potter and the Forbidden Journey',\n",
       " 'Wiltern Theatre',\n",
       " 'Los Angeles Convention Center',\n",
       " 'LA Fashion District',\n",
       " 'The Museum of Contemporary Art',\n",
       " 'Westfield Topanga',\n",
       " \"Ripley's Believe It or Not!\",\n",
       " 'Mosaic Tile House',\n",
       " 'Playa Del Rey Beach',\n",
       " 'Temescal Gateway Park',\n",
       " 'Grand Park',\n",
       " 'Art District',\n",
       " 'Capitol Records Building',\n",
       " 'Los Angeles Memorial Coliseum',\n",
       " 'Mrs',\n",
       " 'Heritage Square Museum',\n",
       " 'Hollywood Reservoir',\n",
       " 'California African American Museum',\n",
       " 'Park La Brea',\n",
       " 'Dorothy Chandler Pavilion',\n",
       " 'Cabrillo Marine Aquarium',\n",
       " 'Wells Fargo Museum',\n",
       " 'Point Fermin Park',\n",
       " 'Hammer Museum',\n",
       " 'Dockweiler State Beach',\n",
       " 'Los Feliz',\n",
       " 'Banc of California Stadium',\n",
       " 'Will Rogers State Beach',\n",
       " 'Lake Shrine Temple and Retreat',\n",
       " 'The Santee Alley',\n",
       " 'Angelino Heights Historic Area',\n",
       " 'FIDM Museum and Galleries',\n",
       " 'Point Fermin Lighthouse',\n",
       " 'The Walking Dead Attraction',\n",
       " 'Cabrillo Beach',\n",
       " 'Bob Baker Marionette Theater',\n",
       " 'Hauser & Wirth',\n",
       " 'Downtown Historic District',\n",
       " 'Guinness World Records Museum',\n",
       " 'Wildlife Learning Center',\n",
       " 'S.S',\n",
       " 'Kenneth Hahn State Recreation Area',\n",
       " 'Geffen Playhouse',\n",
       " 'Los Angeles Police Museum',\n",
       " 'Melrose Place']"
      ]
     },
     "execution_count": 13,
     "metadata": {},
     "output_type": "execute_result"
    }
   ],
   "source": [
    "tourist_site_name"
   ]
  },
  {
   "cell_type": "code",
   "execution_count": null,
   "id": "vulnerable-tension",
   "metadata": {},
   "outputs": [],
   "source": [
    "want_to_go_name = str(input(\"Which tourist sites do you want to go? (*please input the names of the tourist sites separated by a period)\"))"
   ]
  },
  {
   "cell_type": "code",
   "execution_count": null,
   "id": "killing-enhancement",
   "metadata": {},
   "outputs": [],
   "source": [
    "visit_html = scraper.visit_tourist(df, want_to_go_name)"
   ]
  },
  {
   "cell_type": "code",
   "execution_count": null,
   "id": "offensive-speed",
   "metadata": {},
   "outputs": [],
   "source": [
    "locations = scraper.find_location(visit_html)\n",
    "locations"
   ]
  },
  {
   "cell_type": "markdown",
   "id": "rental-moses",
   "metadata": {},
   "source": [
    "### Geocoding\n",
    "Another module we will be using is **Geopy**, which is a Python client for geocoding. What is geocoding?\n",
    "\n",
    "**Geocoding** is the process of taking some text-based description of a location (usually the address) and transforming it into coordinates, using the longitude/latitude pair. We will use geocoding to transform the addresses of our hotel/attraction locations (obtained from webscraping) into longitude/latitude coordinates (as far as I know, TripAdvisor doesn't provide coordinates).\n",
    "\n",
    "From the Geopy module, we will use **Nominatim**, which is a geocoder for **OpenStreetMap (OSM)** data. OSM is a map of the world that is open data, licensed under the Open Database License. As such, we will credit OSM at the end of the notebook. You can check out OSM here:\n",
    "\n",
    "https://www.openstreetmap.org/"
   ]
  },
  {
   "cell_type": "code",
   "execution_count": 19,
   "id": "lesser-petite",
   "metadata": {},
   "outputs": [],
   "source": [
    "from geopy.geocoders import Nominatim # Geopy is a Python client for geocoding. We use the Nominatim geocoder for OpenStreetMap (OSM) data."
   ]
  },
  {
   "cell_type": "markdown",
   "id": "empty-riverside",
   "metadata": {},
   "source": [
    "We create a sample locations dataframe using Nominatim geocoding. I will update this code later once we have a working web scraper. For now, I am using the top 3 attractions in Los Angeles from TripAdvisor: the Getty Center, the Griffith Observatory, and Universal Studios Hollywood. \n",
    "\n",
    "Something I noticed about OSM is that not all addresses work. For example, the address for the Getty Center provided by TripAdvisor is *1200 Getty Center Dr N Sepulveda Blvd & Getty Center Dr, Los Angeles, CA*. However, if you take this address and plug it into OSM's website, you will get no results. This causes problems for the geocoder, and you will not get the location. For this example, I simplified the address for the Getty Center as *1200 Getty Center, Los Angeles*, but for the long term we will have to find some workaround that can apply to all addresses. I think the solution might be some combination of regex and try/except blocks."
   ]
  },
  {
   "cell_type": "code",
   "execution_count": 21,
   "id": "based-dressing",
   "metadata": {},
   "outputs": [],
   "source": [
    "import re"
   ]
  },
  {
   "cell_type": "code",
   "execution_count": null,
   "id": "hindu-ideal",
   "metadata": {},
   "outputs": [],
   "source": [
    "# Nominatim geocoding and creating the Pandas dataframe\n",
    "\n",
    "geolocator = Nominatim(user_agent = \"my-app\") # use custom user_agent to avoid violating Nominatim's usage policy\n",
    "df = pd.DataFrame(columns = [\"Address\", \"Longitude\", \"Latitude\"]) # creating the Pandas dataframe\n",
    "\n",
    "for location in locations:\n",
    "    location = re.sub(r'\\s\\d{5}-\\d{4}', \"\", location)\n",
    "    print(location)\n",
    "    print(location == \"1200 Getty Center Dr N Sepulveda Blvd & Getty Center Dr, Los Angeles, CA\")\n",
    "    if location == \"1200 Getty Center Dr N Sepulveda Blvd & Getty Center Dr, Los Angeles, CA\":\n",
    "        location = \"1200 Getty Center, Los Angeles\"\n",
    "    loc = geolocator.geocode(location) # geocoding the location\n",
    "    df.loc[len(df.index)] = [location, loc.longitude, loc.latitude] # adding the location, longitude, and latitude to the dataframe\n",
    "    \n",
    "df"
   ]
  },
  {
   "cell_type": "code",
   "execution_count": 23,
   "id": "numerous-cartoon",
   "metadata": {},
   "outputs": [],
   "source": [
    "def location_cleaner(locations):\n",
    "    for location in locations:\n",
    "        location = re.sub(r'\\d{5}-\\d{4}', \"\")\n",
    "        words = location.split()\n",
    "        location_length = len(words)\n",
    "        for i in range(location_length - 1, 0, -1):\n",
    "            if geolocator.geocode(location) != None:\n",
    "                break\n",
    "            location = re.search(r'[A-Za-z0-9]\\.?[A-Za-z0-9]*')\n",
    "    loc = geolocator.geocode(location) # geocoding the location\n",
    "    df.loc[len(df.index)] = [location, loc.longitude, loc.latitude] # adding the location, longitude, and latitude to the dataframe"
   ]
  },
  {
   "cell_type": "markdown",
   "id": "scenic-wisdom",
   "metadata": {},
   "source": [
    "We can see that we have obtained the longitude and latitude for each address and we have successfully added the data to a Pandas dataframe. A quick Google search tells us that our coordinates are pretty accurate, up to about 3 decimal places."
   ]
  },
  {
   "cell_type": "markdown",
   "id": "progressive-contrast",
   "metadata": {},
   "source": [
    "### Creating the Route Visualization\n",
    "Now that we have our addresses and coordinates within a Pandas dataframe, we can begin to construct the route visualization. For this section, I mainly referenced this article: https://www.thinkdatascience.com/post/2020-03-03-osrm/osrm/\n",
    "\n",
    "In the article, Mr. Yan makes use of **Open Source Routing Machine (OSRM)**, which is a C++ routing engine for the shortest paths in road networks. Essentially, you use the requests module to perform an http request, obtaining route data for the routes between your specified locations. You can learn more about OSRM and how to construct requests here: http://project-osrm.org/docs/v5.7.0/api/?language=Python#general-options\n",
    "\n",
    "For the route visualization, we also import the **Folium** and **Polyline** modules. \n",
    "- **Folium**: The folium module takes location and route data and plots it on an interactive map. \n",
    "- **Polyline**: The polyline module is the Python implementation of Google's Encoded Polyline Algorithm Format, which allows you to store a series of coordinates as an encoded string. You can read about it here: https://developers.google.com/maps/documentation/utilities/polylinealgorithm"
   ]
  },
  {
   "cell_type": "code",
   "execution_count": 8,
   "id": "greatest-strap",
   "metadata": {},
   "outputs": [],
   "source": [
    "import folium # visualizes data on map; wondering if I can replace this with plotly express\n",
    "import polyline # Python implementation of Google’s Encoded Polyline Algorithm Format"
   ]
  },
  {
   "cell_type": "markdown",
   "id": "thorough-perfume",
   "metadata": {},
   "source": [
    "Let's attempt to get the route between the Griffith Observatory and Universal Studios Hollywood. We specify our request url to be the default OSRM url, followed by the mode of transportation (car) and the coordinates for our locations. The first pair of coordinates corresponds to the Griffith Observatory, and the second pair corresponds to Universal Studios Hollywood."
   ]
  },
  {
   "cell_type": "code",
   "execution_count": 9,
   "id": "manual-harmony",
   "metadata": {},
   "outputs": [
    {
     "data": {
      "text/plain": [
       "{'code': 'Ok',\n",
       " 'waypoints': [{'hint': '8BVQiP___38FAAAABQAAAJgAAAADAAAASbJlQAAAAACSqNJC1c3gPwUAAAAFAAAAmAAAAAMAAAC6QwAAKeHy-AeeCAJ74fL4S5oIAg4AzwbIxWTp',\n",
       "   'distance': 106.310396,\n",
       "   'location': [-118.300375, 34.119175],\n",
       "   'name': 'West Observatory Road'},\n",
       "  {'hint': 'SzlBiP___38AAAAAHQAAAEgAAAArAAAARO68Pa9_oEELyklCJcPxQQAAAAAdAAAASAAAACsAAAC6QwAAivHx-KLqCALp8PH40egIAgIArwbIxWTp',\n",
       "   'distance': 53.674346,\n",
       "   'location': [-118.361718, 34.138786],\n",
       "   'name': 'Universal Hollywood Drive'}],\n",
       " 'routes': [{'legs': [{'steps': [],\n",
       "     'weight': 924.9,\n",
       "     'distance': 11467.6,\n",
       "     'summary': '',\n",
       "     'duration': 924.9}],\n",
       "   'weight_name': 'routability',\n",
       "   'geometry': '{{foEjp`qUuC[iDeCoBlAwD}@iDr@g@}I}EiB?qAdN_AtMiHhJkJ|B{KxIsFbGKdHdI`IKpSjkBbNXZvbBo@`DwSnd@kJnNuHbEga@tIeNxFwIfHcR`U_NnJw[l\\\\wGvLqFnZiFbRqNpQmD}Ah@_B',\n",
       "   'weight': 924.9,\n",
       "   'distance': 11467.6,\n",
       "   'duration': 924.9}]}"
      ]
     },
     "execution_count": 9,
     "metadata": {},
     "output_type": "execute_result"
    }
   ],
   "source": [
    "# The following code will be based on the code in the above article. I don't fully understand what it's doing yet, but I'm \n",
    "# hoping to get some more practice with it so I can understand it better.\n",
    "\n",
    "url = \"http://router.project-osrm.org/route/v1/car/-118.300293,34.118219;-118.361879,34.138321\" # we specify the long/lat coordinates of our starting point and our ending point, as well as mode of transportation; hopefully we can add more waypoints and get the route between multiple locations\n",
    "r = requests.get(url) # getting the request\n",
    "res = r.json()\n",
    "res"
   ]
  },
  {
   "cell_type": "markdown",
   "id": "adjacent-equivalent",
   "metadata": {},
   "source": [
    "We have successfully run the request! From the above results, we get what seems to be some interesting data but also a lot of gibberish. I believe those are the routes and locations that are encoded using Google's Polyline Algorithm. Now, let's attempt to break down the more interesting parts of the data (bear with me, this is new to me as well):\n",
    "- **Waypoints**: A waypoint is an intermediate point or place on a route. In our case, we get a list of all the locations we travel to in our route. For this example, we only have two locations, our starting point and ending point, so only two locations show up in the waypoints list. This leads me to believe that it is highly possible to construct a route between multiple sightseeing locations and a hotel location, which is one of the goals of our project.\n",
    "- **Routes**: The routes list contains the routes used to travel between the different locations. In our example, we only have two locations, our starting point and ending point, so there is only one route. I believe that if we add more locations, we will get more routes. \n",
    "    - **Geometry**: This encoding gives us the line representing the route. \n",
    "    - **Distance**: The distance specified per entry in the routes list gives the distance in meters that the route covers.\n",
    "    - **Duration**: The duration specified per entry in the routes list gives the duration of the trip in seconds."
   ]
  },
  {
   "cell_type": "code",
   "execution_count": null,
   "id": "acceptable-polls",
   "metadata": {},
   "outputs": [],
   "source": []
  },
  {
   "cell_type": "code",
   "execution_count": 10,
   "id": "recognized-copyright",
   "metadata": {},
   "outputs": [
    {
     "data": {
      "text/plain": [
       "[(34.11918, -118.30038),\n",
       " (34.11993, -118.30024),\n",
       " (34.12078, -118.29957),\n",
       " (34.12134, -118.29996),\n",
       " (34.12226, -118.29965),\n",
       " (34.12311, -118.29991),\n",
       " (34.12331, -118.29816),\n",
       " (34.12442, -118.29763),\n",
       " (34.12442, -118.29722),\n",
       " (34.12199, -118.2969),\n",
       " (34.11964, -118.29541),\n",
       " (34.11783, -118.29359),\n",
       " (34.1172, -118.29153),\n",
       " (34.11547, -118.29031),\n",
       " (34.11417, -118.29025),\n",
       " (34.1127, -118.29188),\n",
       " (34.11109, -118.29182),\n",
       " (34.1078, -118.30916),\n",
       " (34.10538, -118.30929),\n",
       " (34.10524, -118.32525),\n",
       " (34.10548, -118.32606),\n",
       " (34.1088, -118.33206),\n",
       " (34.11062, -118.33454),\n",
       " (34.11217, -118.33552),\n",
       " (34.11765, -118.33723),\n",
       " (34.12008, -118.33848),\n",
       " (34.1218, -118.33996),\n",
       " (34.12486, -118.34349),\n",
       " (34.12726, -118.34533),\n",
       " (34.13186, -118.35004),\n",
       " (34.13326, -118.35224),\n",
       " (34.13447, -118.35664),\n",
       " (34.13564, -118.3597),\n",
       " (34.13813, -118.36267),\n",
       " (34.139, -118.3622),\n",
       " (34.13879, -118.36172)]"
      ]
     },
     "execution_count": 10,
     "metadata": {},
     "output_type": "execute_result"
    }
   ],
   "source": [
    "# We use the polyline module to decode the encoding into coordinates. Not entirely sure what all of the coordinates mean but \n",
    "# I'm guessing they represent locations of different streets when you're changing streets? I don't really know; this requires\n",
    "# further investigation.\n",
    "\n",
    "polyline.decode('{{foEjp`qUuC[iDeCoBlAwD}@iDr@g@}I}EiB?qAdN_AtMiHhJkJ|B{KxIsFbGKdHdI`IKpSjkBbNXZvbBo@`DwSnd@kJnNuHbEga@tIeNxFwIfHcR`U_NnJw[l\\\\wGvLqFnZiFbRqNpQmD}Ah@_B')"
   ]
  },
  {
   "cell_type": "code",
   "execution_count": 11,
   "id": "organizational-virginia",
   "metadata": {},
   "outputs": [],
   "source": [
    "# Putting what we did before into a function. We get the route between the two locations provided we have the coordinates\n",
    "# for the locations. Ideally, I will get the coordinates from the Pandas dataframe, though I'm still figuring that out.\n",
    "def get_route(pickup_lon, pickup_lat, dropoff_lon, dropoff_lat):\n",
    "    \n",
    "    loc = \"{},{};{},{}\".format(pickup_lon, pickup_lat, dropoff_lon, dropoff_lat)\n",
    "    url = \"http://router.project-osrm.org/route/v1/car/\"\n",
    "    r = requests.get(url + loc) # same thing as what we did before, getting the request\n",
    "    if r.status_code!= 200: # I don't know what this means\n",
    "        return {}\n",
    "  \n",
    "    res = r.json()   \n",
    "    routes = polyline.decode(res['routes'][0]['geometry']) # the geometry specifies the polyline encoding; I'm also guessing that if we have more routes we would do this for each of the routes, with the index changing for each route\n",
    "    start_point = [res['waypoints'][0]['location'][1], res['waypoints'][0]['location'][0]] # 0th waypoint corresponds to the starting location\n",
    "    end_point = [res['waypoints'][1]['location'][1], res['waypoints'][1]['location'][0]] # 1st waypoint corresponds to the ending location\n",
    "    distance = res['routes'][0]['distance']\n",
    "    \n",
    "    out = {'route':routes,\n",
    "           'start_point':start_point,\n",
    "           'end_point':end_point,\n",
    "           'distance':distance\n",
    "          } # returning a dictionary with the routes, starting point, ending point, and distance\n",
    "\n",
    "    return out"
   ]
  },
  {
   "cell_type": "code",
   "execution_count": 16,
   "id": "consecutive-reader",
   "metadata": {},
   "outputs": [
    {
     "data": {
      "text/plain": [
       "{'route': [(34.11918, -118.30038),\n",
       "  (34.11993, -118.30024),\n",
       "  (34.12078, -118.29957),\n",
       "  (34.12134, -118.29996),\n",
       "  (34.12226, -118.29965),\n",
       "  (34.12311, -118.29991),\n",
       "  (34.12331, -118.29816),\n",
       "  (34.12442, -118.29763),\n",
       "  (34.12442, -118.29722),\n",
       "  (34.12199, -118.2969),\n",
       "  (34.11964, -118.29541),\n",
       "  (34.11783, -118.29359),\n",
       "  (34.1172, -118.29153),\n",
       "  (34.11547, -118.29031),\n",
       "  (34.11417, -118.29025),\n",
       "  (34.1127, -118.29188),\n",
       "  (34.11109, -118.29182),\n",
       "  (34.1078, -118.30916),\n",
       "  (34.10538, -118.30929),\n",
       "  (34.10524, -118.32525),\n",
       "  (34.10548, -118.32606),\n",
       "  (34.1088, -118.33206),\n",
       "  (34.11062, -118.33454),\n",
       "  (34.11217, -118.33552),\n",
       "  (34.11765, -118.33723),\n",
       "  (34.12008, -118.33848),\n",
       "  (34.1218, -118.33996),\n",
       "  (34.12486, -118.34349),\n",
       "  (34.12726, -118.34533),\n",
       "  (34.13186, -118.35004),\n",
       "  (34.13326, -118.35224),\n",
       "  (34.13447, -118.35664),\n",
       "  (34.13564, -118.3597),\n",
       "  (34.13813, -118.36267),\n",
       "  (34.139, -118.3622),\n",
       "  (34.13879, -118.36172)],\n",
       " 'start_point': [34.119175, -118.300375],\n",
       " 'end_point': [34.138786, -118.361718],\n",
       " 'distance': 11467.6}"
      ]
     },
     "execution_count": 16,
     "metadata": {},
     "output_type": "execute_result"
    }
   ],
   "source": [
    "# We specify our starting and ending coordinates using the rows from the Pandas dataframe. The first pair corresponds to the \n",
    "# Griffith Observatory and the second pair corresponds to Universal Studios Hollywood.\n",
    "\n",
    "#pickup_lon, pickup_lat, dropoff_lon, dropoff_lat = -118.300293,34.118219,-118.361879,34.138321\n",
    "pickup_lon, pickup_lat, dropoff_lon, dropoff_lat = df.iloc[1][\"Longitude\"], df.iloc[1][\"Latitude\"], df.iloc[2][\"Longitude\"], df.iloc[2][\"Latitude\"]\n",
    "test_route = get_route(pickup_lon, pickup_lat, dropoff_lon, dropoff_lat)\n",
    "test_route"
   ]
  },
  {
   "cell_type": "code",
   "execution_count": 17,
   "id": "close-employment",
   "metadata": {},
   "outputs": [],
   "source": [
    "# Using folium to draw the route on an interactive map. Since none of us are really familiar with folium, it would be worth\n",
    "# seeing if we can accomplish the same results but using plotly express instead.\n",
    "def get_map(route):\n",
    "    \n",
    "    m = folium.Map(location=[(route['start_point'][0] + route['end_point'][0])/2, \n",
    "                             (route['start_point'][1] + route['end_point'][1])/2], \n",
    "                   zoom_start=13)\n",
    "\n",
    "    folium.PolyLine(\n",
    "        route['route'],\n",
    "        weight=8,\n",
    "        color='blue',\n",
    "        opacity=0.6\n",
    "    ).add_to(m)\n",
    "\n",
    "    folium.Marker(\n",
    "        location=route['start_point'],\n",
    "        icon=folium.Icon(icon='play', color='green')\n",
    "    ).add_to(m)\n",
    "\n",
    "    folium.Marker(\n",
    "        location=route['end_point'],\n",
    "        icon=folium.Icon(icon='stop', color='red')\n",
    "    ).add_to(m)\n",
    "\n",
    "    return m"
   ]
  },
  {
   "cell_type": "code",
   "execution_count": 18,
   "id": "victorian-legislature",
   "metadata": {},
   "outputs": [
    {
     "data": {
      "text/html": [
       "<div style=\"width:100%;\"><div style=\"position:relative;width:100%;height:0;padding-bottom:60%;\"><span style=\"color:#565656\">Make this Notebook Trusted to load map: File -> Trust Notebook</span><iframe src=\"about:blank\" style=\"position:absolute;width:100%;height:100%;left:0;top:0;border:none !important;\" data-html=%3C%21DOCTYPE%20html%3E%0A%3Chead%3E%20%20%20%20%0A%20%20%20%20%3Cmeta%20http-equiv%3D%22content-type%22%20content%3D%22text/html%3B%20charset%3DUTF-8%22%20/%3E%0A%20%20%20%20%0A%20%20%20%20%20%20%20%20%3Cscript%3E%0A%20%20%20%20%20%20%20%20%20%20%20%20L_NO_TOUCH%20%3D%20false%3B%0A%20%20%20%20%20%20%20%20%20%20%20%20L_DISABLE_3D%20%3D%20false%3B%0A%20%20%20%20%20%20%20%20%3C/script%3E%0A%20%20%20%20%0A%20%20%20%20%3Cstyle%3Ehtml%2C%20body%20%7Bwidth%3A%20100%25%3Bheight%3A%20100%25%3Bmargin%3A%200%3Bpadding%3A%200%3B%7D%3C/style%3E%0A%20%20%20%20%3Cstyle%3E%23map%20%7Bposition%3Aabsolute%3Btop%3A0%3Bbottom%3A0%3Bright%3A0%3Bleft%3A0%3B%7D%3C/style%3E%0A%20%20%20%20%3Cscript%20src%3D%22https%3A//cdn.jsdelivr.net/npm/leaflet%401.6.0/dist/leaflet.js%22%3E%3C/script%3E%0A%20%20%20%20%3Cscript%20src%3D%22https%3A//code.jquery.com/jquery-1.12.4.min.js%22%3E%3C/script%3E%0A%20%20%20%20%3Cscript%20src%3D%22https%3A//maxcdn.bootstrapcdn.com/bootstrap/3.2.0/js/bootstrap.min.js%22%3E%3C/script%3E%0A%20%20%20%20%3Cscript%20src%3D%22https%3A//cdnjs.cloudflare.com/ajax/libs/Leaflet.awesome-markers/2.0.2/leaflet.awesome-markers.js%22%3E%3C/script%3E%0A%20%20%20%20%3Clink%20rel%3D%22stylesheet%22%20href%3D%22https%3A//cdn.jsdelivr.net/npm/leaflet%401.6.0/dist/leaflet.css%22/%3E%0A%20%20%20%20%3Clink%20rel%3D%22stylesheet%22%20href%3D%22https%3A//maxcdn.bootstrapcdn.com/bootstrap/3.2.0/css/bootstrap.min.css%22/%3E%0A%20%20%20%20%3Clink%20rel%3D%22stylesheet%22%20href%3D%22https%3A//maxcdn.bootstrapcdn.com/bootstrap/3.2.0/css/bootstrap-theme.min.css%22/%3E%0A%20%20%20%20%3Clink%20rel%3D%22stylesheet%22%20href%3D%22https%3A//maxcdn.bootstrapcdn.com/font-awesome/4.6.3/css/font-awesome.min.css%22/%3E%0A%20%20%20%20%3Clink%20rel%3D%22stylesheet%22%20href%3D%22https%3A//cdnjs.cloudflare.com/ajax/libs/Leaflet.awesome-markers/2.0.2/leaflet.awesome-markers.css%22/%3E%0A%20%20%20%20%3Clink%20rel%3D%22stylesheet%22%20href%3D%22https%3A//cdn.jsdelivr.net/gh/python-visualization/folium/folium/templates/leaflet.awesome.rotate.min.css%22/%3E%0A%20%20%20%20%0A%20%20%20%20%20%20%20%20%20%20%20%20%3Cmeta%20name%3D%22viewport%22%20content%3D%22width%3Ddevice-width%2C%0A%20%20%20%20%20%20%20%20%20%20%20%20%20%20%20%20initial-scale%3D1.0%2C%20maximum-scale%3D1.0%2C%20user-scalable%3Dno%22%20/%3E%0A%20%20%20%20%20%20%20%20%20%20%20%20%3Cstyle%3E%0A%20%20%20%20%20%20%20%20%20%20%20%20%20%20%20%20%23map_4c57253127ba419494283043e9b385f3%20%7B%0A%20%20%20%20%20%20%20%20%20%20%20%20%20%20%20%20%20%20%20%20position%3A%20relative%3B%0A%20%20%20%20%20%20%20%20%20%20%20%20%20%20%20%20%20%20%20%20width%3A%20100.0%25%3B%0A%20%20%20%20%20%20%20%20%20%20%20%20%20%20%20%20%20%20%20%20height%3A%20100.0%25%3B%0A%20%20%20%20%20%20%20%20%20%20%20%20%20%20%20%20%20%20%20%20left%3A%200.0%25%3B%0A%20%20%20%20%20%20%20%20%20%20%20%20%20%20%20%20%20%20%20%20top%3A%200.0%25%3B%0A%20%20%20%20%20%20%20%20%20%20%20%20%20%20%20%20%7D%0A%20%20%20%20%20%20%20%20%20%20%20%20%3C/style%3E%0A%20%20%20%20%20%20%20%20%0A%3C/head%3E%0A%3Cbody%3E%20%20%20%20%0A%20%20%20%20%0A%20%20%20%20%20%20%20%20%20%20%20%20%3Cdiv%20class%3D%22folium-map%22%20id%3D%22map_4c57253127ba419494283043e9b385f3%22%20%3E%3C/div%3E%0A%20%20%20%20%20%20%20%20%0A%3C/body%3E%0A%3Cscript%3E%20%20%20%20%0A%20%20%20%20%0A%20%20%20%20%20%20%20%20%20%20%20%20var%20map_4c57253127ba419494283043e9b385f3%20%3D%20L.map%28%0A%20%20%20%20%20%20%20%20%20%20%20%20%20%20%20%20%22map_4c57253127ba419494283043e9b385f3%22%2C%0A%20%20%20%20%20%20%20%20%20%20%20%20%20%20%20%20%7B%0A%20%20%20%20%20%20%20%20%20%20%20%20%20%20%20%20%20%20%20%20center%3A%20%5B34.1289805%2C%20-118.3310465%5D%2C%0A%20%20%20%20%20%20%20%20%20%20%20%20%20%20%20%20%20%20%20%20crs%3A%20L.CRS.EPSG3857%2C%0A%20%20%20%20%20%20%20%20%20%20%20%20%20%20%20%20%20%20%20%20zoom%3A%2013%2C%0A%20%20%20%20%20%20%20%20%20%20%20%20%20%20%20%20%20%20%20%20zoomControl%3A%20true%2C%0A%20%20%20%20%20%20%20%20%20%20%20%20%20%20%20%20%20%20%20%20preferCanvas%3A%20false%2C%0A%20%20%20%20%20%20%20%20%20%20%20%20%20%20%20%20%7D%0A%20%20%20%20%20%20%20%20%20%20%20%20%29%3B%0A%0A%20%20%20%20%20%20%20%20%20%20%20%20%0A%0A%20%20%20%20%20%20%20%20%0A%20%20%20%20%0A%20%20%20%20%20%20%20%20%20%20%20%20var%20tile_layer_e5bcbf4de3ae466abe94bd3ac37b561f%20%3D%20L.tileLayer%28%0A%20%20%20%20%20%20%20%20%20%20%20%20%20%20%20%20%22https%3A//%7Bs%7D.tile.openstreetmap.org/%7Bz%7D/%7Bx%7D/%7By%7D.png%22%2C%0A%20%20%20%20%20%20%20%20%20%20%20%20%20%20%20%20%7B%22attribution%22%3A%20%22Data%20by%20%5Cu0026copy%3B%20%5Cu003ca%20href%3D%5C%22http%3A//openstreetmap.org%5C%22%5Cu003eOpenStreetMap%5Cu003c/a%5Cu003e%2C%20under%20%5Cu003ca%20href%3D%5C%22http%3A//www.openstreetmap.org/copyright%5C%22%5Cu003eODbL%5Cu003c/a%5Cu003e.%22%2C%20%22detectRetina%22%3A%20false%2C%20%22maxNativeZoom%22%3A%2018%2C%20%22maxZoom%22%3A%2018%2C%20%22minZoom%22%3A%200%2C%20%22noWrap%22%3A%20false%2C%20%22opacity%22%3A%201%2C%20%22subdomains%22%3A%20%22abc%22%2C%20%22tms%22%3A%20false%7D%0A%20%20%20%20%20%20%20%20%20%20%20%20%29.addTo%28map_4c57253127ba419494283043e9b385f3%29%3B%0A%20%20%20%20%20%20%20%20%0A%20%20%20%20%0A%20%20%20%20%20%20%20%20%20%20%20%20var%20poly_line_06e516023135494a92b7cbd39290af95%20%3D%20L.polyline%28%0A%20%20%20%20%20%20%20%20%20%20%20%20%20%20%20%20%5B%5B34.11918%2C%20-118.30038%5D%2C%20%5B34.11993%2C%20-118.30024%5D%2C%20%5B34.12078%2C%20-118.29957%5D%2C%20%5B34.12134%2C%20-118.29996%5D%2C%20%5B34.12226%2C%20-118.29965%5D%2C%20%5B34.12311%2C%20-118.29991%5D%2C%20%5B34.12331%2C%20-118.29816%5D%2C%20%5B34.12442%2C%20-118.29763%5D%2C%20%5B34.12442%2C%20-118.29722%5D%2C%20%5B34.12199%2C%20-118.2969%5D%2C%20%5B34.11964%2C%20-118.29541%5D%2C%20%5B34.11783%2C%20-118.29359%5D%2C%20%5B34.1172%2C%20-118.29153%5D%2C%20%5B34.11547%2C%20-118.29031%5D%2C%20%5B34.11417%2C%20-118.29025%5D%2C%20%5B34.1127%2C%20-118.29188%5D%2C%20%5B34.11109%2C%20-118.29182%5D%2C%20%5B34.1078%2C%20-118.30916%5D%2C%20%5B34.10538%2C%20-118.30929%5D%2C%20%5B34.10524%2C%20-118.32525%5D%2C%20%5B34.10548%2C%20-118.32606%5D%2C%20%5B34.1088%2C%20-118.33206%5D%2C%20%5B34.11062%2C%20-118.33454%5D%2C%20%5B34.11217%2C%20-118.33552%5D%2C%20%5B34.11765%2C%20-118.33723%5D%2C%20%5B34.12008%2C%20-118.33848%5D%2C%20%5B34.1218%2C%20-118.33996%5D%2C%20%5B34.12486%2C%20-118.34349%5D%2C%20%5B34.12726%2C%20-118.34533%5D%2C%20%5B34.13186%2C%20-118.35004%5D%2C%20%5B34.13326%2C%20-118.35224%5D%2C%20%5B34.13447%2C%20-118.35664%5D%2C%20%5B34.13564%2C%20-118.3597%5D%2C%20%5B34.13813%2C%20-118.36267%5D%2C%20%5B34.139%2C%20-118.3622%5D%2C%20%5B34.13879%2C%20-118.36172%5D%5D%2C%0A%20%20%20%20%20%20%20%20%20%20%20%20%20%20%20%20%7B%22bubblingMouseEvents%22%3A%20true%2C%20%22color%22%3A%20%22blue%22%2C%20%22dashArray%22%3A%20null%2C%20%22dashOffset%22%3A%20null%2C%20%22fill%22%3A%20false%2C%20%22fillColor%22%3A%20%22blue%22%2C%20%22fillOpacity%22%3A%200.2%2C%20%22fillRule%22%3A%20%22evenodd%22%2C%20%22lineCap%22%3A%20%22round%22%2C%20%22lineJoin%22%3A%20%22round%22%2C%20%22noClip%22%3A%20false%2C%20%22opacity%22%3A%200.6%2C%20%22smoothFactor%22%3A%201.0%2C%20%22stroke%22%3A%20true%2C%20%22weight%22%3A%208%7D%0A%20%20%20%20%20%20%20%20%20%20%20%20%29.addTo%28map_4c57253127ba419494283043e9b385f3%29%3B%0A%20%20%20%20%20%20%20%20%0A%20%20%20%20%0A%20%20%20%20%20%20%20%20%20%20%20%20var%20marker_5354d8b2fc9140d6bb4e9d2bc5c22cce%20%3D%20L.marker%28%0A%20%20%20%20%20%20%20%20%20%20%20%20%20%20%20%20%5B34.119175%2C%20-118.300375%5D%2C%0A%20%20%20%20%20%20%20%20%20%20%20%20%20%20%20%20%7B%7D%0A%20%20%20%20%20%20%20%20%20%20%20%20%29.addTo%28map_4c57253127ba419494283043e9b385f3%29%3B%0A%20%20%20%20%20%20%20%20%0A%20%20%20%20%0A%20%20%20%20%20%20%20%20%20%20%20%20var%20icon_fcc55da84cce43458f673dd466b6d631%20%3D%20L.AwesomeMarkers.icon%28%0A%20%20%20%20%20%20%20%20%20%20%20%20%20%20%20%20%7B%22extraClasses%22%3A%20%22fa-rotate-0%22%2C%20%22icon%22%3A%20%22play%22%2C%20%22iconColor%22%3A%20%22white%22%2C%20%22markerColor%22%3A%20%22green%22%2C%20%22prefix%22%3A%20%22glyphicon%22%7D%0A%20%20%20%20%20%20%20%20%20%20%20%20%29%3B%0A%20%20%20%20%20%20%20%20%20%20%20%20marker_5354d8b2fc9140d6bb4e9d2bc5c22cce.setIcon%28icon_fcc55da84cce43458f673dd466b6d631%29%3B%0A%20%20%20%20%20%20%20%20%0A%20%20%20%20%0A%20%20%20%20%20%20%20%20%20%20%20%20var%20marker_6bd455c633334c0e9180dea4891f9ca7%20%3D%20L.marker%28%0A%20%20%20%20%20%20%20%20%20%20%20%20%20%20%20%20%5B34.138786%2C%20-118.361718%5D%2C%0A%20%20%20%20%20%20%20%20%20%20%20%20%20%20%20%20%7B%7D%0A%20%20%20%20%20%20%20%20%20%20%20%20%29.addTo%28map_4c57253127ba419494283043e9b385f3%29%3B%0A%20%20%20%20%20%20%20%20%0A%20%20%20%20%0A%20%20%20%20%20%20%20%20%20%20%20%20var%20icon_7997ac2a06a1454fb57d9e9834d34c7f%20%3D%20L.AwesomeMarkers.icon%28%0A%20%20%20%20%20%20%20%20%20%20%20%20%20%20%20%20%7B%22extraClasses%22%3A%20%22fa-rotate-0%22%2C%20%22icon%22%3A%20%22stop%22%2C%20%22iconColor%22%3A%20%22white%22%2C%20%22markerColor%22%3A%20%22red%22%2C%20%22prefix%22%3A%20%22glyphicon%22%7D%0A%20%20%20%20%20%20%20%20%20%20%20%20%29%3B%0A%20%20%20%20%20%20%20%20%20%20%20%20marker_6bd455c633334c0e9180dea4891f9ca7.setIcon%28icon_7997ac2a06a1454fb57d9e9834d34c7f%29%3B%0A%20%20%20%20%20%20%20%20%0A%3C/script%3E onload=\"this.contentDocument.open();this.contentDocument.write(    decodeURIComponent(this.getAttribute('data-html')));this.contentDocument.close();\" allowfullscreen webkitallowfullscreen mozallowfullscreen></iframe></div></div>"
      ],
      "text/plain": [
       "<folium.folium.Map at 0x1e51432c388>"
      ]
     },
     "execution_count": 18,
     "metadata": {},
     "output_type": "execute_result"
    }
   ],
   "source": [
    "# Getting the map for our test route\n",
    "get_map(test_route)"
   ]
  },
  {
   "cell_type": "markdown",
   "id": "breathing-grain",
   "metadata": {},
   "source": [
    "This code was made possible by OSM (© OpenStreetMap contributors), as well as Michael Yan at Think.Data.Science.\n",
    "\n",
    "Copyright info for OSM: https://www.openstreetmap.org/copyright"
   ]
  },
  {
   "cell_type": "code",
   "execution_count": null,
   "id": "saved-treasurer",
   "metadata": {},
   "outputs": [],
   "source": []
  }
 ],
 "metadata": {
  "kernelspec": {
   "display_name": "Python [conda env:PIC16B] *",
   "language": "python",
   "name": "conda-env-PIC16B-py"
  },
  "language_info": {
   "codemirror_mode": {
    "name": "ipython",
    "version": 3
   },
   "file_extension": ".py",
   "mimetype": "text/x-python",
   "name": "python",
   "nbconvert_exporter": "python",
   "pygments_lexer": "ipython3",
   "version": "3.7.10"
  }
 },
 "nbformat": 4,
 "nbformat_minor": 5
}
