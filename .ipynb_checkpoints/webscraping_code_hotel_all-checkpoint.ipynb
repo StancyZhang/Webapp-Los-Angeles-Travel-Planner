{
 "cells": [
  {
   "cell_type": "markdown",
   "id": "italic-peace",
   "metadata": {},
   "source": [
    "# Webscraping TripAdvisor\n",
    "## -- All recommended hotels on TripAdvisor"
   ]
  },
  {
   "cell_type": "markdown",
   "id": "structural-example",
   "metadata": {},
   "source": [
    "### Modules\n",
    "\n",
    "The modules we will be using for this version of web scraping are:\n",
    "\n",
    "- **pandas**: We will later use Pandas to create a dataframe for the name of each recommended hotel and its site link information after webscraping TripAdvisor.\n",
    "\n",
    "- **requests**: The module that enables us to send http requests so that we can receive all the response data.\n",
    "\n",
    "- **BeautifulSoup**: I've searched online regarding more tutorials of webscraping and learned that BeautifulSoup is an extremely useful module when trying to get data from html."
   ]
  },
  {
   "cell_type": "code",
   "execution_count": 1,
   "id": "active-timing",
   "metadata": {},
   "outputs": [],
   "source": [
    "import pandas as pd\n",
    "import requests\n",
    "from bs4 import BeautifulSoup as soup"
   ]
  },
  {
   "cell_type": "markdown",
   "id": "arctic-integrity",
   "metadata": {},
   "source": [
    "# Part 1: Data Preparation"
   ]
  },
  {
   "cell_type": "markdown",
   "id": "artificial-worship",
   "metadata": {},
   "source": [
    "## Step 1: Top 30 hotels"
   ]
  },
  {
   "cell_type": "markdown",
   "id": "premium-washer",
   "metadata": {},
   "source": [
    "### Get the Site Link with the Name\n",
    "\n",
    "Firstly, we use the requests and BeautifulSoup modules to get the response data from the website ranked by \"Best Value\". And then, we observed the \"Developer Tools\" on the website page for webscraping the information we want."
   ]
  },
  {
   "cell_type": "code",
   "execution_count": 2,
   "id": "seven-violation",
   "metadata": {},
   "outputs": [],
   "source": [
    "html_main = requests.get(\"https://www.tripadvisor.com/Hotels-g32655-Los_Angeles_California-Hotels.html\")\n",
    "bsobj_main = soup(html_main.content, \"lxml\")"
   ]
  },
  {
   "cell_type": "code",
   "execution_count": 3,
   "id": "rational-longer",
   "metadata": {},
   "outputs": [],
   "source": [
    "rank = []\n",
    "hotel_name = []\n",
    "rate_score = []\n",
    "hotel_link = []\n",
    "for s1 in bsobj_main.find_all(\"div\", class_ = \"ui_column is-8 main_col allowEllipsis\"):\n",
    "    if s1.find(\"span\", class_ = \"ui_merchandising_pill sponsored_v2\") == None:\n",
    "        for s2 in s1.find_all(\"div\", class_ = \"listing_title\"):\n",
    "            hotel_name.append(s1.a.text[6:])\n",
    "            hotel_link.append(s1.a[\"href\"])\n",
    "        for s3 in s1.find_all(\"div\", class_ = \"info-col\"):\n",
    "            if s3.a.text == \"0 reviews\":\n",
    "                rate_score.append(\"0 of 5 bubbles\")\n",
    "            else:\n",
    "                rate_score.append(s3.a[\"alt\"])\n",
    "\n",
    "for s4 in bsobj_main.find_all(\"div\", class_ = \"popindex\"):    \n",
    "    rank.append(s4.text.split(\" \")[0][1:])"
   ]
  },
  {
   "cell_type": "markdown",
   "id": "chronic-concentrate",
   "metadata": {},
   "source": [
    "## Step 2: The rest of the hotels - 450 recommended hotels in Los Angeles"
   ]
  },
  {
   "cell_type": "markdown",
   "id": "identical-shooting",
   "metadata": {},
   "source": [
    "Use the similar way in step 1, we can get all the hotel information on the rest of the webpages on TripAdvisor."
   ]
  },
  {
   "cell_type": "code",
   "execution_count": 4,
   "id": "automatic-sierra",
   "metadata": {},
   "outputs": [],
   "source": [
    "top_600 = list(range(30, 600, 30))"
   ]
  },
  {
   "cell_type": "code",
   "execution_count": null,
   "id": "colored-technician",
   "metadata": {},
   "outputs": [],
   "source": [
    "for num in top_600:\n",
    "    html_main = requests.get(\"https://www.tripadvisor.com/Hotels-g32655-oa\" + str(num) + \"-Los_Angeles_California-Hotels.html\")\n",
    "    bsobj_main = soup(html_main.content, \"lxml\")\n",
    "    \n",
    "    for s1 in bsobj_main.find_all(\"div\", class_ = \"ui_column is-8 main_col allowEllipsis\"):\n",
    "        if s1.find(\"span\", class_ = \"ui_merchandising_pill sponsored_v2\") == None:\n",
    "            for s2 in s1.find_all(\"div\", class_ = \"listing_title\"):\n",
    "                hotel_name.append(s1.a.text[6:])\n",
    "                hotel_link.append(s1.a[\"href\"])\n",
    "            for s3 in s1.find_all(\"div\", class_ = \"info-col\"):\n",
    "                if s3.a.text == \"0 reviews\":\n",
    "                    rate_score.append(\"0 of 5 bubbles\")\n",
    "                else:\n",
    "                    rate_score.append(s3.a[\"alt\"])\n",
    "\n",
    "    for s4 in bsobj_main.find_all(\"div\", class_ = \"popindex\"):    \n",
    "        rank.append(s4.text.split(\" \")[0][1:])"
   ]
  },
  {
   "cell_type": "markdown",
   "id": "elect-merchandise",
   "metadata": {},
   "source": [
    "## Step 3: Make a dataFrame for all the webscraping information"
   ]
  },
  {
   "cell_type": "markdown",
   "id": "enclosed-inquiry",
   "metadata": {},
   "source": [
    "### There are 450 recommended hotels in Los Angeles!"
   ]
  },
  {
   "cell_type": "code",
   "execution_count": null,
   "id": "conditional-processing",
   "metadata": {},
   "outputs": [],
   "source": [
    "hotel_link_update = []\n",
    "for site in hotel_link:\n",
    "    hotel_link_update.append(\"https://www.tripadvisor.com/\" + site)"
   ]
  },
  {
   "cell_type": "code",
   "execution_count": null,
   "id": "removed-occasion",
   "metadata": {},
   "outputs": [],
   "source": [
    "data = {\"Rank\": rank[:450], \"Hotel Name\": hotel_name[:450], \"Rate\": rate_score[:450], \"Site Link\": hotel_link_update[:450]}\n",
    "df = pd.DataFrame.from_dict(data)\n",
    "df"
   ]
  },
  {
   "cell_type": "markdown",
   "id": "mathematical-wyoming",
   "metadata": {},
   "source": [
    "## Step 3: CSV File -- There are 450 recommended hotels on TripAdvisor in total!\n",
    "\n",
    "We have successfully finished webscraping all the recommended hotels on TripAdvisor. We want to save them into a csv file for convenience."
   ]
  },
  {
   "cell_type": "code",
   "execution_count": null,
   "id": "ordinary-pointer",
   "metadata": {},
   "outputs": [],
   "source": [
    "df.to_csv(\"450_hotel.csv\")"
   ]
  },
  {
   "cell_type": "markdown",
   "id": "experienced-retail",
   "metadata": {},
   "source": [
    "# Part 2: Web App Simulation"
   ]
  },
  {
   "cell_type": "markdown",
   "id": "decimal-maria",
   "metadata": {},
   "source": [
    "## Step 1: Show all the hotels to the users for selection"
   ]
  },
  {
   "cell_type": "code",
   "execution_count": null,
   "id": "blocked-definition",
   "metadata": {},
   "outputs": [],
   "source": [
    "hotel_name[:450]"
   ]
  },
  {
   "cell_type": "code",
   "execution_count": null,
   "id": "electoral-missile",
   "metadata": {},
   "outputs": [],
   "source": [
    "def visit_hotel(df, want_to_go_name):\n",
    "    each_name = want_to_go_name.split(\".\")\n",
    "    \n",
    "    for name in each_name:\n",
    "        if name == each_name[0]:\n",
    "            visit_html = df[[\"Hotel Name\", \"Site Link\"]][df[\"Hotel Name\"] == name]\n",
    "        else:\n",
    "            visit_html = visit_html.append(df[[\"Hotel Name\", \"Site Link\"]][df[\"Hotel Name\"] == name])\n",
    "    \n",
    "    return visit_html"
   ]
  },
  {
   "cell_type": "markdown",
   "id": "numerous-furniture",
   "metadata": {},
   "source": [
    "## Step 2: Ask for an input from the users"
   ]
  },
  {
   "cell_type": "code",
   "execution_count": null,
   "id": "psychological-population",
   "metadata": {},
   "outputs": [],
   "source": [
    "want_to_go_name = str(input(\"Which hotel do you want to live?\"))\n",
    "visit_html = visit_hotel(df, want_to_go_name)"
   ]
  },
  {
   "cell_type": "code",
   "execution_count": null,
   "id": "portable-duplicate",
   "metadata": {},
   "outputs": [],
   "source": [
    "def find_location(visit_html):\n",
    "    \n",
    "    location = []\n",
    "    \n",
    "    for link in visit_html[\"Site Link\"]:\n",
    "        html = requests.get(link)\n",
    "        bsobj = soup(html.content, \"lxml\")\n",
    "    \n",
    "        for loc in bsobj.find_all(\"script\", type = \"application/ld+json\"):\n",
    "            if \"streetAddress\" in loc.string:\n",
    "                find_part_html = loc.string.split(\"{\")\n",
    "                for street in find_part_html:\n",
    "                    if \"streetAddress\" in street:\n",
    "                        for value in street.split(\",\"):\n",
    "                            if \"streetAddress\" in value:\n",
    "                                street_name = value.split(\":\")[1][1:][:-1] + \", \"\n",
    "                                   \n",
    "                            if \"addressLocality\" in value:\n",
    "                                city_name = value.split(\":\")[1][1:][:-1] + \", \"\n",
    "                                 \n",
    "                            if \"postalCode\" in value:\n",
    "                                zipcode = \"CA \" + value.split(\":\")[1][1:][:-1]\n",
    "                            \n",
    "        location_info = street_name + city_name + zipcode\n",
    "        location.append(location_info)\n",
    "    \n",
    "    return location"
   ]
  },
  {
   "cell_type": "code",
   "execution_count": null,
   "id": "worth-treatment",
   "metadata": {},
   "outputs": [],
   "source": [
    "location = find_location(visit_html)"
   ]
  },
  {
   "cell_type": "code",
   "execution_count": null,
   "id": "extensive-entrepreneur",
   "metadata": {},
   "outputs": [],
   "source": [
    "location"
   ]
  },
  {
   "cell_type": "code",
   "execution_count": null,
   "id": "false-australian",
   "metadata": {},
   "outputs": [],
   "source": []
  }
 ],
 "metadata": {
  "kernelspec": {
   "display_name": "Python [conda env:PIC16B] *",
   "language": "python",
   "name": "conda-env-PIC16B-py"
  },
  "language_info": {
   "codemirror_mode": {
    "name": "ipython",
    "version": 3
   },
   "file_extension": ".py",
   "mimetype": "text/x-python",
   "name": "python",
   "nbconvert_exporter": "python",
   "pygments_lexer": "ipython3",
   "version": "3.7.10"
  }
 },
 "nbformat": 4,
 "nbformat_minor": 5
}
