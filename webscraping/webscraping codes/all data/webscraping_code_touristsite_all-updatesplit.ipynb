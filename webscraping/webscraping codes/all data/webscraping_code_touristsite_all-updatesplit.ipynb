{
 "cells": [
  {
   "cell_type": "code",
   "execution_count": 1,
   "id": "equal-negative",
   "metadata": {},
   "outputs": [],
   "source": [
    "import pandas as pd\n",
    "import requests\n",
    "from bs4 import BeautifulSoup as soup"
   ]
  },
  {
   "cell_type": "markdown",
   "id": "charming-impact",
   "metadata": {},
   "source": [
    "# Data Preparation"
   ]
  },
  {
   "cell_type": "markdown",
   "id": "southwest-juice",
   "metadata": {},
   "source": [
    "## 0 - 30 tourist sites"
   ]
  },
  {
   "cell_type": "code",
   "execution_count": 2,
   "id": "simple-crash",
   "metadata": {},
   "outputs": [],
   "source": [
    "html_main = requests.get(\"https://www.tripadvisor.com/Attractions-g32655-Activities-a_allAttractions.true-Los_Angeles_California.html\")\n",
    "bsobj_main = soup(html_main.content, \"lxml\")"
   ]
  },
  {
   "cell_type": "code",
   "execution_count": 11,
   "id": "durable-retro",
   "metadata": {},
   "outputs": [],
   "source": [
    "rank = []\n",
    "tourist_site_name = []\n",
    "tourist_site_link = []\n",
    "for s in bsobj_main.find_all(\"section\", class_=\"_2TabEHya _3YhIe-Un\"):\n",
    "    rank.append(s.find(\"div\", class_=\"_1gpq3zsA _1zP41Z7X\").text.split(\". \")[0])\n",
    "    tourist_site_name.append(s.find(\"div\", class_=\"_1gpq3zsA _1zP41Z7X\").text.split(\". \")[1])\n",
    "    tourist_site_link.append(s.find(\"div\", class_=\"_3W_31Rvp _1nUIPWja _1l7Rsl_O _3ksqqIVm _2b3s5IMB\").a[\"href\"])"
   ]
  },
  {
   "cell_type": "markdown",
   "id": "electoral-preliminary",
   "metadata": {},
   "source": [
    "## The rest of the tourist sites - 2520 recommended tourist sites in Los Angeles"
   ]
  },
  {
   "cell_type": "code",
   "execution_count": 12,
   "id": "fixed-dream",
   "metadata": {},
   "outputs": [],
   "source": [
    "top_6000 = list(range(30, 6000, 30))"
   ]
  },
  {
   "cell_type": "code",
   "execution_count": 13,
   "id": "efficient-brook",
   "metadata": {},
   "outputs": [],
   "source": [
    "for num in top_6000:\n",
    "    html_main = requests.get(\"https://www.tripadvisor.com/Attractions-g32655-Activities-oa\" + str(num) + \"-Los_Angeles_California.html\")\n",
    "    bsobj_main = soup(html_main.content, \"lxml\")\n",
    "    \n",
    "    for s in bsobj_main.find_all(\"section\", class_=\"_2TabEHya _3YhIe-Un\"):\n",
    "        rank.append(s.find(\"div\", class_=\"_1gpq3zsA _1zP41Z7X\").text.split(\". \")[0])\n",
    "        tourist_site_name.append(s.find(\"div\", class_=\"_1gpq3zsA _1zP41Z7X\").text.split(\". \")[1])\n",
    "        tourist_site_link.append(s.find(\"div\", class_=\"_3W_31Rvp _1nUIPWja _1l7Rsl_O _3ksqqIVm _2b3s5IMB\").a[\"href\"])"
   ]
  },
  {
   "cell_type": "code",
   "execution_count": 14,
   "id": "positive-superintendent",
   "metadata": {},
   "outputs": [],
   "source": [
    "tourist_site_link_update = []\n",
    "for site in tourist_site_link:\n",
    "    tourist_site_link_update.append(\"https://www.tripadvisor.com/\" + site)"
   ]
  },
  {
   "cell_type": "code",
   "execution_count": 16,
   "id": "pacific-differential",
   "metadata": {},
   "outputs": [
    {
     "data": {
      "text/html": [
       "<div>\n",
       "<style scoped>\n",
       "    .dataframe tbody tr th:only-of-type {\n",
       "        vertical-align: middle;\n",
       "    }\n",
       "\n",
       "    .dataframe tbody tr th {\n",
       "        vertical-align: top;\n",
       "    }\n",
       "\n",
       "    .dataframe thead th {\n",
       "        text-align: right;\n",
       "    }\n",
       "</style>\n",
       "<table border=\"1\" class=\"dataframe\">\n",
       "  <thead>\n",
       "    <tr style=\"text-align: right;\">\n",
       "      <th></th>\n",
       "      <th>Rank</th>\n",
       "      <th>Tourist Site Name</th>\n",
       "      <th>Site Link</th>\n",
       "    </tr>\n",
       "  </thead>\n",
       "  <tbody>\n",
       "    <tr>\n",
       "      <th>0</th>\n",
       "      <td>1</td>\n",
       "      <td>The Getty Center</td>\n",
       "      <td>https://www.tripadvisor.com//Attraction_Review...</td>\n",
       "    </tr>\n",
       "    <tr>\n",
       "      <th>1</th>\n",
       "      <td>2</td>\n",
       "      <td>Griffith Observatory</td>\n",
       "      <td>https://www.tripadvisor.com//Attraction_Review...</td>\n",
       "    </tr>\n",
       "    <tr>\n",
       "      <th>2</th>\n",
       "      <td>3</td>\n",
       "      <td>Universal Studios Hollywood</td>\n",
       "      <td>https://www.tripadvisor.com//Attraction_Review...</td>\n",
       "    </tr>\n",
       "    <tr>\n",
       "      <th>3</th>\n",
       "      <td>4</td>\n",
       "      <td>Petersen Automotive Museum</td>\n",
       "      <td>https://www.tripadvisor.com//Attraction_Review...</td>\n",
       "    </tr>\n",
       "    <tr>\n",
       "      <th>4</th>\n",
       "      <td>5</td>\n",
       "      <td>The Wizarding World of Harry Potter</td>\n",
       "      <td>https://www.tripadvisor.com//Attraction_Review...</td>\n",
       "    </tr>\n",
       "    <tr>\n",
       "      <th>...</th>\n",
       "      <td>...</td>\n",
       "      <td>...</td>\n",
       "      <td>...</td>\n",
       "    </tr>\n",
       "    <tr>\n",
       "      <th>2515</th>\n",
       "      <td>2516</td>\n",
       "      <td>Sunrise Surf Academy</td>\n",
       "      <td>https://www.tripadvisor.com//Attraction_Review...</td>\n",
       "    </tr>\n",
       "    <tr>\n",
       "      <th>2516</th>\n",
       "      <td>2517</td>\n",
       "      <td>Lumber Jack's Axe Throwing</td>\n",
       "      <td>https://www.tripadvisor.com//Attraction_Review...</td>\n",
       "    </tr>\n",
       "    <tr>\n",
       "      <th>2517</th>\n",
       "      <td>2518</td>\n",
       "      <td>Chill N Vape Lounge</td>\n",
       "      <td>https://www.tripadvisor.com//Attraction_Review...</td>\n",
       "    </tr>\n",
       "    <tr>\n",
       "      <th>2518</th>\n",
       "      <td>2519</td>\n",
       "      <td>Inside Out Restorative Spa</td>\n",
       "      <td>https://www.tripadvisor.com//Attraction_Review...</td>\n",
       "    </tr>\n",
       "    <tr>\n",
       "      <th>2519</th>\n",
       "      <td>2520</td>\n",
       "      <td>Inside Out Restorative Spa</td>\n",
       "      <td>https://www.tripadvisor.com//Attraction_Review...</td>\n",
       "    </tr>\n",
       "  </tbody>\n",
       "</table>\n",
       "<p>2520 rows × 3 columns</p>\n",
       "</div>"
      ],
      "text/plain": [
       "      Rank                    Tourist Site Name  \\\n",
       "0        1                     The Getty Center   \n",
       "1        2                 Griffith Observatory   \n",
       "2        3          Universal Studios Hollywood   \n",
       "3        4           Petersen Automotive Museum   \n",
       "4        5  The Wizarding World of Harry Potter   \n",
       "...    ...                                  ...   \n",
       "2515  2516                 Sunrise Surf Academy   \n",
       "2516  2517           Lumber Jack's Axe Throwing   \n",
       "2517  2518                  Chill N Vape Lounge   \n",
       "2518  2519           Inside Out Restorative Spa   \n",
       "2519  2520           Inside Out Restorative Spa   \n",
       "\n",
       "                                              Site Link  \n",
       "0     https://www.tripadvisor.com//Attraction_Review...  \n",
       "1     https://www.tripadvisor.com//Attraction_Review...  \n",
       "2     https://www.tripadvisor.com//Attraction_Review...  \n",
       "3     https://www.tripadvisor.com//Attraction_Review...  \n",
       "4     https://www.tripadvisor.com//Attraction_Review...  \n",
       "...                                                 ...  \n",
       "2515  https://www.tripadvisor.com//Attraction_Review...  \n",
       "2516  https://www.tripadvisor.com//Attraction_Review...  \n",
       "2517  https://www.tripadvisor.com//Attraction_Review...  \n",
       "2518  https://www.tripadvisor.com//Attraction_Review...  \n",
       "2519  https://www.tripadvisor.com//Attraction_Review...  \n",
       "\n",
       "[2520 rows x 3 columns]"
      ]
     },
     "execution_count": 16,
     "metadata": {},
     "output_type": "execute_result"
    }
   ],
   "source": [
    "data = {\"Rank\": rank, \"Tourist Site Name\": tourist_site_name, \"Site Link\": tourist_site_link_update}\n",
    "df = pd.DataFrame.from_dict(data)\n",
    "df"
   ]
  },
  {
   "cell_type": "markdown",
   "id": "genetic-computer",
   "metadata": {},
   "source": [
    "### 2520 tourist sites in total!"
   ]
  },
  {
   "cell_type": "code",
   "execution_count": 18,
   "id": "aerial-equation",
   "metadata": {},
   "outputs": [],
   "source": [
    "df.to_csv(\"2520_touristsite.csv\")"
   ]
  },
  {
   "cell_type": "markdown",
   "id": "arctic-nerve",
   "metadata": {},
   "source": [
    "# Location After Input"
   ]
  },
  {
   "cell_type": "code",
   "execution_count": 8,
   "id": "aware-injection",
   "metadata": {},
   "outputs": [
    {
     "data": {
      "text/html": [
       "<div>\n",
       "<style scoped>\n",
       "    .dataframe tbody tr th:only-of-type {\n",
       "        vertical-align: middle;\n",
       "    }\n",
       "\n",
       "    .dataframe tbody tr th {\n",
       "        vertical-align: top;\n",
       "    }\n",
       "\n",
       "    .dataframe thead th {\n",
       "        text-align: right;\n",
       "    }\n",
       "</style>\n",
       "<table border=\"1\" class=\"dataframe\">\n",
       "  <thead>\n",
       "    <tr style=\"text-align: right;\">\n",
       "      <th></th>\n",
       "      <th>Unnamed: 0</th>\n",
       "      <th>Rank</th>\n",
       "      <th>Tourist Site Name</th>\n",
       "      <th>Site Link</th>\n",
       "    </tr>\n",
       "  </thead>\n",
       "  <tbody>\n",
       "    <tr>\n",
       "      <th>0</th>\n",
       "      <td>0</td>\n",
       "      <td>1</td>\n",
       "      <td>The Getty Center</td>\n",
       "      <td>https://www.tripadvisor.com//Attraction_Review...</td>\n",
       "    </tr>\n",
       "    <tr>\n",
       "      <th>1</th>\n",
       "      <td>1</td>\n",
       "      <td>2</td>\n",
       "      <td>Griffith Observatory</td>\n",
       "      <td>https://www.tripadvisor.com//Attraction_Review...</td>\n",
       "    </tr>\n",
       "    <tr>\n",
       "      <th>2</th>\n",
       "      <td>2</td>\n",
       "      <td>3</td>\n",
       "      <td>Universal Studios Hollywood</td>\n",
       "      <td>https://www.tripadvisor.com//Attraction_Review...</td>\n",
       "    </tr>\n",
       "    <tr>\n",
       "      <th>3</th>\n",
       "      <td>3</td>\n",
       "      <td>4</td>\n",
       "      <td>Petersen Automotive Museum</td>\n",
       "      <td>https://www.tripadvisor.com//Attraction_Review...</td>\n",
       "    </tr>\n",
       "    <tr>\n",
       "      <th>4</th>\n",
       "      <td>4</td>\n",
       "      <td>5</td>\n",
       "      <td>The Wizarding World of Harry Potter</td>\n",
       "      <td>https://www.tripadvisor.com//Attraction_Review...</td>\n",
       "    </tr>\n",
       "    <tr>\n",
       "      <th>...</th>\n",
       "      <td>...</td>\n",
       "      <td>...</td>\n",
       "      <td>...</td>\n",
       "      <td>...</td>\n",
       "    </tr>\n",
       "    <tr>\n",
       "      <th>2513</th>\n",
       "      <td>2513</td>\n",
       "      <td>2514</td>\n",
       "      <td>Sunrise Surf Academy</td>\n",
       "      <td>https://www.tripadvisor.com//Attraction_Review...</td>\n",
       "    </tr>\n",
       "    <tr>\n",
       "      <th>2514</th>\n",
       "      <td>2514</td>\n",
       "      <td>2515</td>\n",
       "      <td>In Sheep's Clothing</td>\n",
       "      <td>https://www.tripadvisor.com//Attraction_Review...</td>\n",
       "    </tr>\n",
       "    <tr>\n",
       "      <th>2515</th>\n",
       "      <td>2515</td>\n",
       "      <td>2516</td>\n",
       "      <td>Lumber Jack's Axe Throwing</td>\n",
       "      <td>https://www.tripadvisor.com//Attraction_Review...</td>\n",
       "    </tr>\n",
       "    <tr>\n",
       "      <th>2516</th>\n",
       "      <td>2516</td>\n",
       "      <td>2517</td>\n",
       "      <td>Universal Tour Group</td>\n",
       "      <td>https://www.tripadvisor.com//Attraction_Review...</td>\n",
       "    </tr>\n",
       "    <tr>\n",
       "      <th>2517</th>\n",
       "      <td>2517</td>\n",
       "      <td>2518</td>\n",
       "      <td>Gold Line</td>\n",
       "      <td>https://www.tripadvisor.com//Attraction_Review...</td>\n",
       "    </tr>\n",
       "  </tbody>\n",
       "</table>\n",
       "<p>2518 rows × 4 columns</p>\n",
       "</div>"
      ],
      "text/plain": [
       "      Unnamed: 0  Rank                    Tourist Site Name  \\\n",
       "0              0     1                     The Getty Center   \n",
       "1              1     2                 Griffith Observatory   \n",
       "2              2     3          Universal Studios Hollywood   \n",
       "3              3     4           Petersen Automotive Museum   \n",
       "4              4     5  The Wizarding World of Harry Potter   \n",
       "...          ...   ...                                  ...   \n",
       "2513        2513  2514                 Sunrise Surf Academy   \n",
       "2514        2514  2515                  In Sheep's Clothing   \n",
       "2515        2515  2516           Lumber Jack's Axe Throwing   \n",
       "2516        2516  2517                 Universal Tour Group   \n",
       "2517        2517  2518                            Gold Line   \n",
       "\n",
       "                                              Site Link  \n",
       "0     https://www.tripadvisor.com//Attraction_Review...  \n",
       "1     https://www.tripadvisor.com//Attraction_Review...  \n",
       "2     https://www.tripadvisor.com//Attraction_Review...  \n",
       "3     https://www.tripadvisor.com//Attraction_Review...  \n",
       "4     https://www.tripadvisor.com//Attraction_Review...  \n",
       "...                                                 ...  \n",
       "2513  https://www.tripadvisor.com//Attraction_Review...  \n",
       "2514  https://www.tripadvisor.com//Attraction_Review...  \n",
       "2515  https://www.tripadvisor.com//Attraction_Review...  \n",
       "2516  https://www.tripadvisor.com//Attraction_Review...  \n",
       "2517  https://www.tripadvisor.com//Attraction_Review...  \n",
       "\n",
       "[2518 rows x 4 columns]"
      ]
     },
     "execution_count": 8,
     "metadata": {},
     "output_type": "execute_result"
    }
   ],
   "source": [
    "df = pd.read_csv(\"2520_touristsite.csv\")\n",
    "df"
   ]
  },
  {
   "cell_type": "code",
   "execution_count": 11,
   "id": "bacterial-cocktail",
   "metadata": {},
   "outputs": [
    {
     "data": {
      "text/plain": [
       "0                          the getty center\n",
       "1                      griffith observatory\n",
       "2               universal studios hollywood\n",
       "3                petersen automotive museum\n",
       "4       the wizarding world of harry potter\n",
       "                       ...                 \n",
       "2513                   sunrise surf academy\n",
       "2514                    in sheep's clothing\n",
       "2515             lumber jack's axe throwing\n",
       "2516                   universal tour group\n",
       "2517                              gold line\n",
       "Name: Tourist Site Name, Length: 2518, dtype: object"
      ]
     },
     "execution_count": 11,
     "metadata": {},
     "output_type": "execute_result"
    }
   ],
   "source": [
    "df[\"Tourist Site Name\"].str.lower()"
   ]
  },
  {
   "cell_type": "markdown",
   "id": "occupied-faith",
   "metadata": {},
   "source": [
    "*** may update want_to_go_name to make it consider capital letter/ error message/ give example"
   ]
  },
  {
   "cell_type": "code",
   "execution_count": 16,
   "id": "tight-minutes",
   "metadata": {},
   "outputs": [],
   "source": [
    "def visit_tourist(df, want_to_go_name):\n",
    "    want_to_go_name = want_to_go_name.lower()\n",
    "    each_name = want_to_go_name.split(\", \")\n",
    "    \n",
    "    for name in each_name:\n",
    "        if name == each_name[0]:\n",
    "            visit_html = df[[\"Tourist Site Name\", \"Site Link\"]][df[\"Tourist Site Name\"].str.lower() == name]\n",
    "        else:\n",
    "            visit_html = visit_html.append(df[[\"Tourist Site Name\", \"Site Link\"]][df[\"Tourist Site Name\"].str.lower() == name])\n",
    "    \n",
    "    return visit_html"
   ]
  },
  {
   "cell_type": "code",
   "execution_count": 17,
   "id": "champion-priority",
   "metadata": {},
   "outputs": [
    {
     "name": "stdout",
     "output_type": "stream",
     "text": [
      "Which tourist sites do you want to go? (*please input the names of the tourist sites separated by a period)the getty Center, the Broad\n"
     ]
    }
   ],
   "source": [
    "want_to_go_name = str(input(\"Which tourist sites do you want to go? (*please input the names of the tourist sites separated by a period)\"))\n",
    "visit_html = visit_tourist(df, want_to_go_name)"
   ]
  },
  {
   "cell_type": "code",
   "execution_count": 13,
   "id": "continued-dairy",
   "metadata": {},
   "outputs": [],
   "source": [
    "def find_location(visit_html):\n",
    "    \n",
    "    location = []\n",
    "    \n",
    "    for link in visit_html[\"Site Link\"]:\n",
    "        html = requests.get(link)\n",
    "        bsobj = soup(html.content, \"lxml\")\n",
    "    \n",
    "        for loc in bsobj.find_all(\"script\", type = \"application/ld+json\"):\n",
    "            if \"streetAddress\" in loc.string:\n",
    "                find_part_html = loc.string.split(\"{\")\n",
    "                for street in find_part_html:\n",
    "                    if \"streetAddress\" in street:\n",
    "                        for value in street.split(\",\"):\n",
    "                            if \"streetAddress\" in value:\n",
    "                                street_name = value.split(\":\")[1][1:][:-1] + \", \"\n",
    "                                   \n",
    "                            if \"addressLocality\" in value:\n",
    "                                city_name = value.split(\":\")[1][1:][:-1] + \", \"\n",
    "                                 \n",
    "                            if \"postalCode\" in value:\n",
    "                                zipcode = \"CA \" + value.split(\":\")[1][1:][:-1]\n",
    "                            \n",
    "        location_info = street_name + city_name + zipcode\n",
    "        location.append(location_info)\n",
    "    \n",
    "    return location"
   ]
  },
  {
   "cell_type": "code",
   "execution_count": 14,
   "id": "featured-crawford",
   "metadata": {},
   "outputs": [],
   "source": [
    "# location = find_location(visit_html)"
   ]
  },
  {
   "cell_type": "code",
   "execution_count": 22,
   "id": "unable-ethics",
   "metadata": {},
   "outputs": [
    {
     "data": {
      "text/plain": [
       "['N Broadway at North Hill St Downtown, Los Angeles, CA 90012',\n",
       " '10886 Le Conte Ave, Los Angeles, CA 90024-3098']"
      ]
     },
     "execution_count": 22,
     "metadata": {},
     "output_type": "execute_result"
    }
   ],
   "source": [
    "# location"
   ]
  }
 ],
 "metadata": {
  "kernelspec": {
   "display_name": "Python [conda env:PIC16B] *",
   "language": "python",
   "name": "conda-env-PIC16B-py"
  },
  "language_info": {
   "codemirror_mode": {
    "name": "ipython",
    "version": 3
   },
   "file_extension": ".py",
   "mimetype": "text/x-python",
   "name": "python",
   "nbconvert_exporter": "python",
   "pygments_lexer": "ipython3",
   "version": "3.7.10"
  }
 },
 "nbformat": 4,
 "nbformat_minor": 5
}
