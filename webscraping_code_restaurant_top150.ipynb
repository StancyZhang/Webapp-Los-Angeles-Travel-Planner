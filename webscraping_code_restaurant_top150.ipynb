{
 "cells": [
  {
   "cell_type": "code",
   "execution_count": 1,
   "id": "outer-lobby",
   "metadata": {},
   "outputs": [],
   "source": [
    "import pandas as pd\n",
    "import requests\n",
    "from bs4 import BeautifulSoup as soup"
   ]
  },
  {
   "cell_type": "markdown",
   "id": "premier-drinking",
   "metadata": {},
   "source": [
    "*** vegan& food photo"
   ]
  },
  {
   "cell_type": "markdown",
   "id": "departmental-advice",
   "metadata": {},
   "source": [
    "# Data Preparation"
   ]
  },
  {
   "cell_type": "markdown",
   "id": "green-trust",
   "metadata": {},
   "source": [
    "## 0 - 30 restaurants"
   ]
  },
  {
   "cell_type": "code",
   "execution_count": 6,
   "id": "under-support",
   "metadata": {},
   "outputs": [],
   "source": [
    "html_main = requests.get(\"https://www.tripadvisor.com/Restaurants-g32655-Los_Angeles_California.html\")\n",
    "bsobj_main = soup(html_main.content, \"lxml\")"
   ]
  },
  {
   "cell_type": "code",
   "execution_count": 226,
   "id": "blessed-alaska",
   "metadata": {},
   "outputs": [],
   "source": [
    "rank = []\n",
    "restaurant_name = []\n",
    "style = []\n",
    "rate_score = []\n",
    "restaurant_link = []\n",
    "for s in bsobj_main.find_all(\"div\", class_ = \"_1llCuDZj\"):\n",
    "    rank.append(s.find(\"a\", class_=\"_15_ydu6b\").text.split(\". \")[0:1][0])\n",
    "    restaurant_name.append(s.find(\"a\", class_=\"_15_ydu6b\").text.split(\". \")[1:2])\n",
    "    style.append(s.find(\"div\", class_ = \"MIajtJFg _1cBs8huC _3d9EnJpt\").text.split(\"$\")[0])\n",
    "    rate_score.append(s.find(\"div\", class_ = \"MIajtJFg _1cBs8huC\").svg[\"aria-label\"])\n",
    "    restaurant_link.append(s.find(\"div\", class_=\"wQjYiB7z\").a[\"href\"])\n",
    "\n",
    "rank.remove(rank[0]) # drop the sponsored restaurant info\n",
    "restaurant_name.remove(restaurant_name[0]) # drop the sponsored restaurant info\n",
    "style.remove(style[0]) # drop the sponsored restaurant info\n",
    "rate_score.remove(rate_score[0]) # drop the sponsored restaurant info\n",
    "restaurant_link.remove(restaurant_link[0]) # drop the sponsored restaurant info"
   ]
  },
  {
   "cell_type": "markdown",
   "id": "polar-clearing",
   "metadata": {},
   "source": [
    "## 31 - 150 restaurants"
   ]
  },
  {
   "cell_type": "code",
   "execution_count": 186,
   "id": "headed-motivation",
   "metadata": {},
   "outputs": [],
   "source": [
    "top_150 = list(range(30, 150, 30))"
   ]
  },
  {
   "cell_type": "code",
   "execution_count": 187,
   "id": "loving-balloon",
   "metadata": {},
   "outputs": [],
   "source": [
    "for num in top_150:\n",
    "    html_main = requests.get(\"https://www.tripadvisor.com/RestaurantSearch-g32655-oa\" + str(num) + \"-a_geobroaden.true-Los_Angeles_California.html\")\n",
    "    bsobj_main = soup(html_main.content, \"lxml\")\n",
    "    \n",
    "    for s in bsobj_main.find_all(\"div\", class_ = \"_1llCuDZj\"):\n",
    "        rank.append(s.find(\"a\", class_=\"_15_ydu6b\").text.split(\". \")[0:1][0])\n",
    "        restaurant_name.append(s.find(\"a\", class_=\"_15_ydu6b\").text.split(\". \")[1:2])\n",
    "        style.append(s.find(\"div\", class_ = \"MIajtJFg _1cBs8huC _3d9EnJpt\").text.split(\"$\")[0])\n",
    "        rate_score.append(s.find(\"div\", class_ = \"MIajtJFg _1cBs8huC\").svg[\"aria-label\"])\n",
    "        restaurant_link.append(s.find(\"div\", class_=\"wQjYiB7z\").a[\"href\"])\n",
    "\n",
    "    rank.remove(rank[num]) # drop the sponsored restaurant info\n",
    "    restaurant_name.remove(restaurant_name[num]) # drop the sponsored restaurant info\n",
    "    rate_score.remove(rate_score[num]) # drop the sponsored restaurant info\n",
    "    restaurant_link.remove(restaurant_link[num]) # drop the sponsored restaurant info\n",
    "    style.remove(style[num]) # drop the sponsored restaurant info)"
   ]
  },
  {
   "cell_type": "code",
   "execution_count": 207,
   "id": "interested-administration",
   "metadata": {},
   "outputs": [],
   "source": [
    "restaurant_name_update = []\n",
    "for name in restaurant_name:\n",
    "    restaurant_name_update.append(name[0])"
   ]
  },
  {
   "cell_type": "code",
   "execution_count": 197,
   "id": "promotional-witness",
   "metadata": {},
   "outputs": [],
   "source": [
    "restaurant_link_update = []\n",
    "for site in restaurant_link:\n",
    "    restaurant_link_update.append(\"https://www.tripadvisor.com/\" + site)"
   ]
  },
  {
   "cell_type": "code",
   "execution_count": 208,
   "id": "limiting-mountain",
   "metadata": {},
   "outputs": [
    {
     "data": {
      "text/html": [
       "<div>\n",
       "<style scoped>\n",
       "    .dataframe tbody tr th:only-of-type {\n",
       "        vertical-align: middle;\n",
       "    }\n",
       "\n",
       "    .dataframe tbody tr th {\n",
       "        vertical-align: top;\n",
       "    }\n",
       "\n",
       "    .dataframe thead th {\n",
       "        text-align: right;\n",
       "    }\n",
       "</style>\n",
       "<table border=\"1\" class=\"dataframe\">\n",
       "  <thead>\n",
       "    <tr style=\"text-align: right;\">\n",
       "      <th></th>\n",
       "      <th>Rank</th>\n",
       "      <th>Restaurant Name</th>\n",
       "      <th>Style</th>\n",
       "      <th>Rate</th>\n",
       "      <th>Site Link</th>\n",
       "    </tr>\n",
       "  </thead>\n",
       "  <tbody>\n",
       "    <tr>\n",
       "      <th>0</th>\n",
       "      <td>1</td>\n",
       "      <td>n/naka</td>\n",
       "      <td>Japanese, Sushi</td>\n",
       "      <td>5.0 of 5 bubbles</td>\n",
       "      <td>https://www.tripadvisor.com//Restaurant_Review...</td>\n",
       "    </tr>\n",
       "    <tr>\n",
       "      <th>1</th>\n",
       "      <td>2</td>\n",
       "      <td>Raffaello Ristorante</td>\n",
       "      <td>Italian</td>\n",
       "      <td>4.5 of 5 bubbles</td>\n",
       "      <td>https://www.tripadvisor.com//Restaurant_Review...</td>\n",
       "    </tr>\n",
       "    <tr>\n",
       "      <th>2</th>\n",
       "      <td>3</td>\n",
       "      <td>Brent's Delicatessen &amp; Restaurant</td>\n",
       "      <td>American, Deli</td>\n",
       "      <td>4.5 of 5 bubbles</td>\n",
       "      <td>https://www.tripadvisor.com//Restaurant_Review...</td>\n",
       "    </tr>\n",
       "    <tr>\n",
       "      <th>3</th>\n",
       "      <td>4</td>\n",
       "      <td>Providence</td>\n",
       "      <td>Seafood</td>\n",
       "      <td>4.5 of 5 bubbles</td>\n",
       "      <td>https://www.tripadvisor.com//Restaurant_Review...</td>\n",
       "    </tr>\n",
       "    <tr>\n",
       "      <th>4</th>\n",
       "      <td>5</td>\n",
       "      <td>Angelini Osteria</td>\n",
       "      <td>Italian, Sicilian</td>\n",
       "      <td>4.5 of 5 bubbles</td>\n",
       "      <td>https://www.tripadvisor.com//Restaurant_Review...</td>\n",
       "    </tr>\n",
       "    <tr>\n",
       "      <th>...</th>\n",
       "      <td>...</td>\n",
       "      <td>...</td>\n",
       "      <td>...</td>\n",
       "      <td>...</td>\n",
       "      <td>...</td>\n",
       "    </tr>\n",
       "    <tr>\n",
       "      <th>145</th>\n",
       "      <td>146</td>\n",
       "      <td>The Venice Whaler</td>\n",
       "      <td>American, Bar</td>\n",
       "      <td>4.0 of 5 bubbles</td>\n",
       "      <td>https://www.tripadvisor.com//Restaurant_Review...</td>\n",
       "    </tr>\n",
       "    <tr>\n",
       "      <th>146</th>\n",
       "      <td>147</td>\n",
       "      <td>Daikokuya Ramen</td>\n",
       "      <td>Japanese, Asian</td>\n",
       "      <td>4.5 of 5 bubbles</td>\n",
       "      <td>https://www.tripadvisor.com//Restaurant_Review...</td>\n",
       "    </tr>\n",
       "    <tr>\n",
       "      <th>147</th>\n",
       "      <td>148</td>\n",
       "      <td>Tao</td>\n",
       "      <td>Chinese, Japanese</td>\n",
       "      <td>4.5 of 5 bubbles</td>\n",
       "      <td>https://www.tripadvisor.com//Restaurant_Review...</td>\n",
       "    </tr>\n",
       "    <tr>\n",
       "      <th>148</th>\n",
       "      <td>149</td>\n",
       "      <td>Happy Diner</td>\n",
       "      <td>American, Diner</td>\n",
       "      <td>4.5 of 5 bubbles</td>\n",
       "      <td>https://www.tripadvisor.com//Restaurant_Review...</td>\n",
       "    </tr>\n",
       "    <tr>\n",
       "      <th>149</th>\n",
       "      <td>150</td>\n",
       "      <td>TART</td>\n",
       "      <td>American</td>\n",
       "      <td>4.0 of 5 bubbles</td>\n",
       "      <td>https://www.tripadvisor.com//Restaurant_Review...</td>\n",
       "    </tr>\n",
       "  </tbody>\n",
       "</table>\n",
       "<p>150 rows × 5 columns</p>\n",
       "</div>"
      ],
      "text/plain": [
       "    Rank                    Restaurant Name              Style  \\\n",
       "0      1                             n/naka    Japanese, Sushi   \n",
       "1      2               Raffaello Ristorante            Italian   \n",
       "2      3  Brent's Delicatessen & Restaurant     American, Deli   \n",
       "3      4                         Providence            Seafood   \n",
       "4      5                   Angelini Osteria  Italian, Sicilian   \n",
       "..   ...                                ...                ...   \n",
       "145  146                  The Venice Whaler      American, Bar   \n",
       "146  147                    Daikokuya Ramen    Japanese, Asian   \n",
       "147  148                                Tao  Chinese, Japanese   \n",
       "148  149                        Happy Diner    American, Diner   \n",
       "149  150                               TART           American   \n",
       "\n",
       "                 Rate                                          Site Link  \n",
       "0    5.0 of 5 bubbles  https://www.tripadvisor.com//Restaurant_Review...  \n",
       "1    4.5 of 5 bubbles  https://www.tripadvisor.com//Restaurant_Review...  \n",
       "2    4.5 of 5 bubbles  https://www.tripadvisor.com//Restaurant_Review...  \n",
       "3    4.5 of 5 bubbles  https://www.tripadvisor.com//Restaurant_Review...  \n",
       "4    4.5 of 5 bubbles  https://www.tripadvisor.com//Restaurant_Review...  \n",
       "..                ...                                                ...  \n",
       "145  4.0 of 5 bubbles  https://www.tripadvisor.com//Restaurant_Review...  \n",
       "146  4.5 of 5 bubbles  https://www.tripadvisor.com//Restaurant_Review...  \n",
       "147  4.5 of 5 bubbles  https://www.tripadvisor.com//Restaurant_Review...  \n",
       "148  4.5 of 5 bubbles  https://www.tripadvisor.com//Restaurant_Review...  \n",
       "149  4.0 of 5 bubbles  https://www.tripadvisor.com//Restaurant_Review...  \n",
       "\n",
       "[150 rows x 5 columns]"
      ]
     },
     "execution_count": 208,
     "metadata": {},
     "output_type": "execute_result"
    }
   ],
   "source": [
    "data = {\"Rank\": rank, \"Restaurant Name\": restaurant_name_update, \"Style\": style, \"Rate\": rate_score, \"Site Link\": restaurant_link_update}\n",
    "df = pd.DataFrame.from_dict(data)\n",
    "df"
   ]
  },
  {
   "cell_type": "markdown",
   "id": "numeric-library",
   "metadata": {},
   "source": [
    "# Location After Input"
   ]
  },
  {
   "cell_type": "code",
   "execution_count": 227,
   "id": "otherwise-prize",
   "metadata": {},
   "outputs": [
    {
     "data": {
      "text/plain": [
       "['n/naka',\n",
       " 'Raffaello Ristorante',\n",
       " \"Brent's Delicatessen & Restaurant\",\n",
       " 'Providence',\n",
       " 'Angelini Osteria',\n",
       " 'Maccheroni Republic',\n",
       " 'Sushi Gen',\n",
       " 'Cafe Gratitude',\n",
       " 'Toast Bakery Cafe',\n",
       " \"Langer's\",\n",
       " 'Karl Strauss Brewing Company',\n",
       " 'Flake',\n",
       " 'Parkway Grill',\n",
       " 'Magic Castle',\n",
       " 'Nickel Diner',\n",
       " 'Redbird',\n",
       " 'Pampas Grill',\n",
       " 'Genwa Korean BBQ',\n",
       " 'Lemonade',\n",
       " 'The Boiling Crab',\n",
       " 'The Luggage Room Pizzeria',\n",
       " \"Raffi's Place Restaurant\",\n",
       " \"Foxy's Restaurant\",\n",
       " 'Craft Los Angeles',\n",
       " 'Aroma Coffee & Tea',\n",
       " 'SUGARFISH by sushi nozawa',\n",
       " 'Off Vine',\n",
       " 'Din Tai Fung',\n",
       " 'The Griddle Cafe',\n",
       " \"Ca' Del Sole\",\n",
       " \"Cassell's Hamburgers\",\n",
       " 'The Factory Kitchen',\n",
       " 'Perch',\n",
       " 'Cleo Hollywood',\n",
       " \"Gus's Barbecue - South Pasadena\",\n",
       " 'Republique',\n",
       " \"Gale's Italian Restaurant and Bar\",\n",
       " \"Aliki's Greek Taverna\",\n",
       " 'Musso & Frank Grill',\n",
       " \"Truxton's American Bistro\",\n",
       " 'Tatsu Ramen',\n",
       " 'Baco Mercat',\n",
       " 'Bossa Nova',\n",
       " 'Ayara Thai Cuisine',\n",
       " 'Sushi A Go Go',\n",
       " 'Water Grill',\n",
       " \"The Butcher's Daughter\",\n",
       " 'Crossroads',\n",
       " 'Cafe Gratitude',\n",
       " 'Getty Center Restaurant',\n",
       " 'Baby Blues BBQ',\n",
       " \"Houston's\",\n",
       " \"Vivian's Millenium Cafe\",\n",
       " \"Russell's\",\n",
       " 'Bestia',\n",
       " 'The Counter Downtown L.A.',\n",
       " 'La Grande Orange Cafe',\n",
       " 'Animal',\n",
       " 'A.O.C.',\n",
       " 'The Little Door',\n",
       " 'The Front Yard',\n",
       " 'Culina',\n",
       " 'Malibu Farm Pier Cafe',\n",
       " 'Stout Burgers & Beers',\n",
       " \"Ruby's Diner\",\n",
       " 'Katsuya Hollywood',\n",
       " 'Good Neighbor',\n",
       " 'Pizzeria Mozza',\n",
       " 'Umami Burger',\n",
       " 'Rainbow Bar & Grill',\n",
       " 'The Coffee Company',\n",
       " 'Union',\n",
       " 'Madeo',\n",
       " 'Home Restaurant',\n",
       " 'The Original Pantry',\n",
       " '25 Degrees',\n",
       " \"Monsieur Marcel's\",\n",
       " 'Granville',\n",
       " 'Wood Ranch BBQ & Grill',\n",
       " \"Canter's Deli\",\n",
       " 'Drago Centro',\n",
       " 'Cafe Santorini',\n",
       " 'Blu Jam Cafe',\n",
       " 'Venice Ale House',\n",
       " '26 Beach Cafe',\n",
       " 'Bludsos BBQ',\n",
       " 'Faith & Flower',\n",
       " 'El Compadre',\n",
       " 'Superba Food + Bread',\n",
       " \"Cecconi's West Hollywood\",\n",
       " 'Otium Restaurant',\n",
       " 'california PIZZA KITCHEN',\n",
       " '101 Coffee Shop',\n",
       " 'Osteria Mozza',\n",
       " 'Napa Valley Grille',\n",
       " 'The Ivy',\n",
       " 'Swingers',\n",
       " 'Yamashiro Hollywood',\n",
       " 'Julienne',\n",
       " \"Pann's Restaurant\",\n",
       " 'Apple Pan',\n",
       " 'The Palm - L.A',\n",
       " 'Arroyo Chop House',\n",
       " \"Maggiano's - Farmers Market\",\n",
       " \"Roscoe's House of Chicken & Waffles\",\n",
       " \"Damon's Steak House\",\n",
       " 'Yard House',\n",
       " '71Above Restaurant and Skylounge',\n",
       " 'Carlitos Gardel',\n",
       " \"Pig 'N' Whistle\",\n",
       " 'IHOP',\n",
       " 'Daikokuya',\n",
       " 'Beauty & Essex',\n",
       " 'Johnny Rockets',\n",
       " 'Petit Trois',\n",
       " 'Bubba Gump Shrimp Co.',\n",
       " \"Mel's Drive-In\",\n",
       " 'Catch LA',\n",
       " 'Hinano Cafe',\n",
       " 'Fogo de Chao Brazilian Steakhouse',\n",
       " 'Industriel',\n",
       " \"Lawry's the Prime Rib\",\n",
       " 'Daily Grill',\n",
       " 'Guelaguetza Restaurante',\n",
       " 'Scopa Italian Roots',\n",
       " 'Barton G',\n",
       " 'Newport Seafood Restaurant',\n",
       " 'Mohawk Bend',\n",
       " \"Tam O'Shanter\",\n",
       " \"Larry's\",\n",
       " 'WeHo Bistro',\n",
       " 'Hard Rock Cafe',\n",
       " \"Connie & Ted's\",\n",
       " 'The Stinking Rose',\n",
       " 'El Coyote',\n",
       " 'Masa of Echo Park',\n",
       " 'Wurstkuche Restaurant Venice Beach',\n",
       " \"JW's Steakhouse\",\n",
       " 'The Rose Venice',\n",
       " 'Fogo de Chao Brazilian Steakhouse',\n",
       " \"Figtree's Cafe\",\n",
       " 'Yang Chow',\n",
       " 'Nobu Los Angeles',\n",
       " 'El Tepeyac',\n",
       " 'Matsuhisa',\n",
       " 'The Venice Whaler',\n",
       " 'Daikokuya Ramen',\n",
       " 'Tao',\n",
       " 'Happy Diner',\n",
       " 'TART']"
      ]
     },
     "execution_count": 227,
     "metadata": {},
     "output_type": "execute_result"
    }
   ],
   "source": [
    "restaurant_name_update"
   ]
  },
  {
   "cell_type": "code",
   "execution_count": 228,
   "id": "simple-checkout",
   "metadata": {},
   "outputs": [
    {
     "name": "stdout",
     "output_type": "stream",
     "text": [
      "Which restaurant do you want to go?Yamashiro Hollywood\n"
     ]
    }
   ],
   "source": [
    "want_to_go_name = str(input(\"Which restaurant do you want to go?\"))"
   ]
  },
  {
   "cell_type": "code",
   "execution_count": 229,
   "id": "balanced-steal",
   "metadata": {},
   "outputs": [],
   "source": [
    "def visit_restaurant(df, want_to_go_name):\n",
    "    each_name = want_to_go_name.split(\".\")\n",
    "    \n",
    "    for name in each_name:\n",
    "        if name == each_name[0]:\n",
    "            visit_html = df[[\"Restaurant Name\", \"Site Link\"]][df[\"Restaurant Name\"] == name]\n",
    "        else:\n",
    "            visit_html = visit_html.append(df[[\"Restaurant Name\", \"Site Link\"]][df[\"Restaurant Name\"] == name])\n",
    "    \n",
    "    return visit_html"
   ]
  },
  {
   "cell_type": "code",
   "execution_count": 231,
   "id": "thorough-association",
   "metadata": {},
   "outputs": [],
   "source": [
    "visit_html = visit_restaurant(df, want_to_go_name)"
   ]
  },
  {
   "cell_type": "code",
   "execution_count": 235,
   "id": "failing-somewhere",
   "metadata": {},
   "outputs": [],
   "source": [
    "def find_location(visit_html):\n",
    "    \n",
    "    location = []\n",
    "    \n",
    "    for link in visit_html[\"Site Link\"]:\n",
    "        html = requests.get(link)\n",
    "        bsobj = soup(html.content, \"lxml\")\n",
    "    \n",
    "        for loc in bsobj.find_all(\"script\", type = \"application/ld+json\"):\n",
    "            if \"streetAddress\" in loc.string:\n",
    "                find_part_html = loc.string.split(\"{\")\n",
    "                for street in find_part_html:\n",
    "                    if \"streetAddress\" in street:\n",
    "                        for value in street.split(\",\"):\n",
    "                            if \"streetAddress\" in value:\n",
    "                                street_name = value.split(\":\")[1][1:][:-1] + \", \"\n",
    "                                   \n",
    "                            if \"addressLocality\" in value:\n",
    "                                city_name = value.split(\":\")[1][1:][:-1] + \", \"\n",
    "                                 \n",
    "                            if \"postalCode\" in value:\n",
    "                                zipcode = \"CA \" + value.split(\":\")[1][1:][:-1]\n",
    "                            \n",
    "        location_info = street_name + city_name + zipcode\n",
    "        location.append(location_info)\n",
    "    \n",
    "    return location"
   ]
  },
  {
   "cell_type": "code",
   "execution_count": 236,
   "id": "extreme-banks",
   "metadata": {},
   "outputs": [],
   "source": [
    "location = find_location(visit_html)"
   ]
  },
  {
   "cell_type": "code",
   "execution_count": 237,
   "id": "excited-cocktail",
   "metadata": {},
   "outputs": [
    {
     "data": {
      "text/plain": [
       "['1999 N Sycamore Ave, Los Angeles, CA 90068-3782']"
      ]
     },
     "execution_count": 237,
     "metadata": {},
     "output_type": "execute_result"
    }
   ],
   "source": [
    "location"
   ]
  }
 ],
 "metadata": {
  "kernelspec": {
   "display_name": "Python [conda env:PIC16B] *",
   "language": "python",
   "name": "conda-env-PIC16B-py"
  },
  "language_info": {
   "codemirror_mode": {
    "name": "ipython",
    "version": 3
   },
   "file_extension": ".py",
   "mimetype": "text/x-python",
   "name": "python",
   "nbconvert_exporter": "python",
   "pygments_lexer": "ipython3",
   "version": "3.7.10"
  }
 },
 "nbformat": 4,
 "nbformat_minor": 5
}
