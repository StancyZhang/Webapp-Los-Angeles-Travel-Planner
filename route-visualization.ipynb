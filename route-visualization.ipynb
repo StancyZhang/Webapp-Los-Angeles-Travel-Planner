{
 "cells": [
  {
   "cell_type": "markdown",
   "id": "tested-alberta",
   "metadata": {},
   "source": [
    "### Route Visualization using Geopy, Polyline, Folium\n",
    "Using this code, we can create an interactive route visualization using Geopy, Polyline, and Folium. \n",
    "\n",
    "Originally in our project proposal we said we would use the Google Maps API, but through experimentation it proved to be difficult to work with. You can obtain an API key from Google, but a lot of features cannot be accessed unless you provide billing information to Google. If you provide billing information, there is a free version you can use, but you have a limited number of geocode requests you can make. Requests over that threshold will charge you using your billing information. That's not something that I think we want to deal with for a school project, so I tried to find some alternate methods."
   ]
  },
  {
   "cell_type": "markdown",
   "id": "romantic-scope",
   "metadata": {},
   "source": [
    "### Modules\n",
    "The modules we'll be using throughout the code are Pandas and Requests.\n",
    "- **Pandas**: We use Pandas to create the dataframe containing all of the addresses and their corresponding longitude and latitude coordinates. This dataframe will also be used later in selecting which specific locations we want to visualize.\n",
    "- **requests**: This module allows us to make http requests in Python. We use requests to query from OSRM and get coordinates for each of our addresses."
   ]
  },
  {
   "cell_type": "code",
   "execution_count": 1,
   "id": "featured-serbia",
   "metadata": {},
   "outputs": [],
   "source": [
    "# main modules to use\n",
    "import pandas as pd # create the locations dataframe\n",
    "import requests # send http requests"
   ]
  },
  {
   "cell_type": "markdown",
   "id": "rental-moses",
   "metadata": {},
   "source": [
    "### Geocoding\n",
    "Another module we will be using is **Geopy**, which is a Python client for geocoding. What is geocoding?\n",
    "\n",
    "**Geocoding** is the process of taking some text-based description of a location (usually the address) and transforming it into coordinates, using the longitude/latitude pair. We will use geocoding to transform the addresses of our hotel/attraction locations (obtained from webscraping) into longitude/latitude coordinates (as far as I know, TripAdvisor doesn't provide coordinates).\n",
    "\n",
    "From the Geopy module, we will use **Nominatim**, which is a geocoder for **OpenStreetMap (OSM)** data. OSM is a map of the world that is open data, licensed under the Open Database License. As such, we will credit OSM at the end of the notebook. You can check out OSM here:\n",
    "\n",
    "https://www.openstreetmap.org/"
   ]
  },
  {
   "cell_type": "code",
   "execution_count": 4,
   "id": "lesser-petite",
   "metadata": {},
   "outputs": [],
   "source": [
    "from geopy.geocoders import Nominatim # Geopy is a Python client for geocoding. We use the Nominatim geocoder for OpenStreetMap (OSM) data."
   ]
  },
  {
   "cell_type": "markdown",
   "id": "empty-riverside",
   "metadata": {},
   "source": [
    "We create a sample locations dataframe using Nominatim geocoding. I will update this code later once we have a working web scraper. For now, I am using the top 3 attractions in Los Angeles from TripAdvisor: the Getty Center, the Griffith Observatory, and Universal Studios Hollywood. \n",
    "\n",
    "Something I noticed about OSM is that not all addresses work. For example, the address for the Getty Center provided by TripAdvisor is *1200 Getty Center Dr N Sepulveda Blvd & Getty Center Dr, Los Angeles, CA*. However, if you take this address and plug it into OSM's website, you will get no results. This causes problems for the geocoder, and you will not get the location. For this example, I simplified the address for the Getty Center as *1200 Getty Center, Los Angeles*, but for the long term we will have to find some workaround that can apply to all addresses. I think the solution might be some combination of regex and try/except blocks."
   ]
  },
  {
   "cell_type": "code",
   "execution_count": 15,
   "id": "hindu-ideal",
   "metadata": {},
   "outputs": [
    {
     "data": {
      "text/html": [
       "<div>\n",
       "<style scoped>\n",
       "    .dataframe tbody tr th:only-of-type {\n",
       "        vertical-align: middle;\n",
       "    }\n",
       "\n",
       "    .dataframe tbody tr th {\n",
       "        vertical-align: top;\n",
       "    }\n",
       "\n",
       "    .dataframe thead th {\n",
       "        text-align: right;\n",
       "    }\n",
       "</style>\n",
       "<table border=\"1\" class=\"dataframe\">\n",
       "  <thead>\n",
       "    <tr style=\"text-align: right;\">\n",
       "      <th></th>\n",
       "      <th>Address</th>\n",
       "      <th>Longitude</th>\n",
       "      <th>Latitude</th>\n",
       "    </tr>\n",
       "  </thead>\n",
       "  <tbody>\n",
       "    <tr>\n",
       "      <th>0</th>\n",
       "      <td>1200 Getty Center, Los Angeles</td>\n",
       "      <td>-118.475712</td>\n",
       "      <td>34.076951</td>\n",
       "    </tr>\n",
       "    <tr>\n",
       "      <th>1</th>\n",
       "      <td>2800 E. Observatory Rd., Los Angeles, CA</td>\n",
       "      <td>-118.300293</td>\n",
       "      <td>34.118219</td>\n",
       "    </tr>\n",
       "    <tr>\n",
       "      <th>2</th>\n",
       "      <td>100 Universal City Plaza, Los Angeles, CA</td>\n",
       "      <td>-118.361879</td>\n",
       "      <td>34.138321</td>\n",
       "    </tr>\n",
       "  </tbody>\n",
       "</table>\n",
       "</div>"
      ],
      "text/plain": [
       "                                     Address   Longitude   Latitude\n",
       "0             1200 Getty Center, Los Angeles -118.475712  34.076951\n",
       "1   2800 E. Observatory Rd., Los Angeles, CA -118.300293  34.118219\n",
       "2  100 Universal City Plaza, Los Angeles, CA -118.361879  34.138321"
      ]
     },
     "execution_count": 15,
     "metadata": {},
     "output_type": "execute_result"
    }
   ],
   "source": [
    "# Nominatim geocoding and creating the Pandas dataframe\n",
    "\n",
    "geolocator = Nominatim(user_agent = \"my-app\") # use custom user_agent to avoid violating Nominatim's usage policy\n",
    "df = pd.DataFrame(columns = [\"Address\", \"Longitude\", \"Latitude\"]) # creating the Pandas dataframe\n",
    "locations = [\"1200 Getty Center Dr N Sepulveda Blvd & Getty Center Dr, Los Angeles, CA\", \n",
    "             \"2800 E. Observatory Rd., Los Angeles, CA\", \n",
    "             \"100 Universal City Plaza, Los Angeles, CA\"] # top attractions in LA pulled from TripAdvisor\n",
    "\n",
    "for location in locations:\n",
    "    if location == \"1200 Getty Center Dr N Sepulveda Blvd & Getty Center Dr, Los Angeles, CA\":\n",
    "        location = \"1200 Getty Center, Los Angeles\"\n",
    "    loc = geolocator.geocode(location) # geocoding the location\n",
    "    df.loc[len(df.index)] = [location, loc.longitude, loc.latitude] # adding the location, longitude, and latitude to the dataframe\n",
    "    \n",
    "df"
   ]
  },
  {
   "cell_type": "markdown",
   "id": "scenic-wisdom",
   "metadata": {},
   "source": [
    "We can see that we have obtained the longitude and latitude for each address and we have successfully added the data to a Pandas dataframe. A quick Google search tells us that our coordinates are pretty accurate, up to about 3 decimal places."
   ]
  },
  {
   "cell_type": "markdown",
   "id": "progressive-contrast",
   "metadata": {},
   "source": [
    "### Creating the Route Visualization\n",
    "Now that we have our addresses and coordinates within a Pandas dataframe, we can begin to construct the route visualization. For this section, I mainly referenced this article: https://www.thinkdatascience.com/post/2020-03-03-osrm/osrm/\n",
    "\n",
    "In the article, Mr. Yan makes use of **Open Source Routing Machine (OSRM)**, which is a C++ routing engine for the shortest paths in road networks. Essentially, you use the requests module to perform an http request, obtaining route data for the routes between your specified locations. You can learn more about OSRM and how to construct requests here: http://project-osrm.org/docs/v5.7.0/api/?language=Python#general-options\n",
    "\n",
    "For the route visualization, we also import the **Folium** and **Polyline** modules. \n",
    "- **Folium**: The folium module takes location and route data and plots it on an interactive map. \n",
    "- **Polyline**: The polyline module is the Python implementation of Google's Encoded Polyline Algorithm Format, which allows you to store a series of coordinates as an encoded string. You can read about it here: https://developers.google.com/maps/documentation/utilities/polylinealgorithm"
   ]
  },
  {
   "cell_type": "code",
   "execution_count": 8,
   "id": "greatest-strap",
   "metadata": {},
   "outputs": [],
   "source": [
    "import folium # visualizes data on map; wondering if I can replace this with plotly express\n",
    "import polyline # Python implementation of Google’s Encoded Polyline Algorithm Format"
   ]
  },
  {
   "cell_type": "markdown",
   "id": "thorough-perfume",
   "metadata": {},
   "source": [
    "Let's attempt to get the route between the Griffith Observatory and Universal Studios Hollywood. We specify our request url to be the default OSRM url, followed by the mode of transportation (car) and the coordinates for our locations. The first pair of coordinates corresponds to the Griffith Observatory, and the second pair corresponds to Universal Studios Hollywood."
   ]
  },
  {
   "cell_type": "code",
   "execution_count": 9,
   "id": "manual-harmony",
   "metadata": {},
   "outputs": [
    {
     "data": {
      "text/plain": [
       "{'code': 'Ok',\n",
       " 'waypoints': [{'hint': '8BVQiP___38FAAAABQAAAJgAAAADAAAASbJlQAAAAACSqNJC1c3gPwUAAAAFAAAAmAAAAAMAAAC6QwAAKeHy-AeeCAJ74fL4S5oIAg4AzwbIxWTp',\n",
       "   'distance': 106.310396,\n",
       "   'location': [-118.300375, 34.119175],\n",
       "   'name': 'West Observatory Road'},\n",
       "  {'hint': 'SzlBiP___38AAAAAHQAAAEgAAAArAAAARO68Pa9_oEELyklCJcPxQQAAAAAdAAAASAAAACsAAAC6QwAAivHx-KLqCALp8PH40egIAgIArwbIxWTp',\n",
       "   'distance': 53.674346,\n",
       "   'location': [-118.361718, 34.138786],\n",
       "   'name': 'Universal Hollywood Drive'}],\n",
       " 'routes': [{'legs': [{'steps': [],\n",
       "     'weight': 924.9,\n",
       "     'distance': 11467.6,\n",
       "     'summary': '',\n",
       "     'duration': 924.9}],\n",
       "   'weight_name': 'routability',\n",
       "   'geometry': '{{foEjp`qUuC[iDeCoBlAwD}@iDr@g@}I}EiB?qAdN_AtMiHhJkJ|B{KxIsFbGKdHdI`IKpSjkBbNXZvbBo@`DwSnd@kJnNuHbEga@tIeNxFwIfHcR`U_NnJw[l\\\\wGvLqFnZiFbRqNpQmD}Ah@_B',\n",
       "   'weight': 924.9,\n",
       "   'distance': 11467.6,\n",
       "   'duration': 924.9}]}"
      ]
     },
     "execution_count": 9,
     "metadata": {},
     "output_type": "execute_result"
    }
   ],
   "source": [
    "# The following code will be based on the code in the above article. I don't fully understand what it's doing yet, but I'm \n",
    "# hoping to get some more practice with it so I can understand it better.\n",
    "\n",
    "url = \"http://router.project-osrm.org/route/v1/car/-118.300293,34.118219;-118.361879,34.138321\" # we specify the long/lat coordinates of our starting point and our ending point, as well as mode of transportation; hopefully we can add more waypoints and get the route between multiple locations\n",
    "r = requests.get(url) # getting the request\n",
    "res = r.json()\n",
    "res"
   ]
  },
  {
   "cell_type": "markdown",
   "id": "adjacent-equivalent",
   "metadata": {},
   "source": [
    "We have successfully run the request! From the above results, we get what seems to be some interesting data but also a lot of gibberish. I believe those are the routes and locations that are encoded using Google's Polyline Algorithm. Now, let's attempt to break down the more interesting parts of the data (bear with me, this is new to me as well):\n",
    "- **Waypoints**: A waypoint is an intermediate point or place on a route. In our case, we get a list of all the locations we travel to in our route. For this example, we only have two locations, our starting point and ending point, so only two locations show up in the waypoints list. This leads me to believe that it is highly possible to construct a route between multiple sightseeing locations and a hotel location, which is one of the goals of our project.\n",
    "- **Routes**: The routes list contains the routes used to travel between the different locations. In our example, we only have two locations, our starting point and ending point, so there is only one route. I believe that if we add more locations, we will get more routes. \n",
    "    - **Geometry**: This encoding gives us the line representing the route. \n",
    "    - **Distance**: The distance specified per entry in the routes list gives the distance in meters that the route covers.\n",
    "    - **Duration**: The duration specified per entry in the routes list gives the duration of the trip in seconds."
   ]
  },
  {
   "cell_type": "code",
   "execution_count": null,
   "id": "acceptable-polls",
   "metadata": {},
   "outputs": [],
   "source": []
  },
  {
   "cell_type": "code",
   "execution_count": 10,
   "id": "recognized-copyright",
   "metadata": {},
   "outputs": [
    {
     "data": {
      "text/plain": [
       "[(34.11918, -118.30038),\n",
       " (34.11993, -118.30024),\n",
       " (34.12078, -118.29957),\n",
       " (34.12134, -118.29996),\n",
       " (34.12226, -118.29965),\n",
       " (34.12311, -118.29991),\n",
       " (34.12331, -118.29816),\n",
       " (34.12442, -118.29763),\n",
       " (34.12442, -118.29722),\n",
       " (34.12199, -118.2969),\n",
       " (34.11964, -118.29541),\n",
       " (34.11783, -118.29359),\n",
       " (34.1172, -118.29153),\n",
       " (34.11547, -118.29031),\n",
       " (34.11417, -118.29025),\n",
       " (34.1127, -118.29188),\n",
       " (34.11109, -118.29182),\n",
       " (34.1078, -118.30916),\n",
       " (34.10538, -118.30929),\n",
       " (34.10524, -118.32525),\n",
       " (34.10548, -118.32606),\n",
       " (34.1088, -118.33206),\n",
       " (34.11062, -118.33454),\n",
       " (34.11217, -118.33552),\n",
       " (34.11765, -118.33723),\n",
       " (34.12008, -118.33848),\n",
       " (34.1218, -118.33996),\n",
       " (34.12486, -118.34349),\n",
       " (34.12726, -118.34533),\n",
       " (34.13186, -118.35004),\n",
       " (34.13326, -118.35224),\n",
       " (34.13447, -118.35664),\n",
       " (34.13564, -118.3597),\n",
       " (34.13813, -118.36267),\n",
       " (34.139, -118.3622),\n",
       " (34.13879, -118.36172)]"
      ]
     },
     "execution_count": 10,
     "metadata": {},
     "output_type": "execute_result"
    }
   ],
   "source": [
    "# We use the polyline module to decode the encoding into coordinates. Not entirely sure what all of the coordinates mean but \n",
    "# I'm guessing they represent locations of different streets when you're changing streets? I don't really know; this requires\n",
    "# further investigation.\n",
    "\n",
    "polyline.decode('{{foEjp`qUuC[iDeCoBlAwD}@iDr@g@}I}EiB?qAdN_AtMiHhJkJ|B{KxIsFbGKdHdI`IKpSjkBbNXZvbBo@`DwSnd@kJnNuHbEga@tIeNxFwIfHcR`U_NnJw[l\\\\wGvLqFnZiFbRqNpQmD}Ah@_B')"
   ]
  },
  {
   "cell_type": "code",
   "execution_count": 11,
   "id": "organizational-virginia",
   "metadata": {},
   "outputs": [],
   "source": [
    "# Putting what we did before into a function. We get the route between the two locations provided we have the coordinates\n",
    "# for the locations. Ideally, I will get the coordinates from the Pandas dataframe, though I'm still figuring that out.\n",
    "def get_route(pickup_lon, pickup_lat, dropoff_lon, dropoff_lat):\n",
    "    \n",
    "    loc = \"{},{};{},{}\".format(pickup_lon, pickup_lat, dropoff_lon, dropoff_lat)\n",
    "    url = \"http://router.project-osrm.org/route/v1/car/\"\n",
    "    r = requests.get(url + loc) # same thing as what we did before, getting the request\n",
    "    if r.status_code!= 200: # I don't know what this means\n",
    "        return {}\n",
    "  \n",
    "    res = r.json()   \n",
    "    routes = polyline.decode(res['routes'][0]['geometry']) # the geometry specifies the polyline encoding; I'm also guessing that if we have more routes we would do this for each of the routes, with the index changing for each route\n",
    "    start_point = [res['waypoints'][0]['location'][1], res['waypoints'][0]['location'][0]] # 0th waypoint corresponds to the starting location\n",
    "    end_point = [res['waypoints'][1]['location'][1], res['waypoints'][1]['location'][0]] # 1st waypoint corresponds to the ending location\n",
    "    distance = res['routes'][0]['distance']\n",
    "    \n",
    "    out = {'route':routes,\n",
    "           'start_point':start_point,\n",
    "           'end_point':end_point,\n",
    "           'distance':distance\n",
    "          } # returning a dictionary with the routes, starting point, ending point, and distance\n",
    "\n",
    "    return out"
   ]
  },
  {
   "cell_type": "code",
   "execution_count": 16,
   "id": "consecutive-reader",
   "metadata": {},
   "outputs": [
    {
     "data": {
      "text/plain": [
       "{'route': [(34.11918, -118.30038),\n",
       "  (34.11993, -118.30024),\n",
       "  (34.12078, -118.29957),\n",
       "  (34.12134, -118.29996),\n",
       "  (34.12226, -118.29965),\n",
       "  (34.12311, -118.29991),\n",
       "  (34.12331, -118.29816),\n",
       "  (34.12442, -118.29763),\n",
       "  (34.12442, -118.29722),\n",
       "  (34.12199, -118.2969),\n",
       "  (34.11964, -118.29541),\n",
       "  (34.11783, -118.29359),\n",
       "  (34.1172, -118.29153),\n",
       "  (34.11547, -118.29031),\n",
       "  (34.11417, -118.29025),\n",
       "  (34.1127, -118.29188),\n",
       "  (34.11109, -118.29182),\n",
       "  (34.1078, -118.30916),\n",
       "  (34.10538, -118.30929),\n",
       "  (34.10524, -118.32525),\n",
       "  (34.10548, -118.32606),\n",
       "  (34.1088, -118.33206),\n",
       "  (34.11062, -118.33454),\n",
       "  (34.11217, -118.33552),\n",
       "  (34.11765, -118.33723),\n",
       "  (34.12008, -118.33848),\n",
       "  (34.1218, -118.33996),\n",
       "  (34.12486, -118.34349),\n",
       "  (34.12726, -118.34533),\n",
       "  (34.13186, -118.35004),\n",
       "  (34.13326, -118.35224),\n",
       "  (34.13447, -118.35664),\n",
       "  (34.13564, -118.3597),\n",
       "  (34.13813, -118.36267),\n",
       "  (34.139, -118.3622),\n",
       "  (34.13879, -118.36172)],\n",
       " 'start_point': [34.119175, -118.300375],\n",
       " 'end_point': [34.138786, -118.361718],\n",
       " 'distance': 11467.6}"
      ]
     },
     "execution_count": 16,
     "metadata": {},
     "output_type": "execute_result"
    }
   ],
   "source": [
    "# We specify our starting and ending coordinates using the rows from the Pandas dataframe. The first pair corresponds to the \n",
    "# Griffith Observatory and the second pair corresponds to Universal Studios Hollywood.\n",
    "\n",
    "#pickup_lon, pickup_lat, dropoff_lon, dropoff_lat = -118.300293,34.118219,-118.361879,34.138321\n",
    "pickup_lon, pickup_lat, dropoff_lon, dropoff_lat = df.iloc[1][\"Longitude\"], df.iloc[1][\"Latitude\"], df.iloc[2][\"Longitude\"], df.iloc[2][\"Latitude\"]\n",
    "test_route = get_route(pickup_lon, pickup_lat, dropoff_lon, dropoff_lat)\n",
    "test_route"
   ]
  },
  {
   "cell_type": "code",
   "execution_count": 17,
   "id": "close-employment",
   "metadata": {},
   "outputs": [],
   "source": [
    "# Using folium to draw the route on an interactive map. Since none of us are really familiar with folium, it would be worth\n",
    "# seeing if we can accomplish the same results but using plotly express instead.\n",
    "def get_map(route):\n",
    "    \n",
    "    m = folium.Map(location=[(route['start_point'][0] + route['end_point'][0])/2, \n",
    "                             (route['start_point'][1] + route['end_point'][1])/2], \n",
    "                   zoom_start=13)\n",
    "\n",
    "    folium.PolyLine(\n",
    "        route['route'],\n",
    "        weight=8,\n",
    "        color='blue',\n",
    "        opacity=0.6\n",
    "    ).add_to(m)\n",
    "\n",
    "    folium.Marker(\n",
    "        location=route['start_point'],\n",
    "        icon=folium.Icon(icon='play', color='green')\n",
    "    ).add_to(m)\n",
    "\n",
    "    folium.Marker(\n",
    "        location=route['end_point'],\n",
    "        icon=folium.Icon(icon='stop', color='red')\n",
    "    ).add_to(m)\n",
    "\n",
    "    return m"
   ]
  },
  {
   "cell_type": "code",
   "execution_count": 18,
   "id": "victorian-legislature",
   "metadata": {},
   "outputs": [
    {
     "data": {
      "text/html": [
       "<div style=\"width:100%;\"><div style=\"position:relative;width:100%;height:0;padding-bottom:60%;\"><span style=\"color:#565656\">Make this Notebook Trusted to load map: File -> Trust Notebook</span><iframe src=\"about:blank\" style=\"position:absolute;width:100%;height:100%;left:0;top:0;border:none !important;\" data-html=%3C%21DOCTYPE%20html%3E%0A%3Chead%3E%20%20%20%20%0A%20%20%20%20%3Cmeta%20http-equiv%3D%22content-type%22%20content%3D%22text/html%3B%20charset%3DUTF-8%22%20/%3E%0A%20%20%20%20%0A%20%20%20%20%20%20%20%20%3Cscript%3E%0A%20%20%20%20%20%20%20%20%20%20%20%20L_NO_TOUCH%20%3D%20false%3B%0A%20%20%20%20%20%20%20%20%20%20%20%20L_DISABLE_3D%20%3D%20false%3B%0A%20%20%20%20%20%20%20%20%3C/script%3E%0A%20%20%20%20%0A%20%20%20%20%3Cstyle%3Ehtml%2C%20body%20%7Bwidth%3A%20100%25%3Bheight%3A%20100%25%3Bmargin%3A%200%3Bpadding%3A%200%3B%7D%3C/style%3E%0A%20%20%20%20%3Cstyle%3E%23map%20%7Bposition%3Aabsolute%3Btop%3A0%3Bbottom%3A0%3Bright%3A0%3Bleft%3A0%3B%7D%3C/style%3E%0A%20%20%20%20%3Cscript%20src%3D%22https%3A//cdn.jsdelivr.net/npm/leaflet%401.6.0/dist/leaflet.js%22%3E%3C/script%3E%0A%20%20%20%20%3Cscript%20src%3D%22https%3A//code.jquery.com/jquery-1.12.4.min.js%22%3E%3C/script%3E%0A%20%20%20%20%3Cscript%20src%3D%22https%3A//maxcdn.bootstrapcdn.com/bootstrap/3.2.0/js/bootstrap.min.js%22%3E%3C/script%3E%0A%20%20%20%20%3Cscript%20src%3D%22https%3A//cdnjs.cloudflare.com/ajax/libs/Leaflet.awesome-markers/2.0.2/leaflet.awesome-markers.js%22%3E%3C/script%3E%0A%20%20%20%20%3Clink%20rel%3D%22stylesheet%22%20href%3D%22https%3A//cdn.jsdelivr.net/npm/leaflet%401.6.0/dist/leaflet.css%22/%3E%0A%20%20%20%20%3Clink%20rel%3D%22stylesheet%22%20href%3D%22https%3A//maxcdn.bootstrapcdn.com/bootstrap/3.2.0/css/bootstrap.min.css%22/%3E%0A%20%20%20%20%3Clink%20rel%3D%22stylesheet%22%20href%3D%22https%3A//maxcdn.bootstrapcdn.com/bootstrap/3.2.0/css/bootstrap-theme.min.css%22/%3E%0A%20%20%20%20%3Clink%20rel%3D%22stylesheet%22%20href%3D%22https%3A//maxcdn.bootstrapcdn.com/font-awesome/4.6.3/css/font-awesome.min.css%22/%3E%0A%20%20%20%20%3Clink%20rel%3D%22stylesheet%22%20href%3D%22https%3A//cdnjs.cloudflare.com/ajax/libs/Leaflet.awesome-markers/2.0.2/leaflet.awesome-markers.css%22/%3E%0A%20%20%20%20%3Clink%20rel%3D%22stylesheet%22%20href%3D%22https%3A//cdn.jsdelivr.net/gh/python-visualization/folium/folium/templates/leaflet.awesome.rotate.min.css%22/%3E%0A%20%20%20%20%0A%20%20%20%20%20%20%20%20%20%20%20%20%3Cmeta%20name%3D%22viewport%22%20content%3D%22width%3Ddevice-width%2C%0A%20%20%20%20%20%20%20%20%20%20%20%20%20%20%20%20initial-scale%3D1.0%2C%20maximum-scale%3D1.0%2C%20user-scalable%3Dno%22%20/%3E%0A%20%20%20%20%20%20%20%20%20%20%20%20%3Cstyle%3E%0A%20%20%20%20%20%20%20%20%20%20%20%20%20%20%20%20%23map_4c57253127ba419494283043e9b385f3%20%7B%0A%20%20%20%20%20%20%20%20%20%20%20%20%20%20%20%20%20%20%20%20position%3A%20relative%3B%0A%20%20%20%20%20%20%20%20%20%20%20%20%20%20%20%20%20%20%20%20width%3A%20100.0%25%3B%0A%20%20%20%20%20%20%20%20%20%20%20%20%20%20%20%20%20%20%20%20height%3A%20100.0%25%3B%0A%20%20%20%20%20%20%20%20%20%20%20%20%20%20%20%20%20%20%20%20left%3A%200.0%25%3B%0A%20%20%20%20%20%20%20%20%20%20%20%20%20%20%20%20%20%20%20%20top%3A%200.0%25%3B%0A%20%20%20%20%20%20%20%20%20%20%20%20%20%20%20%20%7D%0A%20%20%20%20%20%20%20%20%20%20%20%20%3C/style%3E%0A%20%20%20%20%20%20%20%20%0A%3C/head%3E%0A%3Cbody%3E%20%20%20%20%0A%20%20%20%20%0A%20%20%20%20%20%20%20%20%20%20%20%20%3Cdiv%20class%3D%22folium-map%22%20id%3D%22map_4c57253127ba419494283043e9b385f3%22%20%3E%3C/div%3E%0A%20%20%20%20%20%20%20%20%0A%3C/body%3E%0A%3Cscript%3E%20%20%20%20%0A%20%20%20%20%0A%20%20%20%20%20%20%20%20%20%20%20%20var%20map_4c57253127ba419494283043e9b385f3%20%3D%20L.map%28%0A%20%20%20%20%20%20%20%20%20%20%20%20%20%20%20%20%22map_4c57253127ba419494283043e9b385f3%22%2C%0A%20%20%20%20%20%20%20%20%20%20%20%20%20%20%20%20%7B%0A%20%20%20%20%20%20%20%20%20%20%20%20%20%20%20%20%20%20%20%20center%3A%20%5B34.1289805%2C%20-118.3310465%5D%2C%0A%20%20%20%20%20%20%20%20%20%20%20%20%20%20%20%20%20%20%20%20crs%3A%20L.CRS.EPSG3857%2C%0A%20%20%20%20%20%20%20%20%20%20%20%20%20%20%20%20%20%20%20%20zoom%3A%2013%2C%0A%20%20%20%20%20%20%20%20%20%20%20%20%20%20%20%20%20%20%20%20zoomControl%3A%20true%2C%0A%20%20%20%20%20%20%20%20%20%20%20%20%20%20%20%20%20%20%20%20preferCanvas%3A%20false%2C%0A%20%20%20%20%20%20%20%20%20%20%20%20%20%20%20%20%7D%0A%20%20%20%20%20%20%20%20%20%20%20%20%29%3B%0A%0A%20%20%20%20%20%20%20%20%20%20%20%20%0A%0A%20%20%20%20%20%20%20%20%0A%20%20%20%20%0A%20%20%20%20%20%20%20%20%20%20%20%20var%20tile_layer_e5bcbf4de3ae466abe94bd3ac37b561f%20%3D%20L.tileLayer%28%0A%20%20%20%20%20%20%20%20%20%20%20%20%20%20%20%20%22https%3A//%7Bs%7D.tile.openstreetmap.org/%7Bz%7D/%7Bx%7D/%7By%7D.png%22%2C%0A%20%20%20%20%20%20%20%20%20%20%20%20%20%20%20%20%7B%22attribution%22%3A%20%22Data%20by%20%5Cu0026copy%3B%20%5Cu003ca%20href%3D%5C%22http%3A//openstreetmap.org%5C%22%5Cu003eOpenStreetMap%5Cu003c/a%5Cu003e%2C%20under%20%5Cu003ca%20href%3D%5C%22http%3A//www.openstreetmap.org/copyright%5C%22%5Cu003eODbL%5Cu003c/a%5Cu003e.%22%2C%20%22detectRetina%22%3A%20false%2C%20%22maxNativeZoom%22%3A%2018%2C%20%22maxZoom%22%3A%2018%2C%20%22minZoom%22%3A%200%2C%20%22noWrap%22%3A%20false%2C%20%22opacity%22%3A%201%2C%20%22subdomains%22%3A%20%22abc%22%2C%20%22tms%22%3A%20false%7D%0A%20%20%20%20%20%20%20%20%20%20%20%20%29.addTo%28map_4c57253127ba419494283043e9b385f3%29%3B%0A%20%20%20%20%20%20%20%20%0A%20%20%20%20%0A%20%20%20%20%20%20%20%20%20%20%20%20var%20poly_line_06e516023135494a92b7cbd39290af95%20%3D%20L.polyline%28%0A%20%20%20%20%20%20%20%20%20%20%20%20%20%20%20%20%5B%5B34.11918%2C%20-118.30038%5D%2C%20%5B34.11993%2C%20-118.30024%5D%2C%20%5B34.12078%2C%20-118.29957%5D%2C%20%5B34.12134%2C%20-118.29996%5D%2C%20%5B34.12226%2C%20-118.29965%5D%2C%20%5B34.12311%2C%20-118.29991%5D%2C%20%5B34.12331%2C%20-118.29816%5D%2C%20%5B34.12442%2C%20-118.29763%5D%2C%20%5B34.12442%2C%20-118.29722%5D%2C%20%5B34.12199%2C%20-118.2969%5D%2C%20%5B34.11964%2C%20-118.29541%5D%2C%20%5B34.11783%2C%20-118.29359%5D%2C%20%5B34.1172%2C%20-118.29153%5D%2C%20%5B34.11547%2C%20-118.29031%5D%2C%20%5B34.11417%2C%20-118.29025%5D%2C%20%5B34.1127%2C%20-118.29188%5D%2C%20%5B34.11109%2C%20-118.29182%5D%2C%20%5B34.1078%2C%20-118.30916%5D%2C%20%5B34.10538%2C%20-118.30929%5D%2C%20%5B34.10524%2C%20-118.32525%5D%2C%20%5B34.10548%2C%20-118.32606%5D%2C%20%5B34.1088%2C%20-118.33206%5D%2C%20%5B34.11062%2C%20-118.33454%5D%2C%20%5B34.11217%2C%20-118.33552%5D%2C%20%5B34.11765%2C%20-118.33723%5D%2C%20%5B34.12008%2C%20-118.33848%5D%2C%20%5B34.1218%2C%20-118.33996%5D%2C%20%5B34.12486%2C%20-118.34349%5D%2C%20%5B34.12726%2C%20-118.34533%5D%2C%20%5B34.13186%2C%20-118.35004%5D%2C%20%5B34.13326%2C%20-118.35224%5D%2C%20%5B34.13447%2C%20-118.35664%5D%2C%20%5B34.13564%2C%20-118.3597%5D%2C%20%5B34.13813%2C%20-118.36267%5D%2C%20%5B34.139%2C%20-118.3622%5D%2C%20%5B34.13879%2C%20-118.36172%5D%5D%2C%0A%20%20%20%20%20%20%20%20%20%20%20%20%20%20%20%20%7B%22bubblingMouseEvents%22%3A%20true%2C%20%22color%22%3A%20%22blue%22%2C%20%22dashArray%22%3A%20null%2C%20%22dashOffset%22%3A%20null%2C%20%22fill%22%3A%20false%2C%20%22fillColor%22%3A%20%22blue%22%2C%20%22fillOpacity%22%3A%200.2%2C%20%22fillRule%22%3A%20%22evenodd%22%2C%20%22lineCap%22%3A%20%22round%22%2C%20%22lineJoin%22%3A%20%22round%22%2C%20%22noClip%22%3A%20false%2C%20%22opacity%22%3A%200.6%2C%20%22smoothFactor%22%3A%201.0%2C%20%22stroke%22%3A%20true%2C%20%22weight%22%3A%208%7D%0A%20%20%20%20%20%20%20%20%20%20%20%20%29.addTo%28map_4c57253127ba419494283043e9b385f3%29%3B%0A%20%20%20%20%20%20%20%20%0A%20%20%20%20%0A%20%20%20%20%20%20%20%20%20%20%20%20var%20marker_5354d8b2fc9140d6bb4e9d2bc5c22cce%20%3D%20L.marker%28%0A%20%20%20%20%20%20%20%20%20%20%20%20%20%20%20%20%5B34.119175%2C%20-118.300375%5D%2C%0A%20%20%20%20%20%20%20%20%20%20%20%20%20%20%20%20%7B%7D%0A%20%20%20%20%20%20%20%20%20%20%20%20%29.addTo%28map_4c57253127ba419494283043e9b385f3%29%3B%0A%20%20%20%20%20%20%20%20%0A%20%20%20%20%0A%20%20%20%20%20%20%20%20%20%20%20%20var%20icon_fcc55da84cce43458f673dd466b6d631%20%3D%20L.AwesomeMarkers.icon%28%0A%20%20%20%20%20%20%20%20%20%20%20%20%20%20%20%20%7B%22extraClasses%22%3A%20%22fa-rotate-0%22%2C%20%22icon%22%3A%20%22play%22%2C%20%22iconColor%22%3A%20%22white%22%2C%20%22markerColor%22%3A%20%22green%22%2C%20%22prefix%22%3A%20%22glyphicon%22%7D%0A%20%20%20%20%20%20%20%20%20%20%20%20%29%3B%0A%20%20%20%20%20%20%20%20%20%20%20%20marker_5354d8b2fc9140d6bb4e9d2bc5c22cce.setIcon%28icon_fcc55da84cce43458f673dd466b6d631%29%3B%0A%20%20%20%20%20%20%20%20%0A%20%20%20%20%0A%20%20%20%20%20%20%20%20%20%20%20%20var%20marker_6bd455c633334c0e9180dea4891f9ca7%20%3D%20L.marker%28%0A%20%20%20%20%20%20%20%20%20%20%20%20%20%20%20%20%5B34.138786%2C%20-118.361718%5D%2C%0A%20%20%20%20%20%20%20%20%20%20%20%20%20%20%20%20%7B%7D%0A%20%20%20%20%20%20%20%20%20%20%20%20%29.addTo%28map_4c57253127ba419494283043e9b385f3%29%3B%0A%20%20%20%20%20%20%20%20%0A%20%20%20%20%0A%20%20%20%20%20%20%20%20%20%20%20%20var%20icon_7997ac2a06a1454fb57d9e9834d34c7f%20%3D%20L.AwesomeMarkers.icon%28%0A%20%20%20%20%20%20%20%20%20%20%20%20%20%20%20%20%7B%22extraClasses%22%3A%20%22fa-rotate-0%22%2C%20%22icon%22%3A%20%22stop%22%2C%20%22iconColor%22%3A%20%22white%22%2C%20%22markerColor%22%3A%20%22red%22%2C%20%22prefix%22%3A%20%22glyphicon%22%7D%0A%20%20%20%20%20%20%20%20%20%20%20%20%29%3B%0A%20%20%20%20%20%20%20%20%20%20%20%20marker_6bd455c633334c0e9180dea4891f9ca7.setIcon%28icon_7997ac2a06a1454fb57d9e9834d34c7f%29%3B%0A%20%20%20%20%20%20%20%20%0A%3C/script%3E onload=\"this.contentDocument.open();this.contentDocument.write(    decodeURIComponent(this.getAttribute('data-html')));this.contentDocument.close();\" allowfullscreen webkitallowfullscreen mozallowfullscreen></iframe></div></div>"
      ],
      "text/plain": [
       "<folium.folium.Map at 0x1e51432c388>"
      ]
     },
     "execution_count": 18,
     "metadata": {},
     "output_type": "execute_result"
    }
   ],
   "source": [
    "# Getting the map for our test route\n",
    "get_map(test_route)"
   ]
  },
  {
   "cell_type": "markdown",
   "id": "breathing-grain",
   "metadata": {},
   "source": [
    "This code was made possible by OSM (© OpenStreetMap contributors), as well as Michael Yan at Think.Data.Science.\n",
    "\n",
    "Copyright info for OSM: https://www.openstreetmap.org/copyright"
   ]
  },
  {
   "cell_type": "code",
   "execution_count": null,
   "id": "saved-treasurer",
   "metadata": {},
   "outputs": [],
   "source": []
  }
 ],
 "metadata": {
  "kernelspec": {
   "display_name": "Python [conda env:PIC16B] *",
   "language": "python",
   "name": "conda-env-PIC16B-py"
  },
  "language_info": {
   "codemirror_mode": {
    "name": "ipython",
    "version": 3
   },
   "file_extension": ".py",
   "mimetype": "text/x-python",
   "name": "python",
   "nbconvert_exporter": "python",
   "pygments_lexer": "ipython3",
   "version": "3.7.10"
  }
 },
 "nbformat": 4,
 "nbformat_minor": 5
}
