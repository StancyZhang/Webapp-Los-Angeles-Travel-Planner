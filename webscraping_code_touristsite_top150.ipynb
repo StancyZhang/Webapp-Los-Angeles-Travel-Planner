{
 "cells": [
  {
   "cell_type": "code",
   "execution_count": 188,
   "id": "individual-shanghai",
   "metadata": {},
   "outputs": [],
   "source": [
    "import pandas as pd\n",
    "import requests\n",
    "from bs4 import BeautifulSoup as soup"
   ]
  },
  {
   "cell_type": "markdown",
   "id": "solid-alberta",
   "metadata": {},
   "source": [
    "# Data Preparation"
   ]
  },
  {
   "cell_type": "markdown",
   "id": "numerous-agenda",
   "metadata": {},
   "source": [
    "## 0 - 30 tourist sites"
   ]
  },
  {
   "cell_type": "code",
   "execution_count": 189,
   "id": "electrical-surfing",
   "metadata": {},
   "outputs": [],
   "source": [
    "html_main = requests.get(\"https://www.tripadvisor.com/Attractions-g32655-Activities-a_allAttractions.true-Los_Angeles_California.html\")\n",
    "bsobj_main = soup(html_main.content, \"lxml\")"
   ]
  },
  {
   "cell_type": "code",
   "execution_count": 3,
   "id": "duplicate-complex",
   "metadata": {},
   "outputs": [],
   "source": [
    "rank = []\n",
    "tourist_site_name = []\n",
    "tourist_site_link = []\n",
    "for s in bsobj_main.find_all(\"section\", class_=\"_2TabEHya _3YhIe-Un\"):\n",
    "    rank.append(s.find(\"div\", class_=\"_1gpq3zsA _1zP41Z7X\").text.split(\". \")[0])\n",
    "    tourist_site_name.append(s.find(\"div\", class_=\"_1gpq3zsA _1zP41Z7X\").text.split(\". \")[1])\n",
    "    tourist_site_link.append(s.find(\"div\", class_=\"_3W_31Rvp _1nUIPWja _1l7Rsl_O _3ksqqIVm _2b3s5IMB\").a[\"href\"])"
   ]
  },
  {
   "cell_type": "code",
   "execution_count": 191,
   "id": "fabulous-techno",
   "metadata": {},
   "outputs": [],
   "source": [
    "top_150 = list(range(30, 150, 30))"
   ]
  },
  {
   "cell_type": "code",
   "execution_count": 169,
   "id": "designing-today",
   "metadata": {},
   "outputs": [],
   "source": [
    "for num in top_150:\n",
    "    html_main = requests.get(\"https://www.tripadvisor.com/Attractions-g32655-Activities-oa\" + str(num) + \"-Los_Angeles_California.html\")\n",
    "    bsobj_main = soup(html_main.content, \"lxml\")\n",
    "    \n",
    "    for s in bsobj_main.find_all(\"section\", class_=\"_2TabEHya _3YhIe-Un\"):\n",
    "        rank.append(s.find(\"div\", class_=\"_1gpq3zsA _1zP41Z7X\").text.split(\". \")[0])\n",
    "        tourist_site_name.append(s.find(\"div\", class_=\"_1gpq3zsA _1zP41Z7X\").text.split(\". \")[1])\n",
    "        tourist_site_link.append(s.find(\"div\", class_=\"_3W_31Rvp _1nUIPWja _1l7Rsl_O _3ksqqIVm _2b3s5IMB\").a[\"href\"])"
   ]
  },
  {
   "cell_type": "code",
   "execution_count": 171,
   "id": "threaded-nashville",
   "metadata": {},
   "outputs": [],
   "source": [
    "tourist_site_link_update = []\n",
    "for site in tourist_site_link:\n",
    "    tourist_site_link_update.append(\"https://www.tripadvisor.com/\" + site)"
   ]
  },
  {
   "cell_type": "code",
   "execution_count": 178,
   "id": "allied-gateway",
   "metadata": {},
   "outputs": [
    {
     "data": {
      "text/html": [
       "<div>\n",
       "<style scoped>\n",
       "    .dataframe tbody tr th:only-of-type {\n",
       "        vertical-align: middle;\n",
       "    }\n",
       "\n",
       "    .dataframe tbody tr th {\n",
       "        vertical-align: top;\n",
       "    }\n",
       "\n",
       "    .dataframe thead th {\n",
       "        text-align: right;\n",
       "    }\n",
       "</style>\n",
       "<table border=\"1\" class=\"dataframe\">\n",
       "  <thead>\n",
       "    <tr style=\"text-align: right;\">\n",
       "      <th></th>\n",
       "      <th>Rank</th>\n",
       "      <th>Tourist Site Name</th>\n",
       "      <th>Site Link</th>\n",
       "    </tr>\n",
       "  </thead>\n",
       "  <tbody>\n",
       "    <tr>\n",
       "      <th>0</th>\n",
       "      <td>1</td>\n",
       "      <td>The Getty Center</td>\n",
       "      <td>https://www.tripadvisor.com//Attraction_Review...</td>\n",
       "    </tr>\n",
       "    <tr>\n",
       "      <th>1</th>\n",
       "      <td>2</td>\n",
       "      <td>Griffith Observatory</td>\n",
       "      <td>https://www.tripadvisor.com//Attraction_Review...</td>\n",
       "    </tr>\n",
       "    <tr>\n",
       "      <th>2</th>\n",
       "      <td>3</td>\n",
       "      <td>Universal Studios Hollywood</td>\n",
       "      <td>https://www.tripadvisor.com//Attraction_Review...</td>\n",
       "    </tr>\n",
       "    <tr>\n",
       "      <th>3</th>\n",
       "      <td>4</td>\n",
       "      <td>Petersen Automotive Museum</td>\n",
       "      <td>https://www.tripadvisor.com//Attraction_Review...</td>\n",
       "    </tr>\n",
       "    <tr>\n",
       "      <th>4</th>\n",
       "      <td>5</td>\n",
       "      <td>The Wizarding World of Harry Potter</td>\n",
       "      <td>https://www.tripadvisor.com//Attraction_Review...</td>\n",
       "    </tr>\n",
       "    <tr>\n",
       "      <th>...</th>\n",
       "      <td>...</td>\n",
       "      <td>...</td>\n",
       "      <td>...</td>\n",
       "    </tr>\n",
       "    <tr>\n",
       "      <th>145</th>\n",
       "      <td>146</td>\n",
       "      <td>S.S</td>\n",
       "      <td>https://www.tripadvisor.com//Attraction_Review...</td>\n",
       "    </tr>\n",
       "    <tr>\n",
       "      <th>146</th>\n",
       "      <td>147</td>\n",
       "      <td>Kenneth Hahn State Recreation Area</td>\n",
       "      <td>https://www.tripadvisor.com//Attraction_Review...</td>\n",
       "    </tr>\n",
       "    <tr>\n",
       "      <th>147</th>\n",
       "      <td>148</td>\n",
       "      <td>Geffen Playhouse</td>\n",
       "      <td>https://www.tripadvisor.com//Attraction_Review...</td>\n",
       "    </tr>\n",
       "    <tr>\n",
       "      <th>148</th>\n",
       "      <td>149</td>\n",
       "      <td>Los Angeles Police Museum</td>\n",
       "      <td>https://www.tripadvisor.com//Attraction_Review...</td>\n",
       "    </tr>\n",
       "    <tr>\n",
       "      <th>149</th>\n",
       "      <td>150</td>\n",
       "      <td>Melrose Place</td>\n",
       "      <td>https://www.tripadvisor.com//Attraction_Review...</td>\n",
       "    </tr>\n",
       "  </tbody>\n",
       "</table>\n",
       "<p>150 rows × 3 columns</p>\n",
       "</div>"
      ],
      "text/plain": [
       "    Rank                    Tourist Site Name  \\\n",
       "0      1                     The Getty Center   \n",
       "1      2                 Griffith Observatory   \n",
       "2      3          Universal Studios Hollywood   \n",
       "3      4           Petersen Automotive Museum   \n",
       "4      5  The Wizarding World of Harry Potter   \n",
       "..   ...                                  ...   \n",
       "145  146                                  S.S   \n",
       "146  147   Kenneth Hahn State Recreation Area   \n",
       "147  148                     Geffen Playhouse   \n",
       "148  149            Los Angeles Police Museum   \n",
       "149  150                        Melrose Place   \n",
       "\n",
       "                                             Site Link  \n",
       "0    https://www.tripadvisor.com//Attraction_Review...  \n",
       "1    https://www.tripadvisor.com//Attraction_Review...  \n",
       "2    https://www.tripadvisor.com//Attraction_Review...  \n",
       "3    https://www.tripadvisor.com//Attraction_Review...  \n",
       "4    https://www.tripadvisor.com//Attraction_Review...  \n",
       "..                                                 ...  \n",
       "145  https://www.tripadvisor.com//Attraction_Review...  \n",
       "146  https://www.tripadvisor.com//Attraction_Review...  \n",
       "147  https://www.tripadvisor.com//Attraction_Review...  \n",
       "148  https://www.tripadvisor.com//Attraction_Review...  \n",
       "149  https://www.tripadvisor.com//Attraction_Review...  \n",
       "\n",
       "[150 rows x 3 columns]"
      ]
     },
     "execution_count": 178,
     "metadata": {},
     "output_type": "execute_result"
    }
   ],
   "source": [
    "data = {\"Rank\": rank, \"Tourist Site Name\": tourist_site_name, \"Site Link\": tourist_site_link_update}\n",
    "df = pd.DataFrame.from_dict(data)\n",
    "df"
   ]
  },
  {
   "cell_type": "markdown",
   "id": "invalid-parking",
   "metadata": {},
   "source": [
    "# Location After Input"
   ]
  },
  {
   "cell_type": "code",
   "execution_count": 181,
   "id": "laden-leisure",
   "metadata": {},
   "outputs": [
    {
     "name": "stdout",
     "output_type": "stream",
     "text": [
      "Which tourist sites do you want to go? (*please input the names of the tourist sites separated by a period)Chinatown.Geffen Playhouse.\n"
     ]
    }
   ],
   "source": [
    "want_to_go_name = str(input(\"Which tourist sites do you want to go? (*please input the names of the tourist sites separated by a period)\"))"
   ]
  },
  {
   "cell_type": "markdown",
   "id": "vertical-omaha",
   "metadata": {},
   "source": [
    "*** may update want_to_go_name to make it consider capital letter/ error message/ give example"
   ]
  },
  {
   "cell_type": "code",
   "execution_count": 182,
   "id": "driving-point",
   "metadata": {},
   "outputs": [],
   "source": [
    "def visit_tourist(df, want_to_go_name):\n",
    "    each_name = want_to_go_name.split(\".\")\n",
    "    \n",
    "    for name in each_name:\n",
    "        if name == each_name[0]:\n",
    "            visit_html = df[[\"Tourist Site Name\", \"Site Link\"]][df[\"Tourist Site Name\"] == name]\n",
    "        else:\n",
    "            visit_html = visit_html.append(df[[\"Tourist Site Name\", \"Site Link\"]][df[\"Tourist Site Name\"] == name])\n",
    "    \n",
    "    return visit_html"
   ]
  },
  {
   "cell_type": "code",
   "execution_count": 184,
   "id": "religious-greece",
   "metadata": {},
   "outputs": [],
   "source": [
    "visit_html = visit_tourist(df, want_to_go_name)"
   ]
  },
  {
   "cell_type": "code",
   "execution_count": null,
   "id": "hollywood-service",
   "metadata": {},
   "outputs": [],
   "source": [
    "Dodger Stadium.Union Station.Citadel Outlets"
   ]
  },
  {
   "cell_type": "code",
   "execution_count": 185,
   "id": "genuine-pickup",
   "metadata": {},
   "outputs": [],
   "source": [
    "def find_location(visit_html):\n",
    "    \n",
    "    location = []\n",
    "    \n",
    "    for link in visit_html[\"Site Link\"]:\n",
    "        html = requests.get(link)\n",
    "        bsobj = soup(html.content, \"lxml\")\n",
    "    \n",
    "        for loc in bsobj.find_all(\"script\", type = \"application/ld+json\"):\n",
    "            if \"streetAddress\" in loc.string:\n",
    "                find_part_html = loc.string.split(\"{\")\n",
    "                for street in find_part_html:\n",
    "                    if \"streetAddress\" in street:\n",
    "                        for value in street.split(\",\"):\n",
    "                            if \"streetAddress\" in value:\n",
    "                                street_name = value.split(\":\")[1][1:][:-1] + \", \"\n",
    "                                   \n",
    "                            if \"addressLocality\" in value:\n",
    "                                city_name = value.split(\":\")[1][1:][:-1] + \", \"\n",
    "                                 \n",
    "                            if \"postalCode\" in value:\n",
    "                                zipcode = \"CA \" + value.split(\":\")[1][1:][:-1]\n",
    "                            \n",
    "        location_info = street_name + city_name + zipcode\n",
    "        location.append(location_info)\n",
    "    \n",
    "    return location"
   ]
  },
  {
   "cell_type": "code",
   "execution_count": 186,
   "id": "impaired-wilson",
   "metadata": {},
   "outputs": [],
   "source": [
    "location = find_location(visit_html)"
   ]
  },
  {
   "cell_type": "code",
   "execution_count": 187,
   "id": "parliamentary-prior",
   "metadata": {},
   "outputs": [
    {
     "data": {
      "text/plain": [
       "['N Broadway at North Hill St Downtown, Los Angeles, CA 90012',\n",
       " '10886 Le Conte Ave, Los Angeles, CA 90024-3098']"
      ]
     },
     "execution_count": 187,
     "metadata": {},
     "output_type": "execute_result"
    }
   ],
   "source": [
    "location"
   ]
  },
  {
   "cell_type": "code",
   "execution_count": null,
   "id": "infectious-gates",
   "metadata": {},
   "outputs": [],
   "source": []
  }
 ],
 "metadata": {
  "kernelspec": {
   "display_name": "Python [conda env:PIC16B] *",
   "language": "python",
   "name": "conda-env-PIC16B-py"
  },
  "language_info": {
   "codemirror_mode": {
    "name": "ipython",
    "version": 3
   },
   "file_extension": ".py",
   "mimetype": "text/x-python",
   "name": "python",
   "nbconvert_exporter": "python",
   "pygments_lexer": "ipython3",
   "version": "3.7.10"
  }
 },
 "nbformat": 4,
 "nbformat_minor": 5
}
