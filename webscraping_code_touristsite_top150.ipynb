{
 "cells": [
  {
   "cell_type": "code",
   "execution_count": 5,
   "id": "equal-negative",
   "metadata": {},
   "outputs": [],
   "source": [
    "import pandas as pd\n",
    "import requests\n",
    "from bs4 import BeautifulSoup as soup"
   ]
  },
  {
   "cell_type": "markdown",
   "id": "charming-impact",
   "metadata": {},
   "source": [
    "# Data Preparation"
   ]
  },
  {
   "cell_type": "markdown",
   "id": "southwest-juice",
   "metadata": {},
   "source": [
    "## 0 - 30 tourist sites"
   ]
  },
  {
   "cell_type": "code",
   "execution_count": 6,
   "id": "simple-crash",
   "metadata": {},
   "outputs": [],
   "source": [
    "html_main = requests.get(\"https://www.tripadvisor.com/Attractions-g32655-Activities-a_allAttractions.true-Los_Angeles_California.html\")\n",
    "bsobj_main = soup(html_main.content, \"lxml\")"
   ]
  },
  {
   "cell_type": "code",
   "execution_count": 7,
   "id": "durable-retro",
   "metadata": {},
   "outputs": [],
   "source": [
    "rank = []\n",
    "tourist_site_name = []\n",
    "tourist_site_link = []\n",
    "for s in bsobj_main.find_all(\"section\", class_=\"_2TabEHya _3YhIe-Un\"):\n",
    "    rank.append(s.find(\"div\", class_=\"_1gpq3zsA _1zP41Z7X\").text.split(\". \")[0])\n",
    "    tourist_site_name.append(s.find(\"div\", class_=\"_1gpq3zsA _1zP41Z7X\").text.split(\". \")[1])\n",
    "    tourist_site_link.append(s.find(\"div\", class_=\"_3W_31Rvp _1nUIPWja _1l7Rsl_O _3ksqqIVm _2b3s5IMB\").a[\"href\"])"
   ]
  },
  {
   "cell_type": "markdown",
   "id": "electoral-preliminary",
   "metadata": {},
   "source": [
    "## 31 - 150 tourist sites"
   ]
  },
  {
   "cell_type": "code",
   "execution_count": 8,
   "id": "fixed-dream",
   "metadata": {},
   "outputs": [],
   "source": [
    "top_150 = list(range(30, 150, 30))"
   ]
  },
  {
   "cell_type": "code",
   "execution_count": 9,
   "id": "efficient-brook",
   "metadata": {},
   "outputs": [],
   "source": [
    "for num in top_150:\n",
    "    html_main = requests.get(\"https://www.tripadvisor.com/Attractions-g32655-Activities-oa\" + str(num) + \"-Los_Angeles_California.html\")\n",
    "    bsobj_main = soup(html_main.content, \"lxml\")\n",
    "    \n",
    "    for s in bsobj_main.find_all(\"section\", class_=\"_2TabEHya _3YhIe-Un\"):\n",
    "        rank.append(s.find(\"div\", class_=\"_1gpq3zsA _1zP41Z7X\").text.split(\". \")[0])\n",
    "        tourist_site_name.append(s.find(\"div\", class_=\"_1gpq3zsA _1zP41Z7X\").text.split(\". \")[1])\n",
    "        tourist_site_link.append(s.find(\"div\", class_=\"_3W_31Rvp _1nUIPWja _1l7Rsl_O _3ksqqIVm _2b3s5IMB\").a[\"href\"])"
   ]
  },
  {
   "cell_type": "code",
   "execution_count": 10,
   "id": "positive-superintendent",
   "metadata": {},
   "outputs": [],
   "source": [
    "tourist_site_link_update = []\n",
    "for site in tourist_site_link:\n",
    "    tourist_site_link_update.append(\"https://www.tripadvisor.com/\" + site)"
   ]
  },
  {
   "cell_type": "code",
   "execution_count": 11,
   "id": "pacific-differential",
   "metadata": {},
   "outputs": [
    {
     "data": {
      "text/html": [
       "<div>\n",
       "<style scoped>\n",
       "    .dataframe tbody tr th:only-of-type {\n",
       "        vertical-align: middle;\n",
       "    }\n",
       "\n",
       "    .dataframe tbody tr th {\n",
       "        vertical-align: top;\n",
       "    }\n",
       "\n",
       "    .dataframe thead th {\n",
       "        text-align: right;\n",
       "    }\n",
       "</style>\n",
       "<table border=\"1\" class=\"dataframe\">\n",
       "  <thead>\n",
       "    <tr style=\"text-align: right;\">\n",
       "      <th></th>\n",
       "      <th>Rank</th>\n",
       "      <th>Tourist Site Name</th>\n",
       "      <th>Site Link</th>\n",
       "    </tr>\n",
       "  </thead>\n",
       "  <tbody>\n",
       "    <tr>\n",
       "      <th>0</th>\n",
       "      <td>1</td>\n",
       "      <td>The Getty Center</td>\n",
       "      <td>https://www.tripadvisor.com//Attraction_Review...</td>\n",
       "    </tr>\n",
       "    <tr>\n",
       "      <th>1</th>\n",
       "      <td>2</td>\n",
       "      <td>Griffith Observatory</td>\n",
       "      <td>https://www.tripadvisor.com//Attraction_Review...</td>\n",
       "    </tr>\n",
       "    <tr>\n",
       "      <th>2</th>\n",
       "      <td>3</td>\n",
       "      <td>Universal Studios Hollywood</td>\n",
       "      <td>https://www.tripadvisor.com//Attraction_Review...</td>\n",
       "    </tr>\n",
       "    <tr>\n",
       "      <th>3</th>\n",
       "      <td>4</td>\n",
       "      <td>Petersen Automotive Museum</td>\n",
       "      <td>https://www.tripadvisor.com//Attraction_Review...</td>\n",
       "    </tr>\n",
       "    <tr>\n",
       "      <th>4</th>\n",
       "      <td>5</td>\n",
       "      <td>The Wizarding World of Harry Potter</td>\n",
       "      <td>https://www.tripadvisor.com//Attraction_Review...</td>\n",
       "    </tr>\n",
       "    <tr>\n",
       "      <th>...</th>\n",
       "      <td>...</td>\n",
       "      <td>...</td>\n",
       "      <td>...</td>\n",
       "    </tr>\n",
       "    <tr>\n",
       "      <th>145</th>\n",
       "      <td>146</td>\n",
       "      <td>S.S</td>\n",
       "      <td>https://www.tripadvisor.com//Attraction_Review...</td>\n",
       "    </tr>\n",
       "    <tr>\n",
       "      <th>146</th>\n",
       "      <td>147</td>\n",
       "      <td>Kenneth Hahn State Recreation Area</td>\n",
       "      <td>https://www.tripadvisor.com//Attraction_Review...</td>\n",
       "    </tr>\n",
       "    <tr>\n",
       "      <th>147</th>\n",
       "      <td>148</td>\n",
       "      <td>Geffen Playhouse</td>\n",
       "      <td>https://www.tripadvisor.com//Attraction_Review...</td>\n",
       "    </tr>\n",
       "    <tr>\n",
       "      <th>148</th>\n",
       "      <td>149</td>\n",
       "      <td>Los Angeles Police Museum</td>\n",
       "      <td>https://www.tripadvisor.com//Attraction_Review...</td>\n",
       "    </tr>\n",
       "    <tr>\n",
       "      <th>149</th>\n",
       "      <td>150</td>\n",
       "      <td>Melrose Place</td>\n",
       "      <td>https://www.tripadvisor.com//Attraction_Review...</td>\n",
       "    </tr>\n",
       "  </tbody>\n",
       "</table>\n",
       "<p>150 rows × 3 columns</p>\n",
       "</div>"
      ],
      "text/plain": [
       "    Rank                    Tourist Site Name  \\\n",
       "0      1                     The Getty Center   \n",
       "1      2                 Griffith Observatory   \n",
       "2      3          Universal Studios Hollywood   \n",
       "3      4           Petersen Automotive Museum   \n",
       "4      5  The Wizarding World of Harry Potter   \n",
       "..   ...                                  ...   \n",
       "145  146                                  S.S   \n",
       "146  147   Kenneth Hahn State Recreation Area   \n",
       "147  148                     Geffen Playhouse   \n",
       "148  149            Los Angeles Police Museum   \n",
       "149  150                        Melrose Place   \n",
       "\n",
       "                                             Site Link  \n",
       "0    https://www.tripadvisor.com//Attraction_Review...  \n",
       "1    https://www.tripadvisor.com//Attraction_Review...  \n",
       "2    https://www.tripadvisor.com//Attraction_Review...  \n",
       "3    https://www.tripadvisor.com//Attraction_Review...  \n",
       "4    https://www.tripadvisor.com//Attraction_Review...  \n",
       "..                                                 ...  \n",
       "145  https://www.tripadvisor.com//Attraction_Review...  \n",
       "146  https://www.tripadvisor.com//Attraction_Review...  \n",
       "147  https://www.tripadvisor.com//Attraction_Review...  \n",
       "148  https://www.tripadvisor.com//Attraction_Review...  \n",
       "149  https://www.tripadvisor.com//Attraction_Review...  \n",
       "\n",
       "[150 rows x 3 columns]"
      ]
     },
     "execution_count": 11,
     "metadata": {},
     "output_type": "execute_result"
    }
   ],
   "source": [
    "data = {\"Rank\": rank, \"Tourist Site Name\": tourist_site_name, \"Site Link\": tourist_site_link_update}\n",
    "df = pd.DataFrame.from_dict(data)\n",
    "df"
   ]
  },
  {
   "cell_type": "markdown",
   "id": "arctic-nerve",
   "metadata": {},
   "source": [
    "# Location After Input"
   ]
  },
  {
   "cell_type": "code",
   "execution_count": 12,
   "id": "bacterial-cocktail",
   "metadata": {},
   "outputs": [
    {
     "data": {
      "text/plain": [
       "['The Getty Center',\n",
       " 'Griffith Observatory',\n",
       " 'Universal Studios Hollywood',\n",
       " 'Petersen Automotive Museum',\n",
       " 'The Wizarding World of Harry Potter',\n",
       " 'Battleship USS Iowa Museum',\n",
       " 'The Broad',\n",
       " 'Staples Center',\n",
       " 'Griffith Park',\n",
       " 'The Grove',\n",
       " 'La Brea Tar Pits and Museum',\n",
       " 'Walt Disney Concert Hall',\n",
       " 'Natural History Museum of Los Angeles County',\n",
       " 'Runyon Canyon Park',\n",
       " 'Venice Canals Walkway',\n",
       " 'The Nethercutt Collection',\n",
       " 'Dodger Stadium',\n",
       " 'Union Station',\n",
       " 'Hollywood Sign',\n",
       " 'Bradbury Building',\n",
       " 'Lake Hollywood Park',\n",
       " 'Universal CityWalk Hollywood',\n",
       " 'Los Angeles County Museum of Art',\n",
       " 'Madame Tussauds Hollywood',\n",
       " 'Abbot Kinney Boulevard',\n",
       " 'Angels Flight Railway',\n",
       " 'University of California, Los Angeles (UCLA)',\n",
       " 'Hollywood Forever Cemetery',\n",
       " 'Citadel Outlets',\n",
       " 'Pantages Theatre',\n",
       " 'The Hollywood Museum',\n",
       " 'OUE Skyspace LA',\n",
       " 'Los Angeles Central Library',\n",
       " 'Olvera Street',\n",
       " 'Pierce Brothers Westwood Village Memorial Park',\n",
       " 'Dolby Theatre',\n",
       " 'The Greek Theatre',\n",
       " 'City Hall',\n",
       " 'Echo Park',\n",
       " 'Urban Light',\n",
       " 'Little Tokyo',\n",
       " 'Skirball Cultural Center',\n",
       " 'Hollywood Bowl Museum',\n",
       " 'Autry Museum of the American West',\n",
       " 'San Antonio Winery',\n",
       " 'Korean Bell of Friendship',\n",
       " 'Cathedral of Our Lady of the Angels',\n",
       " 'Topanga State Park',\n",
       " 'Diorama-museum of Bhagavad-gita',\n",
       " 'Holocaust Museum LA',\n",
       " 'Venice Beach',\n",
       " 'Hollywood Walk of Fame',\n",
       " 'Will Rogers State Historic Park',\n",
       " 'Venice Skatepark',\n",
       " 'Sunset Boulevard',\n",
       " 'Stahl House',\n",
       " 'Los Angeles Zoo & Botanical Gardens',\n",
       " 'Hollywood Hills',\n",
       " 'Hollyhock House',\n",
       " 'El Pueblo de Los Angeles',\n",
       " 'University of Southern California',\n",
       " 'Museum of Illusions',\n",
       " 'The Japanese Garden',\n",
       " 'Museum of Tolerance',\n",
       " 'Annenberg Space for Photography',\n",
       " 'Studio Tour',\n",
       " 'Hollywood Farmers Market',\n",
       " 'Mission San Fernando',\n",
       " 'Melrose Avenue',\n",
       " 'Japanese American National Museum',\n",
       " 'Bronson Caves',\n",
       " 'Eames House',\n",
       " 'Hollywood Bowl Overlook',\n",
       " 'Forest Lawn Memorial Park - Hollywood Hills',\n",
       " 'Museum of Selfies',\n",
       " 'Candy Cane Lane',\n",
       " 'L.A',\n",
       " 'GRAMMY Museum',\n",
       " 'Hollywood Boulevard',\n",
       " 'Angeles Crest Highway',\n",
       " 'Jurassic Park The Ride',\n",
       " 'Koreatown',\n",
       " 'Metro Rail',\n",
       " 'Venice Beach Boardwalk',\n",
       " 'Exposition Park',\n",
       " 'Microsoft Theater',\n",
       " 'Flight Path Learning Center & Museum',\n",
       " 'Watts Towers',\n",
       " 'Chinatown',\n",
       " 'Hollywood',\n",
       " 'Revenge of the Mummy - The Ride',\n",
       " 'Hollywood Bowl',\n",
       " 'Travel Town',\n",
       " 'Orpheum Theater',\n",
       " 'Lost Spirits Distillery',\n",
       " 'Ahmanson Theatre',\n",
       " 'Beverly Center',\n",
       " 'Avila Adobe',\n",
       " 'Transformers: The Ride - 3D',\n",
       " 'Flower Market',\n",
       " 'Lake Balboa Park',\n",
       " 'Marciano Art Foundation',\n",
       " 'Samuel Oschin Air & Space Center',\n",
       " 'Hollywood Wax Museum',\n",
       " 'Museum of Death',\n",
       " 'Harry Potter and the Forbidden Journey',\n",
       " 'Wiltern Theatre',\n",
       " 'Los Angeles Convention Center',\n",
       " 'LA Fashion District',\n",
       " 'The Museum of Contemporary Art',\n",
       " 'Westfield Topanga',\n",
       " \"Ripley's Believe It or Not!\",\n",
       " 'Mosaic Tile House',\n",
       " 'Playa Del Rey Beach',\n",
       " 'Temescal Gateway Park',\n",
       " 'Grand Park',\n",
       " 'Art District',\n",
       " 'Capitol Records Building',\n",
       " 'Los Angeles Memorial Coliseum',\n",
       " 'Mrs',\n",
       " 'Heritage Square Museum',\n",
       " 'Hollywood Reservoir',\n",
       " 'California African American Museum',\n",
       " 'Park La Brea',\n",
       " 'Dorothy Chandler Pavilion',\n",
       " 'Cabrillo Marine Aquarium',\n",
       " 'Wells Fargo Museum',\n",
       " 'Point Fermin Park',\n",
       " 'Hammer Museum',\n",
       " 'Dockweiler State Beach',\n",
       " 'Los Feliz',\n",
       " 'Banc of California Stadium',\n",
       " 'Will Rogers State Beach',\n",
       " 'Lake Shrine Temple and Retreat',\n",
       " 'The Santee Alley',\n",
       " 'Angelino Heights Historic Area',\n",
       " 'FIDM Museum and Galleries',\n",
       " 'Point Fermin Lighthouse',\n",
       " 'The Walking Dead Attraction',\n",
       " 'Cabrillo Beach',\n",
       " 'Bob Baker Marionette Theater',\n",
       " 'Hauser & Wirth',\n",
       " 'Downtown Historic District',\n",
       " 'Guinness World Records Museum',\n",
       " 'Wildlife Learning Center',\n",
       " 'S.S',\n",
       " 'Kenneth Hahn State Recreation Area',\n",
       " 'Geffen Playhouse',\n",
       " 'Los Angeles Police Museum',\n",
       " 'Melrose Place']"
      ]
     },
     "execution_count": 12,
     "metadata": {},
     "output_type": "execute_result"
    }
   ],
   "source": [
    "tourist_site_name"
   ]
  },
  {
   "cell_type": "markdown",
   "id": "occupied-faith",
   "metadata": {},
   "source": [
    "*** may update want_to_go_name to make it consider capital letter/ error message/ give example"
   ]
  },
  {
   "cell_type": "code",
   "execution_count": 14,
   "id": "tight-minutes",
   "metadata": {},
   "outputs": [],
   "source": [
    "def visit_tourist(df, want_to_go_name):\n",
    "    each_name = want_to_go_name.split(\".\")\n",
    "    \n",
    "    for name in each_name:\n",
    "        if name == each_name[0]:\n",
    "            visit_html = df[[\"Tourist Site Name\", \"Site Link\"]][df[\"Tourist Site Name\"] == name]\n",
    "        else:\n",
    "            visit_html = visit_html.append(df[[\"Tourist Site Name\", \"Site Link\"]][df[\"Tourist Site Name\"] == name])\n",
    "    \n",
    "    return visit_html"
   ]
  },
  {
   "cell_type": "code",
   "execution_count": 19,
   "id": "champion-priority",
   "metadata": {},
   "outputs": [
    {
     "name": "stdout",
     "output_type": "stream",
     "text": [
      "Which tourist sites do you want to go? (*please input the names of the tourist sites separated by a period)Chinatown.Geffen Playhouse.\n"
     ]
    }
   ],
   "source": [
    "want_to_go_name = str(input(\"Which tourist sites do you want to go? (*please input the names of the tourist sites separated by a period)\"))\n",
    "visit_html = visit_tourist(df, want_to_go_name)"
   ]
  },
  {
   "cell_type": "code",
   "execution_count": 20,
   "id": "continued-dairy",
   "metadata": {},
   "outputs": [],
   "source": [
    "def find_location(visit_html):\n",
    "    \n",
    "    location = []\n",
    "    \n",
    "    for link in visit_html[\"Site Link\"]:\n",
    "        html = requests.get(link)\n",
    "        bsobj = soup(html.content, \"lxml\")\n",
    "    \n",
    "        for loc in bsobj.find_all(\"script\", type = \"application/ld+json\"):\n",
    "            if \"streetAddress\" in loc.string:\n",
    "                find_part_html = loc.string.split(\"{\")\n",
    "                for street in find_part_html:\n",
    "                    if \"streetAddress\" in street:\n",
    "                        for value in street.split(\",\"):\n",
    "                            if \"streetAddress\" in value:\n",
    "                                street_name = value.split(\":\")[1][1:][:-1] + \", \"\n",
    "                                   \n",
    "                            if \"addressLocality\" in value:\n",
    "                                city_name = value.split(\":\")[1][1:][:-1] + \", \"\n",
    "                                 \n",
    "                            if \"postalCode\" in value:\n",
    "                                zipcode = \"CA \" + value.split(\":\")[1][1:][:-1]\n",
    "                            \n",
    "        location_info = street_name + city_name + zipcode\n",
    "        location.append(location_info)\n",
    "    \n",
    "    return location"
   ]
  },
  {
   "cell_type": "code",
   "execution_count": 21,
   "id": "featured-crawford",
   "metadata": {},
   "outputs": [],
   "source": [
    "location = find_location(visit_html)"
   ]
  },
  {
   "cell_type": "code",
   "execution_count": 22,
   "id": "unable-ethics",
   "metadata": {},
   "outputs": [
    {
     "data": {
      "text/plain": [
       "['N Broadway at North Hill St Downtown, Los Angeles, CA 90012',\n",
       " '10886 Le Conte Ave, Los Angeles, CA 90024-3098']"
      ]
     },
     "execution_count": 22,
     "metadata": {},
     "output_type": "execute_result"
    }
   ],
   "source": [
    "location"
   ]
  }
 ],
 "metadata": {
  "kernelspec": {
   "display_name": "Python [conda env:PIC16B] *",
   "language": "python",
   "name": "conda-env-PIC16B-py"
  },
  "language_info": {
   "codemirror_mode": {
    "name": "ipython",
    "version": 3
   },
   "file_extension": ".py",
   "mimetype": "text/x-python",
   "name": "python",
   "nbconvert_exporter": "python",
   "pygments_lexer": "ipython3",
   "version": "3.7.10"
  }
 },
 "nbformat": 4,
 "nbformat_minor": 5
}
